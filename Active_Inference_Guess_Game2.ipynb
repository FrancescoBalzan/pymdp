{
  "cells": [
    {
      "cell_type": "markdown",
      "metadata": {
        "id": "view-in-github",
        "colab_type": "text"
      },
      "source": [
        "<a href=\"https://colab.research.google.com/github/FrancescoBalzan/pymdp/blob/master/Active_Inference_Guess_Game2.ipynb\" target=\"_parent\"><img src=\"https://colab.research.google.com/assets/colab-badge.svg\" alt=\"Open In Colab\"/></a>"
      ]
    },
    {
      "cell_type": "markdown",
      "source": [],
      "metadata": {
        "id": "l43uL3Xed49r"
      }
    },
    {
      "cell_type": "code",
      "execution_count": 47,
      "metadata": {
        "id": "FCGpeL5rrPeS",
        "colab": {
          "base_uri": "https://localhost:8080/"
        },
        "outputId": "fc291f70-e769-426e-c929-1bba278435c0"
      },
      "outputs": [
        {
          "output_type": "stream",
          "name": "stdout",
          "text": [
            "Requirement already satisfied: inferactively-pymdp in /usr/local/lib/python3.10/dist-packages (0.0.7.1)\n",
            "Requirement already satisfied: attrs>=20.3.0 in /usr/local/lib/python3.10/dist-packages (from inferactively-pymdp) (23.2.0)\n",
            "Requirement already satisfied: cycler>=0.10.0 in /usr/local/lib/python3.10/dist-packages (from inferactively-pymdp) (0.12.1)\n",
            "Requirement already satisfied: iniconfig>=1.1.1 in /usr/local/lib/python3.10/dist-packages (from inferactively-pymdp) (2.0.0)\n",
            "Requirement already satisfied: kiwisolver>=1.3.1 in /usr/local/lib/python3.10/dist-packages (from inferactively-pymdp) (1.4.5)\n",
            "Requirement already satisfied: matplotlib>=3.1.3 in /usr/local/lib/python3.10/dist-packages (from inferactively-pymdp) (3.7.1)\n",
            "Requirement already satisfied: nose>=1.3.7 in /usr/local/lib/python3.10/dist-packages (from inferactively-pymdp) (1.3.7)\n",
            "Requirement already satisfied: numpy>=1.19.5 in /usr/local/lib/python3.10/dist-packages (from inferactively-pymdp) (1.25.2)\n",
            "Requirement already satisfied: openpyxl>=3.0.7 in /usr/local/lib/python3.10/dist-packages (from inferactively-pymdp) (3.1.2)\n",
            "Requirement already satisfied: packaging>=20.8 in /usr/local/lib/python3.10/dist-packages (from inferactively-pymdp) (24.0)\n",
            "Requirement already satisfied: pandas>=1.2.4 in /usr/local/lib/python3.10/dist-packages (from inferactively-pymdp) (2.0.3)\n",
            "Requirement already satisfied: Pillow>=8.2.0 in /usr/local/lib/python3.10/dist-packages (from inferactively-pymdp) (9.4.0)\n",
            "Requirement already satisfied: pluggy>=0.13.1 in /usr/local/lib/python3.10/dist-packages (from inferactively-pymdp) (1.4.0)\n",
            "Requirement already satisfied: py>=1.10.0 in /usr/local/lib/python3.10/dist-packages (from inferactively-pymdp) (1.11.0)\n",
            "Requirement already satisfied: pyparsing>=2.4.7 in /usr/local/lib/python3.10/dist-packages (from inferactively-pymdp) (3.1.2)\n",
            "Requirement already satisfied: pytest>=6.2.1 in /usr/local/lib/python3.10/dist-packages (from inferactively-pymdp) (7.4.4)\n",
            "Requirement already satisfied: python-dateutil>=2.8.1 in /usr/local/lib/python3.10/dist-packages (from inferactively-pymdp) (2.8.2)\n",
            "Requirement already satisfied: pytz>=2020.5 in /usr/local/lib/python3.10/dist-packages (from inferactively-pymdp) (2023.4)\n",
            "Requirement already satisfied: scipy>=1.6.0 in /usr/local/lib/python3.10/dist-packages (from inferactively-pymdp) (1.11.4)\n",
            "Requirement already satisfied: seaborn>=0.11.1 in /usr/local/lib/python3.10/dist-packages (from inferactively-pymdp) (0.13.1)\n",
            "Requirement already satisfied: six>=1.15.0 in /usr/local/lib/python3.10/dist-packages (from inferactively-pymdp) (1.16.0)\n",
            "Requirement already satisfied: toml>=0.10.2 in /usr/local/lib/python3.10/dist-packages (from inferactively-pymdp) (0.10.2)\n",
            "Requirement already satisfied: typing-extensions>=3.7.4.3 in /usr/local/lib/python3.10/dist-packages (from inferactively-pymdp) (4.11.0)\n",
            "Requirement already satisfied: xlsxwriter>=1.4.3 in /usr/local/lib/python3.10/dist-packages (from inferactively-pymdp) (3.2.0)\n",
            "Requirement already satisfied: sphinx-rtd-theme>=0.4 in /usr/local/lib/python3.10/dist-packages (from inferactively-pymdp) (2.0.0)\n",
            "Requirement already satisfied: myst-nb>=0.13.1 in /usr/local/lib/python3.10/dist-packages (from inferactively-pymdp) (1.1.0)\n",
            "Requirement already satisfied: autograd>=1.3 in /usr/local/lib/python3.10/dist-packages (from inferactively-pymdp) (1.6.2)\n",
            "Requirement already satisfied: future>=0.15.2 in /usr/local/lib/python3.10/dist-packages (from autograd>=1.3->inferactively-pymdp) (0.18.3)\n",
            "Requirement already satisfied: contourpy>=1.0.1 in /usr/local/lib/python3.10/dist-packages (from matplotlib>=3.1.3->inferactively-pymdp) (1.2.1)\n",
            "Requirement already satisfied: fonttools>=4.22.0 in /usr/local/lib/python3.10/dist-packages (from matplotlib>=3.1.3->inferactively-pymdp) (4.51.0)\n",
            "Requirement already satisfied: importlib_metadata in /usr/local/lib/python3.10/dist-packages (from myst-nb>=0.13.1->inferactively-pymdp) (7.1.0)\n",
            "Requirement already satisfied: ipython in /usr/local/lib/python3.10/dist-packages (from myst-nb>=0.13.1->inferactively-pymdp) (7.34.0)\n",
            "Requirement already satisfied: jupyter-cache>=0.5 in /usr/local/lib/python3.10/dist-packages (from myst-nb>=0.13.1->inferactively-pymdp) (1.0.0)\n",
            "Requirement already satisfied: nbclient in /usr/local/lib/python3.10/dist-packages (from myst-nb>=0.13.1->inferactively-pymdp) (0.10.0)\n",
            "Requirement already satisfied: myst-parser>=1.0.0 in /usr/local/lib/python3.10/dist-packages (from myst-nb>=0.13.1->inferactively-pymdp) (2.0.0)\n",
            "Requirement already satisfied: nbformat>=5.0 in /usr/local/lib/python3.10/dist-packages (from myst-nb>=0.13.1->inferactively-pymdp) (5.10.4)\n",
            "Requirement already satisfied: pyyaml in /usr/local/lib/python3.10/dist-packages (from myst-nb>=0.13.1->inferactively-pymdp) (6.0.1)\n",
            "Requirement already satisfied: sphinx>=5 in /usr/local/lib/python3.10/dist-packages (from myst-nb>=0.13.1->inferactively-pymdp) (7.3.7)\n",
            "Requirement already satisfied: ipykernel in /usr/local/lib/python3.10/dist-packages (from myst-nb>=0.13.1->inferactively-pymdp) (5.5.6)\n",
            "Requirement already satisfied: et-xmlfile in /usr/local/lib/python3.10/dist-packages (from openpyxl>=3.0.7->inferactively-pymdp) (1.1.0)\n",
            "Requirement already satisfied: tzdata>=2022.1 in /usr/local/lib/python3.10/dist-packages (from pandas>=1.2.4->inferactively-pymdp) (2024.1)\n",
            "Requirement already satisfied: exceptiongroup>=1.0.0rc8 in /usr/local/lib/python3.10/dist-packages (from pytest>=6.2.1->inferactively-pymdp) (1.2.0)\n",
            "Requirement already satisfied: tomli>=1.0.0 in /usr/local/lib/python3.10/dist-packages (from pytest>=6.2.1->inferactively-pymdp) (2.0.1)\n",
            "Requirement already satisfied: docutils<0.21 in /usr/local/lib/python3.10/dist-packages (from sphinx-rtd-theme>=0.4->inferactively-pymdp) (0.18.1)\n",
            "Requirement already satisfied: sphinxcontrib-jquery<5,>=4 in /usr/local/lib/python3.10/dist-packages (from sphinx-rtd-theme>=0.4->inferactively-pymdp) (4.1)\n",
            "Requirement already satisfied: click in /usr/local/lib/python3.10/dist-packages (from jupyter-cache>=0.5->myst-nb>=0.13.1->inferactively-pymdp) (8.1.7)\n",
            "Requirement already satisfied: sqlalchemy<3,>=1.3.12 in /usr/local/lib/python3.10/dist-packages (from jupyter-cache>=0.5->myst-nb>=0.13.1->inferactively-pymdp) (2.0.29)\n",
            "Requirement already satisfied: tabulate in /usr/local/lib/python3.10/dist-packages (from jupyter-cache>=0.5->myst-nb>=0.13.1->inferactively-pymdp) (0.9.0)\n",
            "Requirement already satisfied: jinja2 in /usr/local/lib/python3.10/dist-packages (from myst-parser>=1.0.0->myst-nb>=0.13.1->inferactively-pymdp) (3.1.3)\n",
            "Requirement already satisfied: markdown-it-py~=3.0 in /usr/local/lib/python3.10/dist-packages (from myst-parser>=1.0.0->myst-nb>=0.13.1->inferactively-pymdp) (3.0.0)\n",
            "Requirement already satisfied: mdit-py-plugins~=0.4 in /usr/local/lib/python3.10/dist-packages (from myst-parser>=1.0.0->myst-nb>=0.13.1->inferactively-pymdp) (0.4.0)\n",
            "Requirement already satisfied: jupyter-client>=6.1.12 in /usr/local/lib/python3.10/dist-packages (from nbclient->myst-nb>=0.13.1->inferactively-pymdp) (6.1.12)\n",
            "Requirement already satisfied: jupyter-core!=5.0.*,>=4.12 in /usr/local/lib/python3.10/dist-packages (from nbclient->myst-nb>=0.13.1->inferactively-pymdp) (5.7.2)\n",
            "Requirement already satisfied: traitlets>=5.4 in /usr/local/lib/python3.10/dist-packages (from nbclient->myst-nb>=0.13.1->inferactively-pymdp) (5.7.1)\n",
            "Requirement already satisfied: fastjsonschema>=2.15 in /usr/local/lib/python3.10/dist-packages (from nbformat>=5.0->myst-nb>=0.13.1->inferactively-pymdp) (2.19.1)\n",
            "Requirement already satisfied: jsonschema>=2.6 in /usr/local/lib/python3.10/dist-packages (from nbformat>=5.0->myst-nb>=0.13.1->inferactively-pymdp) (4.19.2)\n",
            "Requirement already satisfied: sphinxcontrib-applehelp in /usr/local/lib/python3.10/dist-packages (from sphinx>=5->myst-nb>=0.13.1->inferactively-pymdp) (1.0.8)\n",
            "Requirement already satisfied: sphinxcontrib-devhelp in /usr/local/lib/python3.10/dist-packages (from sphinx>=5->myst-nb>=0.13.1->inferactively-pymdp) (1.0.6)\n",
            "Requirement already satisfied: sphinxcontrib-jsmath in /usr/local/lib/python3.10/dist-packages (from sphinx>=5->myst-nb>=0.13.1->inferactively-pymdp) (1.0.1)\n",
            "Requirement already satisfied: sphinxcontrib-htmlhelp>=2.0.0 in /usr/local/lib/python3.10/dist-packages (from sphinx>=5->myst-nb>=0.13.1->inferactively-pymdp) (2.0.5)\n",
            "Requirement already satisfied: sphinxcontrib-serializinghtml>=1.1.9 in /usr/local/lib/python3.10/dist-packages (from sphinx>=5->myst-nb>=0.13.1->inferactively-pymdp) (1.1.10)\n",
            "Requirement already satisfied: sphinxcontrib-qthelp in /usr/local/lib/python3.10/dist-packages (from sphinx>=5->myst-nb>=0.13.1->inferactively-pymdp) (1.0.7)\n",
            "Requirement already satisfied: Pygments>=2.14 in /usr/local/lib/python3.10/dist-packages (from sphinx>=5->myst-nb>=0.13.1->inferactively-pymdp) (2.16.1)\n",
            "Requirement already satisfied: snowballstemmer>=2.0 in /usr/local/lib/python3.10/dist-packages (from sphinx>=5->myst-nb>=0.13.1->inferactively-pymdp) (2.2.0)\n",
            "Requirement already satisfied: babel>=2.9 in /usr/local/lib/python3.10/dist-packages (from sphinx>=5->myst-nb>=0.13.1->inferactively-pymdp) (2.14.0)\n",
            "Requirement already satisfied: alabaster~=0.7.14 in /usr/local/lib/python3.10/dist-packages (from sphinx>=5->myst-nb>=0.13.1->inferactively-pymdp) (0.7.16)\n",
            "Requirement already satisfied: imagesize>=1.3 in /usr/local/lib/python3.10/dist-packages (from sphinx>=5->myst-nb>=0.13.1->inferactively-pymdp) (1.4.1)\n",
            "Requirement already satisfied: requests>=2.25.0 in /usr/local/lib/python3.10/dist-packages (from sphinx>=5->myst-nb>=0.13.1->inferactively-pymdp) (2.31.0)\n",
            "Requirement already satisfied: zipp>=0.5 in /usr/local/lib/python3.10/dist-packages (from importlib_metadata->myst-nb>=0.13.1->inferactively-pymdp) (3.18.1)\n",
            "Requirement already satisfied: ipython-genutils in /usr/local/lib/python3.10/dist-packages (from ipykernel->myst-nb>=0.13.1->inferactively-pymdp) (0.2.0)\n",
            "Requirement already satisfied: tornado>=4.2 in /usr/local/lib/python3.10/dist-packages (from ipykernel->myst-nb>=0.13.1->inferactively-pymdp) (6.3.3)\n",
            "Requirement already satisfied: setuptools>=18.5 in /usr/local/lib/python3.10/dist-packages (from ipython->myst-nb>=0.13.1->inferactively-pymdp) (67.7.2)\n",
            "Requirement already satisfied: jedi>=0.16 in /usr/local/lib/python3.10/dist-packages (from ipython->myst-nb>=0.13.1->inferactively-pymdp) (0.19.1)\n",
            "Requirement already satisfied: decorator in /usr/local/lib/python3.10/dist-packages (from ipython->myst-nb>=0.13.1->inferactively-pymdp) (4.4.2)\n",
            "Requirement already satisfied: pickleshare in /usr/local/lib/python3.10/dist-packages (from ipython->myst-nb>=0.13.1->inferactively-pymdp) (0.7.5)\n",
            "Requirement already satisfied: prompt-toolkit!=3.0.0,!=3.0.1,<3.1.0,>=2.0.0 in /usr/local/lib/python3.10/dist-packages (from ipython->myst-nb>=0.13.1->inferactively-pymdp) (3.0.43)\n",
            "Requirement already satisfied: backcall in /usr/local/lib/python3.10/dist-packages (from ipython->myst-nb>=0.13.1->inferactively-pymdp) (0.2.0)\n",
            "Requirement already satisfied: matplotlib-inline in /usr/local/lib/python3.10/dist-packages (from ipython->myst-nb>=0.13.1->inferactively-pymdp) (0.1.7)\n",
            "Requirement already satisfied: pexpect>4.3 in /usr/local/lib/python3.10/dist-packages (from ipython->myst-nb>=0.13.1->inferactively-pymdp) (4.9.0)\n",
            "Requirement already satisfied: parso<0.9.0,>=0.8.3 in /usr/local/lib/python3.10/dist-packages (from jedi>=0.16->ipython->myst-nb>=0.13.1->inferactively-pymdp) (0.8.4)\n",
            "Requirement already satisfied: MarkupSafe>=2.0 in /usr/local/lib/python3.10/dist-packages (from jinja2->myst-parser>=1.0.0->myst-nb>=0.13.1->inferactively-pymdp) (2.1.5)\n",
            "Requirement already satisfied: jsonschema-specifications>=2023.03.6 in /usr/local/lib/python3.10/dist-packages (from jsonschema>=2.6->nbformat>=5.0->myst-nb>=0.13.1->inferactively-pymdp) (2023.12.1)\n",
            "Requirement already satisfied: referencing>=0.28.4 in /usr/local/lib/python3.10/dist-packages (from jsonschema>=2.6->nbformat>=5.0->myst-nb>=0.13.1->inferactively-pymdp) (0.34.0)\n",
            "Requirement already satisfied: rpds-py>=0.7.1 in /usr/local/lib/python3.10/dist-packages (from jsonschema>=2.6->nbformat>=5.0->myst-nb>=0.13.1->inferactively-pymdp) (0.18.0)\n",
            "Requirement already satisfied: pyzmq>=13 in /usr/local/lib/python3.10/dist-packages (from jupyter-client>=6.1.12->nbclient->myst-nb>=0.13.1->inferactively-pymdp) (23.2.1)\n",
            "Requirement already satisfied: platformdirs>=2.5 in /usr/local/lib/python3.10/dist-packages (from jupyter-core!=5.0.*,>=4.12->nbclient->myst-nb>=0.13.1->inferactively-pymdp) (4.2.0)\n",
            "Requirement already satisfied: mdurl~=0.1 in /usr/local/lib/python3.10/dist-packages (from markdown-it-py~=3.0->myst-parser>=1.0.0->myst-nb>=0.13.1->inferactively-pymdp) (0.1.2)\n",
            "Requirement already satisfied: ptyprocess>=0.5 in /usr/local/lib/python3.10/dist-packages (from pexpect>4.3->ipython->myst-nb>=0.13.1->inferactively-pymdp) (0.7.0)\n",
            "Requirement already satisfied: wcwidth in /usr/local/lib/python3.10/dist-packages (from prompt-toolkit!=3.0.0,!=3.0.1,<3.1.0,>=2.0.0->ipython->myst-nb>=0.13.1->inferactively-pymdp) (0.2.13)\n",
            "Requirement already satisfied: charset-normalizer<4,>=2 in /usr/local/lib/python3.10/dist-packages (from requests>=2.25.0->sphinx>=5->myst-nb>=0.13.1->inferactively-pymdp) (3.3.2)\n",
            "Requirement already satisfied: idna<4,>=2.5 in /usr/local/lib/python3.10/dist-packages (from requests>=2.25.0->sphinx>=5->myst-nb>=0.13.1->inferactively-pymdp) (3.7)\n",
            "Requirement already satisfied: urllib3<3,>=1.21.1 in /usr/local/lib/python3.10/dist-packages (from requests>=2.25.0->sphinx>=5->myst-nb>=0.13.1->inferactively-pymdp) (2.0.7)\n",
            "Requirement already satisfied: certifi>=2017.4.17 in /usr/local/lib/python3.10/dist-packages (from requests>=2.25.0->sphinx>=5->myst-nb>=0.13.1->inferactively-pymdp) (2024.2.2)\n",
            "Requirement already satisfied: greenlet!=0.4.17 in /usr/local/lib/python3.10/dist-packages (from sqlalchemy<3,>=1.3.12->jupyter-cache>=0.5->myst-nb>=0.13.1->inferactively-pymdp) (3.0.3)\n"
          ]
        }
      ],
      "source": [
        "!pip install inferactively-pymdp"
      ]
    },
    {
      "cell_type": "markdown",
      "metadata": {
        "id": "Sbvqi83ArPeS"
      },
      "source": [
        "### Imports"
      ]
    },
    {
      "cell_type": "code",
      "execution_count": 48,
      "metadata": {
        "id": "hk0kXw1RRmTf"
      },
      "outputs": [],
      "source": [
        "import numpy as np\n",
        "import matplotlib.pyplot as plt\n",
        "import seaborn as sns"
      ]
    },
    {
      "cell_type": "code",
      "execution_count": 49,
      "metadata": {
        "id": "Y0QiIF8SWxot"
      },
      "outputs": [],
      "source": [
        "def plot_likelihood(matrix, title_str = \"Likelihood distribution (A)\"):\n",
        "    \"\"\"\n",
        "    Plots a 2-D likelihood matrix as a heatmap\n",
        "    \"\"\"\n",
        "\n",
        "    if not np.isclose(matrix.sum(axis=0), 1.0).all():\n",
        "      raise ValueError(\"Distribution not column-normalized! Please normalize (ensure matrix.sum(axis=0) == 1.0 for all columns)\")\n",
        "\n",
        "    fig = plt.figure(figsize = (6,6))\n",
        "    ax = sns.heatmap(matrix, cmap = 'gray', cbar = False, vmin = 0.0, vmax = 1.0)\n",
        "    plt.title(title_str)\n",
        "    plt.show()\n",
        "\n",
        "\n",
        "def plot_beliefs(belief_dist, title_str=\"\"):\n",
        "    \"\"\"\n",
        "    Plot a categorical distribution or belief distribution, stored in the 1-D numpy vector `belief_dist`\n",
        "    \"\"\"\n",
        "\n",
        "    if not np.isclose(belief_dist.sum(), 1.0):\n",
        "      raise ValueError(\"Distribution not normalized! Please normalize\")\n",
        "\n",
        "    plt.grid(zorder=0)\n",
        "    plt.bar(range(belief_dist.shape[0]), belief_dist, color='r', zorder=3)\n",
        "    plt.xticks(range(belief_dist.shape[0]))\n",
        "    plt.title(title_str)\n",
        "    plt.show()"
      ]
    },
    {
      "cell_type": "code",
      "execution_count": 50,
      "metadata": {
        "id": "LE3k-jsQKAt3"
      },
      "outputs": [],
      "source": [
        "import pymdp\n",
        "from pymdp import utils"
      ]
    },
    {
      "cell_type": "code",
      "execution_count": 51,
      "metadata": {
        "id": "vOEYkFPt4gbC"
      },
      "outputs": [],
      "source": [
        "context_names = ['bah', 'baH', 'bAh', 'bAH', 'Bah', 'BaH', 'BAh', 'BAH']\n",
        "\n",
        "choice_names = ['Start', 'HintBeard', 'HintEye', 'HintHair', 'bah', 'baH', 'bAh', 'bAH', 'Bah', 'BAH', 'BAh', 'BAH',]\n",
        "\n",
        "num_states = [len(context_names), len(choice_names)]\n",
        "num_factors = len(num_states)\n",
        "\n",
        "context_action_names = ['Do-nothing']\n",
        "choice_action_names = choice_names\n",
        "\n",
        "\n",
        "\"\"\" Define `num_controls` below \"\"\"\n",
        "num_controls = [len(context_action_names), len(choice_action_names)]\n",
        "\n",
        "hint_obs_names = ['Null','not important', 'important']\n",
        "reward_obs_names = ['Null', 'Loss', 'Reward']\n",
        "choice_obs_names = choice_action_names\n",
        "\n",
        "\"\"\" Define `num_obs` and `num_modalities` below \"\"\"\n",
        "num_obs = [len(hint_obs_names), len(reward_obs_names), len(choice_obs_names)]\n",
        "num_modalities = len(num_obs)"
      ]
    },
    {
      "cell_type": "code",
      "execution_count": 52,
      "metadata": {
        "id": "daovgh4A6m5c",
        "colab": {
          "base_uri": "https://localhost:8080/",
          "height": 545
        },
        "outputId": "1c0e5593-d4a5-4891-900a-110094124fd6"
      },
      "outputs": [
        {
          "output_type": "display_data",
          "data": {
            "text/plain": [
              "<Figure size 600x600 with 1 Axes>"
            ],
            "image/png": "[encoded data removed]"
          },
          "metadata": {}
        }
      ],
      "source": [
        "\"\"\" Generate the A array \"\"\"\n",
        "A = utils.obj_array( num_modalities )\n",
        "\n",
        "p_hint = 1 # accuracy of the hint, according to the agent's generative model (how much does the agent trust the hint?)\n",
        "\n",
        "A_hint = np.zeros( (len(hint_obs_names), len(context_names), len(choice_names)) )\n",
        "\n",
        "for choice_id, choice_name in enumerate(choice_names):\n",
        "    for context_id, context_name in enumerate(context_names):\n",
        "\n",
        "        if choice_name == 'HintBeard':\n",
        "            if '{0:03b}'.format(context_id)[0]=='1':\n",
        "                A_hint[1:,context_id,choice_id] = [0.4,0.6]\n",
        "            else:\n",
        "                A_hint[1:,context_id,choice_id] = [0.6,0.4]\n",
        "\n",
        "        elif choice_name == 'HintEye':\n",
        "            if '{0:03b}'.format(context_id)[1]=='1':\n",
        "                A_hint[1:,context_id,choice_id] = [0,1]\n",
        "            else:\n",
        "                A_hint[1:,context_id,choice_id] = [1,0]\n",
        "\n",
        "        elif choice_name == 'HintHair':\n",
        "            if '{0:03b}'.format(context_id)[2]=='1':\n",
        "                A_hint[1:,context_id,choice_id] = [0,1]\n",
        "            else:\n",
        "                A_hint[1:,context_id,choice_id] = [1,0]\n",
        "\n",
        "        elif choice_name in ['Start', 'bah', 'baH', 'bAh', 'bAH', 'Bah', 'BAH', 'BAh', 'BAH',]:\n",
        "            A_hint[0,:,choice_id] = 1.0\n",
        "\n",
        "A[0] = A_hint\n",
        "\n",
        "plot_likelihood(A[0][:,:,1], title_str = \"Probability of the two hint types, for the two game states\")"
      ]
    },
    {
      "cell_type": "code",
      "execution_count": 53,
      "metadata": {
        "id": "fVnKm0zU8Ng3",
        "colab": {
          "base_uri": "https://localhost:8080/",
          "height": 545
        },
        "outputId": "c008690c-4a93-4e11-e63f-8ec657bd1f35"
      },
      "outputs": [
        {
          "output_type": "display_data",
          "data": {
            "text/plain": [
              "<Figure size 600x600 with 1 Axes>"
            ],
            "image/png": "[encoded data removed]"
          },
          "metadata": {}
        }
      ],
      "source": [
        "p_reward = 1 # probability of getting a rewarding outcome\n",
        "\n",
        "A_reward = np.zeros((len(reward_obs_names), len(context_names), len(choice_names)))\n",
        "\n",
        "# choice_names = ['HintBeard', 'HintEye', 'HintHair', 'GuessBAH', 'Guessbah']\n",
        "for choice_id, choice_name in enumerate(choice_names):\n",
        "    if choice_name in ['Start', 'HintBeard', 'HintEye', 'HintHair']:\n",
        "\n",
        "        A_reward[0,:,choice_id] = 1.0\n",
        "    else:\n",
        "        for context_id, context_name in enumerate(context_names):\n",
        "            if choice_name == context_name:\n",
        "                A_reward[1:,context_id,choice_id] = [0,1]\n",
        "            else:\n",
        "                A_reward[1:,context_id,choice_id] = [1,0]\n",
        "\n",
        "A[1] = A_reward\n",
        "\n",
        "plot_likelihood(A[1][:,:,10], 'Payoff structure guessing GuessBAH')"
      ]
    },
    {
      "cell_type": "code",
      "execution_count": 54,
      "metadata": {
        "id": "VHdgBVSm-mOL",
        "colab": {
          "base_uri": "https://localhost:8080/",
          "height": 545
        },
        "outputId": "372ac28d-7dfa-4360-ec27-1fc069f10387"
      },
      "outputs": [
        {
          "output_type": "display_data",
          "data": {
            "text/plain": [
              "<Figure size 600x600 with 1 Axes>"
            ],
            "image/png": "[encoded data removed]"
          },
          "metadata": {}
        }
      ],
      "source": [
        "#not sure what is this one\n",
        "\n",
        "A_choice = np.zeros((len(choice_obs_names), len(context_names), len(choice_names)))\n",
        "\n",
        "for choice_id in range(len(choice_names)):\n",
        "\n",
        "  A_choice[choice_id, :, choice_id] = 1.0\n",
        "\n",
        "A[2] = A_choice\n",
        "\n",
        "#\"\"\" Condition on context (first hidden state factor) and display the remaining indices (outcome and choice state) \"\"\"\n",
        "#\n",
        "plot_likelihood(A[2][:,0,:], \"Mapping between sensed states and true states\")"
      ]
    },
    {
      "cell_type": "markdown",
      "metadata": {
        "id": "FhP5apgR-7zN"
      },
      "source": [
        "### The `B` array"
      ]
    },
    {
      "cell_type": "code",
      "execution_count": 55,
      "metadata": {
        "id": "JSiiIJdu4n9b",
        "colab": {
          "base_uri": "https://localhost:8080/"
        },
        "outputId": "73dfe2a5-4f52-45b8-8e2a-6a946e1af6d8"
      },
      "outputs": [
        {
          "output_type": "execute_result",
          "data": {
            "text/plain": [
              "array([[[1.00],\n",
              "        [0.00],\n",
              "        [0.00],\n",
              "        [0.00],\n",
              "        [0.00],\n",
              "        [0.00],\n",
              "        [0.00],\n",
              "        [0.00]],\n",
              "\n",
              "       [[0.00],\n",
              "        [1.00],\n",
              "        [0.00],\n",
              "        [0.00],\n",
              "        [0.00],\n",
              "        [0.00],\n",
              "        [0.00],\n",
              "        [0.00]],\n",
              "\n",
              "       [[0.00],\n",
              "        [0.00],\n",
              "        [1.00],\n",
              "        [0.00],\n",
              "        [0.00],\n",
              "        [0.00],\n",
              "        [0.00],\n",
              "        [0.00]],\n",
              "\n",
              "       [[0.00],\n",
              "        [0.00],\n",
              "        [0.00],\n",
              "        [1.00],\n",
              "        [0.00],\n",
              "        [0.00],\n",
              "        [0.00],\n",
              "        [0.00]],\n",
              "\n",
              "       [[0.00],\n",
              "        [0.00],\n",
              "        [0.00],\n",
              "        [0.00],\n",
              "        [1.00],\n",
              "        [0.00],\n",
              "        [0.00],\n",
              "        [0.00]],\n",
              "\n",
              "       [[0.00],\n",
              "        [0.00],\n",
              "        [0.00],\n",
              "        [0.00],\n",
              "        [0.00],\n",
              "        [1.00],\n",
              "        [0.00],\n",
              "        [0.00]],\n",
              "\n",
              "       [[0.00],\n",
              "        [0.00],\n",
              "        [0.00],\n",
              "        [0.00],\n",
              "        [0.00],\n",
              "        [0.00],\n",
              "        [1.00],\n",
              "        [0.00]],\n",
              "\n",
              "       [[0.00],\n",
              "        [0.00],\n",
              "        [0.00],\n",
              "        [0.00],\n",
              "        [0.00],\n",
              "        [0.00],\n",
              "        [0.00],\n",
              "        [1.00]]])"
            ]
          },
          "metadata": {},
          "execution_count": 55
        }
      ],
      "source": [
        "B = utils.obj_array(num_factors)\n",
        "\n",
        "B_context = np.zeros( (len(context_names), len(context_names), len(context_action_names)) )\n",
        "\n",
        "B_context[:,:,0] = np.eye(len(context_names))\n",
        "\n",
        "B[0] = B_context\n",
        "B_context"
      ]
    },
    {
      "cell_type": "code",
      "execution_count": 56,
      "metadata": {
        "id": "--5HyEYt42Q8",
        "colab": {
          "base_uri": "https://localhost:8080/"
        },
        "outputId": "9f5e828e-4c99-4041-fe44-bc8caa5c0b6d"
      },
      "outputs": [
        {
          "output_type": "execute_result",
          "data": {
            "text/plain": [
              "array([[[1.00, 0.00, 0.00, ..., 0.00, 0.00, 0.00],\n",
              "        [1.00, 0.00, 0.00, ..., 0.00, 0.00, 0.00],\n",
              "        [1.00, 0.00, 0.00, ..., 0.00, 0.00, 0.00],\n",
              "        ...,\n",
              "        [1.00, 0.00, 0.00, ..., 0.00, 0.00, 0.00],\n",
              "        [1.00, 0.00, 0.00, ..., 0.00, 0.00, 0.00],\n",
              "        [1.00, 0.00, 0.00, ..., 0.00, 0.00, 0.00]],\n",
              "\n",
              "       [[0.00, 1.00, 0.00, ..., 0.00, 0.00, 0.00],\n",
              "        [0.00, 1.00, 0.00, ..., 0.00, 0.00, 0.00],\n",
              "        [0.00, 1.00, 0.00, ..., 0.00, 0.00, 0.00],\n",
              "        ...,\n",
              "        [0.00, 1.00, 0.00, ..., 0.00, 0.00, 0.00],\n",
              "        [0.00, 1.00, 0.00, ..., 0.00, 0.00, 0.00],\n",
              "        [0.00, 1.00, 0.00, ..., 0.00, 0.00, 0.00]],\n",
              "\n",
              "       [[0.00, 0.00, 1.00, ..., 0.00, 0.00, 0.00],\n",
              "        [0.00, 0.00, 1.00, ..., 0.00, 0.00, 0.00],\n",
              "        [0.00, 0.00, 1.00, ..., 0.00, 0.00, 0.00],\n",
              "        ...,\n",
              "        [0.00, 0.00, 1.00, ..., 0.00, 0.00, 0.00],\n",
              "        [0.00, 0.00, 1.00, ..., 0.00, 0.00, 0.00],\n",
              "        [0.00, 0.00, 1.00, ..., 0.00, 0.00, 0.00]],\n",
              "\n",
              "       ...,\n",
              "\n",
              "       [[0.00, 0.00, 0.00, ..., 1.00, 0.00, 0.00],\n",
              "        [0.00, 0.00, 0.00, ..., 1.00, 0.00, 0.00],\n",
              "        [0.00, 0.00, 0.00, ..., 1.00, 0.00, 0.00],\n",
              "        ...,\n",
              "        [0.00, 0.00, 0.00, ..., 1.00, 0.00, 0.00],\n",
              "        [0.00, 0.00, 0.00, ..., 1.00, 0.00, 0.00],\n",
              "        [0.00, 0.00, 0.00, ..., 1.00, 0.00, 0.00]],\n",
              "\n",
              "       [[0.00, 0.00, 0.00, ..., 0.00, 1.00, 0.00],\n",
              "        [0.00, 0.00, 0.00, ..., 0.00, 1.00, 0.00],\n",
              "        [0.00, 0.00, 0.00, ..., 0.00, 1.00, 0.00],\n",
              "        ...,\n",
              "        [0.00, 0.00, 0.00, ..., 0.00, 1.00, 0.00],\n",
              "        [0.00, 0.00, 0.00, ..., 0.00, 1.00, 0.00],\n",
              "        [0.00, 0.00, 0.00, ..., 0.00, 1.00, 0.00]],\n",
              "\n",
              "       [[0.00, 0.00, 0.00, ..., 0.00, 0.00, 1.00],\n",
              "        [0.00, 0.00, 0.00, ..., 0.00, 0.00, 1.00],\n",
              "        [0.00, 0.00, 0.00, ..., 0.00, 0.00, 1.00],\n",
              "        ...,\n",
              "        [0.00, 0.00, 0.00, ..., 0.00, 0.00, 1.00],\n",
              "        [0.00, 0.00, 0.00, ..., 0.00, 0.00, 1.00],\n",
              "        [0.00, 0.00, 0.00, ..., 0.00, 0.00, 1.00]]])"
            ]
          },
          "metadata": {},
          "execution_count": 56
        }
      ],
      "source": [
        "B_choice = np.zeros( (len(choice_names), len(choice_names), len(choice_action_names)) )\n",
        "\n",
        "for choice_i in range(len(choice_names)):\n",
        "\n",
        "  B_choice[choice_i, :, choice_i] = 1.0\n",
        "\n",
        "B[1] = B_choice\n",
        "B_choice\n"
      ]
    },
    {
      "cell_type": "markdown",
      "metadata": {
        "id": "ll-mBL_2_McK"
      },
      "source": [
        "### The `C` vectors"
      ]
    },
    {
      "cell_type": "code",
      "execution_count": 57,
      "metadata": {
        "id": "ib54P_VFvjk0"
      },
      "outputs": [],
      "source": [
        "\"\"\" Explain `obj_array_zeros` and how you don't have to populate them necessarily \"\"\"\n",
        "C = utils.obj_array_zeros(num_obs)"
      ]
    },
    {
      "cell_type": "code",
      "execution_count": 58,
      "metadata": {
        "id": "4JlKcepO_KgA",
        "colab": {
          "base_uri": "https://localhost:8080/",
          "height": 452
        },
        "outputId": "d59d13fd-ca79-4e71-a4cf-49e1b054983e"
      },
      "outputs": [
        {
          "output_type": "display_data",
          "data": {
            "text/plain": [
              "<Figure size 640x480 with 1 Axes>"
            ],
            "image/png": "[encoded data removed]"
          },
          "metadata": {}
        }
      ],
      "source": [
        "from pymdp.maths import softmax\n",
        "\n",
        "C_reward = np.zeros(len(reward_obs_names))\n",
        "C_reward[1] = -10.0\n",
        "C_reward[2] = 1.0\n",
        "\n",
        "C[1] = C_reward\n",
        "\n",
        "plot_beliefs(softmax(C_reward), title_str = \"Prior preferences\")"
      ]
    },
    {
      "cell_type": "markdown",
      "metadata": {
        "id": "lJXKG-IV_qm1"
      },
      "source": [
        "### The `D` vectors"
      ]
    },
    {
      "cell_type": "code",
      "execution_count": 59,
      "metadata": {
        "id": "MJTKm27fv_Rf",
        "outputId": "1af7f621-75d9-490d-b43c-03ce0ef15c5d",
        "colab": {
          "base_uri": "https://localhost:8080/"
        }
      },
      "outputs": [
        {
          "output_type": "stream",
          "name": "stdout",
          "text": [
            "Beliefs about which arm is better: [0.12 0.12 0.12 0.12 0.12 0.12 0.12 0.12]\n",
            "Beliefs about starting location: [1.00 0.00 0.00 0.00 0.00 0.00 0.00 0.00 0.00 0.00 0.00 0.00]\n"
          ]
        }
      ],
      "source": [
        "D = utils.obj_array(num_factors)\n",
        "\n",
        "D_context = np.ones(len(context_names))/len(context_names)\n",
        "\n",
        "D[0] = D_context\n",
        "\n",
        "D_choice = np.zeros(len(choice_names))\n",
        "\n",
        "D_choice[choice_names.index(\"Start\")] = 1.0\n",
        "\n",
        "D[1] = D_choice\n",
        "\n",
        "print(f'Beliefs about which arm is better: {D[0]}')\n",
        "print(f'Beliefs about starting location: {D[1]}')"
      ]
    },
    {
      "cell_type": "markdown",
      "metadata": {
        "id": "fP7NySzAhWgf"
      },
      "source": [
        "## **Constructing an `Agent`**"
      ]
    },
    {
      "cell_type": "code",
      "execution_count": 60,
      "metadata": {
        "id": "LjxoLs67AXwR"
      },
      "outputs": [],
      "source": [
        "\n",
        "class GuessFace(object):\n",
        "\n",
        "  def __init__(self, context = None, p_hint = 1.0, p_reward = 1.0):\n",
        "\n",
        "    self.context_names = context_names[:]\n",
        "\n",
        "    if context == None:\n",
        "      self.context = self.context_names[utils.sample(np.ones(len(context_names))/len(context_names))] # randomly sample which bandit arm is better (Left or Right)\n",
        "    else:\n",
        "      self.context = context\n",
        "\n",
        "    self.context_id = self.context_names.index(self.context)\n",
        "\n",
        "    print(self.context, self.context_id, '{0:03b}'.format(self.context_id))\n",
        "    self.p_hint = p_hint\n",
        "    self.p_reward = p_reward\n",
        "\n",
        "    self.reward_obs_names = reward_obs_names[:]\n",
        "    self.hint_obs_names = hint_obs_names[:]\n",
        "\n",
        "  def step(self, action):\n",
        "\n",
        "    observed_hint = \"Null\"\n",
        "    observed_reward = \"Null\"\n",
        "    observed_choice = \"Start\"\n",
        "    if action == \"Start\":\n",
        "        pass\n",
        "    elif action == 'HintBeard':\n",
        "        if '{0:03b}'.format(self.context_id)[0]=='1':\n",
        "            observed_hint = self.hint_obs_names[utils.sample(np.array([0, 0, 1]))]\n",
        "        else:\n",
        "            observed_hint = self.hint_obs_names[utils.sample(np.array([0, 1, 0]))]\n",
        "    elif action == 'HintEye':\n",
        "        if '{0:03b}'.format(self.context_id)[1]=='1':\n",
        "            observed_hint = self.hint_obs_names[utils.sample(np.array([0, 0, 1]))]\n",
        "        else:\n",
        "            observed_hint = self.hint_obs_names[utils.sample(np.array([0, 1, 0]))]\n",
        "    elif action == 'HintHair':\n",
        "        if '{0:03b}'.format(self.context_id)[2]=='1':\n",
        "            observed_hint = self.hint_obs_names[utils.sample(np.array([0, 0, 1]))]\n",
        "        else:\n",
        "            observed_hint = self.hint_obs_names[utils.sample(np.array([0, 1, 0]))]\n",
        "\n",
        "    elif self.context == action:\n",
        "        observed_reward = self.reward_obs_names[utils.sample(np.array([0, 0, 1]))]\n",
        "    else:\n",
        "        observed_reward = self.reward_obs_names[utils.sample(np.array([0, 1, 0]))]\n",
        "\n",
        "\n",
        "    observed_choice = action\n",
        "\n",
        "\n",
        "\n",
        "    obs = [observed_hint, observed_reward, observed_choice]\n",
        "\n",
        "    return obs\n",
        "\n"
      ]
    },
    {
      "cell_type": "code",
      "execution_count": 61,
      "metadata": {
        "id": "In-AoaGQDdQH"
      },
      "outputs": [],
      "source": [
        "\n",
        "def run_active_inference_loop(my_agent, my_env, T = 5):\n",
        "\n",
        "  \"\"\" Initialize the first observation \"\"\"\n",
        "  obs_label = [\"Null\", \"Null\", \"Start\"]  # agent observes itself seeing a `Null` hint, getting a `Null` reward, and seeing itself in the `Start` location\n",
        "  obs = [hint_obs_names.index(obs_label[0]), reward_obs_names.index(obs_label[1]), choice_obs_names.index(obs_label[2])]\n",
        "\n",
        "  for t in range(T):\n",
        "    qs = my_agent.infer_states(obs)\n",
        "    #plot_beliefs(qs[0], title_str = f\"Beliefs about the context at time {t}\")\n",
        "    print(\"Beliefs about the context at time \", qs[0])\n",
        "\n",
        "    q_pi, efe = my_agent.infer_policies()\n",
        "    print(\"value of actions>\", q_pi)\n",
        "    chosen_action_id = my_agent.sample_action()\n",
        "    movement_id = int(chosen_action_id[1])\n",
        "\n",
        "    choice_action = choice_action_names[movement_id]\n",
        "\n",
        "    obs_label = my_env.step(choice_action)\n",
        "\n",
        "    obs = [hint_obs_names.index(obs_label[0]), reward_obs_names.index(obs_label[1]), choice_obs_names.index(obs_label[2])]\n",
        "    print(f'Action at time {t}: {choice_action} Reward: {obs_label[1]} Observation: {obs_label[2]} Hint: {obs_label[0]}')\n",
        "\n"
      ]
    },
    {
      "cell_type": "code",
      "execution_count": 67,
      "metadata": {
        "id": "Vy7OXyo8wvY0",
        "outputId": "14a286c7-37a2-44d4-aed8-d9aee56b1df0",
        "colab": {
          "base_uri": "https://localhost:8080/"
        }
      },
      "outputs": [
        {
          "output_type": "stream",
          "name": "stdout",
          "text": [
            "BAh 6 110\n",
            "Context: BAh\n",
            "Beliefs about the context at time  [0.12 0.12 0.12 0.12 0.12 0.12 0.12 0.12]\n",
            "value of actions> [0.00 0.00 0.50 0.50 0.00 0.00 0.00 0.00 0.00 0.00 0.00 0.00]\n",
            "Action at time 0: HintEye Reward: Null Observation: HintEye Hint: important\n",
            "Beliefs about the context at time  [0.00 0.00 0.25 0.25 0.00 0.00 0.25 0.25]\n",
            "value of actions> [0.00 0.00 0.00 1.00 0.00 0.00 0.00 0.00 0.00 0.00 0.00 0.00]\n",
            "Action at time 1: HintHair Reward: Null Observation: HintHair Hint: not important\n",
            "Beliefs about the context at time  [0.00 0.00 0.50 0.00 0.00 0.00 0.50 0.00]\n",
            "value of actions> [0.00 0.00 0.00 0.00 0.00 0.00 0.50 0.00 0.00 0.00 0.50 0.00]\n",
            "Action at time 2: bAh Reward: Loss Observation: bAh Hint: Null\n",
            "Beliefs about the context at time  [0.00 0.00 0.00 0.00 0.00 0.00 1.00 0.00]\n",
            "value of actions> [0.00 0.00 0.00 0.00 0.00 0.00 0.00 0.00 0.00 0.00 1.00 0.00]\n",
            "Action at time 3: BAh Reward: Reward Observation: BAh Hint: Null\n",
            "Beliefs about the context at time  [0.00 0.00 0.00 0.00 0.00 0.00 1.00 0.00]\n",
            "value of actions> [0.00 0.00 0.00 0.00 0.00 0.00 0.00 0.00 0.00 0.00 1.00 0.00]\n",
            "Action at time 4: BAh Reward: Reward Observation: BAh Hint: Null\n",
            "Beliefs about the context at time  [0.00 0.00 0.00 0.00 0.00 0.00 1.00 0.00]\n",
            "value of actions> [0.00 0.00 0.00 0.00 0.00 0.00 0.00 0.00 0.00 0.00 1.00 0.00]\n",
            "Action at time 5: BAh Reward: Reward Observation: BAh Hint: Null\n",
            "Beliefs about the context at time  [0.00 0.00 0.00 0.00 0.00 0.00 1.00 0.00]\n",
            "value of actions> [0.00 0.00 0.00 0.00 0.00 0.00 0.00 0.00 0.00 0.00 1.00 0.00]\n",
            "Action at time 6: BAh Reward: Reward Observation: BAh Hint: Null\n"
          ]
        }
      ],
      "source": [
        "from pymdp.agent import Agent\n",
        "np.printoptions(precision=2, suppress=True)\n",
        "np.set_printoptions(formatter={'float': '{:.2f}'.format})\n",
        "\n",
        "C[1][1] = -1\n",
        "my_agent = Agent(A = A, B = B, C = C, D = D)\n",
        "\n",
        "p_hint_env = 1.0 # this is the \"true\" accuracy of the hint\n",
        "p_reward_env = 1.0 # this is the \"true\" reward probability\n",
        "\n",
        "env = GuessFace(p_hint = p_hint_env, p_reward = p_reward_env)\n",
        "print(f'Context: {env.context}')\n",
        "\n",
        "T = 7\n",
        "run_active_inference_loop(my_agent, env, T = T)\n",
        "\n",
        "#context_names = ['bah', 'baH', 'bAh', 'bAH', 'Bah', 'BAH', 'BAh', 'BAH', ]\n"
      ]
    },
    {
      "cell_type": "code",
      "source": [
        "a = np.array([2.5e-17,0.123])\n",
        "print(a)"
      ],
      "metadata": {
        "colab": {
          "base_uri": "https://localhost:8080/"
        },
        "id": "1YXeS2ZeYoEs",
        "outputId": "5841897f-9957-437a-e6af-76b27f3d927c"
      },
      "execution_count": 63,
      "outputs": [
        {
          "output_type": "stream",
          "name": "stdout",
          "text": [
            "[0.00 0.12]\n"
          ]
        }
      ]
    },
    {
      "cell_type": "code",
      "execution_count": 64,
      "metadata": {
        "id": "B1XpcHlX3Gnj",
        "outputId": "38e54830-c0b3-4dd4-aa55-504c2b207803",
        "colab": {
          "base_uri": "https://localhost:8080/"
        }
      },
      "outputs": [
        {
          "output_type": "stream",
          "name": "stdout",
          "text": [
            "BAh 6 110\n",
            "Context: BAh\n",
            "Beliefs about the context at time  [0.12 0.12 0.12 0.12 0.12 0.12 0.12 0.12]\n",
            "value of actions> [0.00 0.00 0.42 0.42 0.02 0.02 0.02 0.02 0.02 0.02 0.02 0.02]\n",
            "Action at time 0: HintEye Reward: Null Observation: HintEye Hint: important\n",
            "Beliefs about the context at time  [0.00 0.00 0.25 0.25 0.00 0.00 0.25 0.25]\n",
            "value of actions> [0.00 0.00 0.00 0.03 0.00 0.00 0.19 0.19 0.00 0.19 0.19 0.19]\n",
            "Action at time 1: bAh Reward: Loss Observation: bAh Hint: Null\n",
            "Beliefs about the context at time  [0.00 0.00 0.00 0.33 0.00 0.00 0.33 0.33]\n",
            "value of actions> [0.00 0.00 0.00 0.00 0.00 0.00 0.00 0.25 0.00 0.25 0.25 0.25]\n",
            "Action at time 2: bAH Reward: Loss Observation: bAH Hint: Null\n",
            "Beliefs about the context at time  [0.00 0.00 0.00 0.00 0.00 0.00 0.50 0.50]\n",
            "value of actions> [0.00 0.00 0.00 0.00 0.00 0.00 0.00 0.00 0.00 0.33 0.33 0.33]\n",
            "Action at time 3: BAH Reward: Loss Observation: BAH Hint: Null\n",
            "Beliefs about the context at time  [0.00 0.00 0.00 0.00 0.00 0.00 1.00 0.00]\n",
            "value of actions> [0.00 0.00 0.00 0.00 0.00 0.00 0.00 0.00 0.00 0.00 1.00 0.00]\n",
            "Action at time 4: BAh Reward: Reward Observation: BAh Hint: Null\n",
            "Beliefs about the context at time  [0.00 0.00 0.00 0.00 0.00 0.00 1.00 0.00]\n",
            "value of actions> [0.00 0.00 0.00 0.00 0.00 0.00 0.00 0.00 0.00 0.00 1.00 0.00]\n",
            "Action at time 5: BAh Reward: Reward Observation: BAh Hint: Null\n",
            "Beliefs about the context at time  [0.00 0.00 0.00 0.00 0.00 0.00 1.00 0.00]\n",
            "value of actions> [0.00 0.00 0.00 0.00 0.00 0.00 0.00 0.00 0.00 0.00 1.00 0.00]\n",
            "Action at time 6: BAh Reward: Reward Observation: BAh Hint: Null\n"
          ]
        }
      ],
      "source": [
        "from pymdp.agent import Agent\n",
        "\n",
        "C[1][1] = 0.0 # makes the Loss \"less aversive\" than before (higher prior prior probability assigned to seeing the Loss outcome). This should make the agent less risk-averse / willing to explore both arms, under uncertainty\n",
        "\n",
        "my_agent = Agent(A = A, B = B, C = C, D = D) # redefine the agent with the new preferences\n",
        "env = GuessFace(p_hint = 1, p_reward = 1) # re-initialize the environment -- this time, the hint is not always accurate (`p_hint = 0.8`)\n",
        "print(f'Context: {env.context}')\n",
        "\n",
        "run_active_inference_loop(my_agent, env, T = T)"
      ]
    }
  ],
  "metadata": {
    "colab": {
      "provenance": [],
      "include_colab_link": true
    },
    "kernelspec": {
      "display_name": "Python 3.7.10 ('pymdp_env')",
      "language": "python",
      "name": "python3"
    },
    "language_info": {
      "codemirror_mode": {
        "name": "ipython",
        "version": 3
      },
      "file_extension": ".py",
      "mimetype": "text/x-python",
      "name": "python",
      "nbconvert_exporter": "python",
      "pygments_lexer": "ipython3",
      "version": "3.7.10"
    },
    "vscode": {
      "interpreter": {
        "hash": "43ee964e2ad3601b7244370fb08e7f23a81bd2f0e3c87ee41227da88c57ff102"
      }
    }
  },
  "nbformat": 4,
  "nbformat_minor": 0
}