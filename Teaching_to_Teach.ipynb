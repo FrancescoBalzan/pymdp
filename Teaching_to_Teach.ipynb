{
  "nbformat": 4,
  "nbformat_minor": 0,
  "metadata": {
    "colab": {
      "provenance": [],
      "authorship_tag": "ABX9TyOlMWhDODsivUBBwdi9fLRm",
      "include_colab_link": true
    },
    "kernelspec": {
      "name": "python3",
      "display_name": "Python 3"
    },
    "language_info": {
      "name": "python"
    }
  },
  "cells": [
    {
      "cell_type": "markdown",
      "metadata": {
        "id": "view-in-github",
        "colab_type": "text"
      },
      "source": [
        "<a href=\"https://colab.research.google.com/github/FrancescoBalzan/pymdp/blob/master/Teaching_to_Teach.ipynb\" target=\"_parent\"><img src=\"https://colab.research.google.com/assets/colab-badge.svg\" alt=\"Open In Colab\"/></a>"
      ]
    },
    {
      "cell_type": "code",
      "execution_count": null,
      "metadata": {
        "colab": {
          "base_uri": "https://localhost:8080/"
        },
        "id": "xW84SNFslMto",
        "outputId": "36090f31-66c0-4b4a-ab5a-151f3bd9d1bf"
      },
      "outputs": [
        {
          "output_type": "stream",
          "name": "stdout",
          "text": [
            "Collecting inferactively-pymdp\n",
            "  Downloading inferactively_pymdp-0.0.7.1-py3-none-any.whl (58 kB)\n",
            "\u001b[2K     \u001b[90m━━━━━━━━━━━━━━━━━━━━━━━━━━━━━━━━━━━━━━━━\u001b[0m \u001b[32m58.9/58.9 kB\u001b[0m \u001b[31m1.7 MB/s\u001b[0m eta \u001b[36m0:00:00\u001b[0m\n",
            "\u001b[?25hRequirement already satisfied: attrs>=20.3.0 in /usr/local/lib/python3.10/dist-packages (from inferactively-pymdp) (23.2.0)\n",
            "Requirement already satisfied: cycler>=0.10.0 in /usr/local/lib/python3.10/dist-packages (from inferactively-pymdp) (0.12.1)\n",
            "Requirement already satisfied: iniconfig>=1.1.1 in /usr/local/lib/python3.10/dist-packages (from inferactively-pymdp) (2.0.0)\n",
            "Requirement already satisfied: kiwisolver>=1.3.1 in /usr/local/lib/python3.10/dist-packages (from inferactively-pymdp) (1.4.5)\n",
            "Requirement already satisfied: matplotlib>=3.1.3 in /usr/local/lib/python3.10/dist-packages (from inferactively-pymdp) (3.7.1)\n",
            "Collecting nose>=1.3.7 (from inferactively-pymdp)\n",
            "  Downloading nose-1.3.7-py3-none-any.whl (154 kB)\n",
            "\u001b[2K     \u001b[90m━━━━━━━━━━━━━━━━━━━━━━━━━━━━━━━━━━━━━━━━\u001b[0m \u001b[32m154.7/154.7 kB\u001b[0m \u001b[31m6.1 MB/s\u001b[0m eta \u001b[36m0:00:00\u001b[0m\n",
            "\u001b[?25hRequirement already satisfied: numpy>=1.19.5 in /usr/local/lib/python3.10/dist-packages (from inferactively-pymdp) (1.25.2)\n",
            "Requirement already satisfied: openpyxl>=3.0.7 in /usr/local/lib/python3.10/dist-packages (from inferactively-pymdp) (3.1.2)\n",
            "Requirement already satisfied: packaging>=20.8 in /usr/local/lib/python3.10/dist-packages (from inferactively-pymdp) (24.0)\n",
            "Requirement already satisfied: pandas>=1.2.4 in /usr/local/lib/python3.10/dist-packages (from inferactively-pymdp) (2.0.3)\n",
            "Requirement already satisfied: Pillow>=8.2.0 in /usr/local/lib/python3.10/dist-packages (from inferactively-pymdp) (9.4.0)\n",
            "Requirement already satisfied: pluggy>=0.13.1 in /usr/local/lib/python3.10/dist-packages (from inferactively-pymdp) (1.4.0)\n",
            "Collecting py>=1.10.0 (from inferactively-pymdp)\n",
            "  Downloading py-1.11.0-py2.py3-none-any.whl (98 kB)\n",
            "\u001b[2K     \u001b[90m━━━━━━━━━━━━━━━━━━━━━━━━━━━━━━━━━━━━━━━━\u001b[0m \u001b[32m98.7/98.7 kB\u001b[0m \u001b[31m7.3 MB/s\u001b[0m eta \u001b[36m0:00:00\u001b[0m\n",
            "\u001b[?25hRequirement already satisfied: pyparsing>=2.4.7 in /usr/local/lib/python3.10/dist-packages (from inferactively-pymdp) (3.1.2)\n",
            "Requirement already satisfied: pytest>=6.2.1 in /usr/local/lib/python3.10/dist-packages (from inferactively-pymdp) (7.4.4)\n",
            "Requirement already satisfied: python-dateutil>=2.8.1 in /usr/local/lib/python3.10/dist-packages (from inferactively-pymdp) (2.8.2)\n",
            "Requirement already satisfied: pytz>=2020.5 in /usr/local/lib/python3.10/dist-packages (from inferactively-pymdp) (2023.4)\n",
            "Requirement already satisfied: scipy>=1.6.0 in /usr/local/lib/python3.10/dist-packages (from inferactively-pymdp) (1.11.4)\n",
            "Requirement already satisfied: seaborn>=0.11.1 in /usr/local/lib/python3.10/dist-packages (from inferactively-pymdp) (0.13.1)\n",
            "Requirement already satisfied: six>=1.15.0 in /usr/local/lib/python3.10/dist-packages (from inferactively-pymdp) (1.16.0)\n",
            "Requirement already satisfied: toml>=0.10.2 in /usr/local/lib/python3.10/dist-packages (from inferactively-pymdp) (0.10.2)\n",
            "Requirement already satisfied: typing-extensions>=3.7.4.3 in /usr/local/lib/python3.10/dist-packages (from inferactively-pymdp) (4.10.0)\n",
            "Collecting xlsxwriter>=1.4.3 (from inferactively-pymdp)\n",
            "  Downloading XlsxWriter-3.2.0-py3-none-any.whl (159 kB)\n",
            "\u001b[2K     \u001b[90m━━━━━━━━━━━━━━━━━━━━━━━━━━━━━━━━━━━━━━━━\u001b[0m \u001b[32m159.9/159.9 kB\u001b[0m \u001b[31m10.5 MB/s\u001b[0m eta \u001b[36m0:00:00\u001b[0m\n",
            "\u001b[?25hCollecting sphinx-rtd-theme>=0.4 (from inferactively-pymdp)\n",
            "  Downloading sphinx_rtd_theme-2.0.0-py2.py3-none-any.whl (2.8 MB)\n",
            "\u001b[2K     \u001b[90m━━━━━━━━━━━━━━━━━━━━━━━━━━━━━━━━━━━━━━━━\u001b[0m \u001b[32m2.8/2.8 MB\u001b[0m \u001b[31m34.5 MB/s\u001b[0m eta \u001b[36m0:00:00\u001b[0m\n",
            "\u001b[?25hCollecting myst-nb>=0.13.1 (from inferactively-pymdp)\n",
            "  Downloading myst_nb-1.0.0-py3-none-any.whl (79 kB)\n",
            "\u001b[2K     \u001b[90m━━━━━━━━━━━━━━━━━━━━━━━━━━━━━━━━━━━━━━━━\u001b[0m \u001b[32m79.9/79.9 kB\u001b[0m \u001b[31m7.5 MB/s\u001b[0m eta \u001b[36m0:00:00\u001b[0m\n",
            "\u001b[?25hRequirement already satisfied: autograd>=1.3 in /usr/local/lib/python3.10/dist-packages (from inferactively-pymdp) (1.6.2)\n",
            "Requirement already satisfied: future>=0.15.2 in /usr/local/lib/python3.10/dist-packages (from autograd>=1.3->inferactively-pymdp) (0.18.3)\n",
            "Requirement already satisfied: contourpy>=1.0.1 in /usr/local/lib/python3.10/dist-packages (from matplotlib>=3.1.3->inferactively-pymdp) (1.2.1)\n",
            "Requirement already satisfied: fonttools>=4.22.0 in /usr/local/lib/python3.10/dist-packages (from matplotlib>=3.1.3->inferactively-pymdp) (4.50.0)\n",
            "Requirement already satisfied: importlib_metadata in /usr/local/lib/python3.10/dist-packages (from myst-nb>=0.13.1->inferactively-pymdp) (7.1.0)\n",
            "Requirement already satisfied: ipython in /usr/local/lib/python3.10/dist-packages (from myst-nb>=0.13.1->inferactively-pymdp) (7.34.0)\n",
            "Collecting jupyter-cache>=0.5 (from myst-nb>=0.13.1->inferactively-pymdp)\n",
            "  Downloading jupyter_cache-1.0.0-py3-none-any.whl (33 kB)\n",
            "Requirement already satisfied: nbclient in /usr/local/lib/python3.10/dist-packages (from myst-nb>=0.13.1->inferactively-pymdp) (0.10.0)\n",
            "Collecting myst-parser>=1.0.0 (from myst-nb>=0.13.1->inferactively-pymdp)\n",
            "  Downloading myst_parser-2.0.0-py3-none-any.whl (77 kB)\n",
            "\u001b[2K     \u001b[90m━━━━━━━━━━━━━━━━━━━━━━━━━━━━━━━━━━━━━━━━\u001b[0m \u001b[32m77.2/77.2 kB\u001b[0m \u001b[31m6.3 MB/s\u001b[0m eta \u001b[36m0:00:00\u001b[0m\n",
            "\u001b[?25hRequirement already satisfied: nbformat>=5.0 in /usr/local/lib/python3.10/dist-packages (from myst-nb>=0.13.1->inferactively-pymdp) (5.10.3)\n",
            "Requirement already satisfied: pyyaml in /usr/local/lib/python3.10/dist-packages (from myst-nb>=0.13.1->inferactively-pymdp) (6.0.1)\n",
            "Requirement already satisfied: sphinx>=5 in /usr/local/lib/python3.10/dist-packages (from myst-nb>=0.13.1->inferactively-pymdp) (5.0.2)\n",
            "Requirement already satisfied: ipykernel in /usr/local/lib/python3.10/dist-packages (from myst-nb>=0.13.1->inferactively-pymdp) (5.5.6)\n",
            "Requirement already satisfied: et-xmlfile in /usr/local/lib/python3.10/dist-packages (from openpyxl>=3.0.7->inferactively-pymdp) (1.1.0)\n",
            "Requirement already satisfied: tzdata>=2022.1 in /usr/local/lib/python3.10/dist-packages (from pandas>=1.2.4->inferactively-pymdp) (2024.1)\n",
            "Requirement already satisfied: exceptiongroup>=1.0.0rc8 in /usr/local/lib/python3.10/dist-packages (from pytest>=6.2.1->inferactively-pymdp) (1.2.0)\n",
            "Requirement already satisfied: tomli>=1.0.0 in /usr/local/lib/python3.10/dist-packages (from pytest>=6.2.1->inferactively-pymdp) (2.0.1)\n",
            "Requirement already satisfied: docutils<0.21 in /usr/local/lib/python3.10/dist-packages (from sphinx-rtd-theme>=0.4->inferactively-pymdp) (0.18.1)\n",
            "Collecting sphinxcontrib-jquery<5,>=4 (from sphinx-rtd-theme>=0.4->inferactively-pymdp)\n",
            "  Downloading sphinxcontrib_jquery-4.1-py2.py3-none-any.whl (121 kB)\n",
            "\u001b[2K     \u001b[90m━━━━━━━━━━━━━━━━━━━━━━━━━━━━━━━━━━━━━━━━\u001b[0m \u001b[32m121.1/121.1 kB\u001b[0m \u001b[31m12.3 MB/s\u001b[0m eta \u001b[36m0:00:00\u001b[0m\n",
            "\u001b[?25hRequirement already satisfied: click in /usr/local/lib/python3.10/dist-packages (from jupyter-cache>=0.5->myst-nb>=0.13.1->inferactively-pymdp) (8.1.7)\n",
            "Requirement already satisfied: sqlalchemy<3,>=1.3.12 in /usr/local/lib/python3.10/dist-packages (from jupyter-cache>=0.5->myst-nb>=0.13.1->inferactively-pymdp) (2.0.29)\n",
            "Requirement already satisfied: tabulate in /usr/local/lib/python3.10/dist-packages (from jupyter-cache>=0.5->myst-nb>=0.13.1->inferactively-pymdp) (0.9.0)\n",
            "Requirement already satisfied: jinja2 in /usr/local/lib/python3.10/dist-packages (from myst-parser>=1.0.0->myst-nb>=0.13.1->inferactively-pymdp) (3.1.3)\n",
            "Requirement already satisfied: markdown-it-py~=3.0 in /usr/local/lib/python3.10/dist-packages (from myst-parser>=1.0.0->myst-nb>=0.13.1->inferactively-pymdp) (3.0.0)\n",
            "Requirement already satisfied: mdit-py-plugins~=0.4 in /usr/local/lib/python3.10/dist-packages (from myst-parser>=1.0.0->myst-nb>=0.13.1->inferactively-pymdp) (0.4.0)\n",
            "Collecting sphinx>=5 (from myst-nb>=0.13.1->inferactively-pymdp)\n",
            "  Downloading sphinx-7.2.6-py3-none-any.whl (3.2 MB)\n",
            "\u001b[2K     \u001b[90m━━━━━━━━━━━━━━━━━━━━━━━━━━━━━━━━━━━━━━━━\u001b[0m \u001b[32m3.2/3.2 MB\u001b[0m \u001b[31m28.2 MB/s\u001b[0m eta \u001b[36m0:00:00\u001b[0m\n",
            "\u001b[?25hRequirement already satisfied: jupyter-client>=6.1.12 in /usr/local/lib/python3.10/dist-packages (from nbclient->myst-nb>=0.13.1->inferactively-pymdp) (6.1.12)\n",
            "Requirement already satisfied: jupyter-core!=5.0.*,>=4.12 in /usr/local/lib/python3.10/dist-packages (from nbclient->myst-nb>=0.13.1->inferactively-pymdp) (5.7.2)\n",
            "Requirement already satisfied: traitlets>=5.4 in /usr/local/lib/python3.10/dist-packages (from nbclient->myst-nb>=0.13.1->inferactively-pymdp) (5.7.1)\n",
            "Requirement already satisfied: fastjsonschema in /usr/local/lib/python3.10/dist-packages (from nbformat>=5.0->myst-nb>=0.13.1->inferactively-pymdp) (2.19.1)\n",
            "Requirement already satisfied: jsonschema>=2.6 in /usr/local/lib/python3.10/dist-packages (from nbformat>=5.0->myst-nb>=0.13.1->inferactively-pymdp) (4.19.2)\n",
            "Requirement already satisfied: sphinxcontrib-applehelp in /usr/local/lib/python3.10/dist-packages (from sphinx>=5->myst-nb>=0.13.1->inferactively-pymdp) (1.0.8)\n",
            "Requirement already satisfied: sphinxcontrib-devhelp in /usr/local/lib/python3.10/dist-packages (from sphinx>=5->myst-nb>=0.13.1->inferactively-pymdp) (1.0.6)\n",
            "Requirement already satisfied: sphinxcontrib-jsmath in /usr/local/lib/python3.10/dist-packages (from sphinx>=5->myst-nb>=0.13.1->inferactively-pymdp) (1.0.1)\n",
            "Requirement already satisfied: sphinxcontrib-htmlhelp>=2.0.0 in /usr/local/lib/python3.10/dist-packages (from sphinx>=5->myst-nb>=0.13.1->inferactively-pymdp) (2.0.5)\n",
            "Requirement already satisfied: sphinxcontrib-serializinghtml>=1.1.9 in /usr/local/lib/python3.10/dist-packages (from sphinx>=5->myst-nb>=0.13.1->inferactively-pymdp) (1.1.10)\n",
            "Requirement already satisfied: sphinxcontrib-qthelp in /usr/local/lib/python3.10/dist-packages (from sphinx>=5->myst-nb>=0.13.1->inferactively-pymdp) (1.0.7)\n",
            "Requirement already satisfied: Pygments>=2.14 in /usr/local/lib/python3.10/dist-packages (from sphinx>=5->myst-nb>=0.13.1->inferactively-pymdp) (2.16.1)\n",
            "Requirement already satisfied: snowballstemmer>=2.0 in /usr/local/lib/python3.10/dist-packages (from sphinx>=5->myst-nb>=0.13.1->inferactively-pymdp) (2.2.0)\n",
            "Requirement already satisfied: babel>=2.9 in /usr/local/lib/python3.10/dist-packages (from sphinx>=5->myst-nb>=0.13.1->inferactively-pymdp) (2.14.0)\n",
            "Requirement already satisfied: alabaster<0.8,>=0.7 in /usr/local/lib/python3.10/dist-packages (from sphinx>=5->myst-nb>=0.13.1->inferactively-pymdp) (0.7.16)\n",
            "Requirement already satisfied: imagesize>=1.3 in /usr/local/lib/python3.10/dist-packages (from sphinx>=5->myst-nb>=0.13.1->inferactively-pymdp) (1.4.1)\n",
            "Requirement already satisfied: requests>=2.25.0 in /usr/local/lib/python3.10/dist-packages (from sphinx>=5->myst-nb>=0.13.1->inferactively-pymdp) (2.31.0)\n",
            "Requirement already satisfied: zipp>=0.5 in /usr/local/lib/python3.10/dist-packages (from importlib_metadata->myst-nb>=0.13.1->inferactively-pymdp) (3.18.1)\n",
            "Requirement already satisfied: ipython-genutils in /usr/local/lib/python3.10/dist-packages (from ipykernel->myst-nb>=0.13.1->inferactively-pymdp) (0.2.0)\n",
            "Requirement already satisfied: tornado>=4.2 in /usr/local/lib/python3.10/dist-packages (from ipykernel->myst-nb>=0.13.1->inferactively-pymdp) (6.3.3)\n",
            "Requirement already satisfied: setuptools>=18.5 in /usr/local/lib/python3.10/dist-packages (from ipython->myst-nb>=0.13.1->inferactively-pymdp) (67.7.2)\n",
            "Collecting jedi>=0.16 (from ipython->myst-nb>=0.13.1->inferactively-pymdp)\n",
            "  Downloading jedi-0.19.1-py2.py3-none-any.whl (1.6 MB)\n",
            "\u001b[2K     \u001b[90m━━━━━━━━━━━━━━━━━━━━━━━━━━━━━━━━━━━━━━━━\u001b[0m \u001b[32m1.6/1.6 MB\u001b[0m \u001b[31m40.3 MB/s\u001b[0m eta \u001b[36m0:00:00\u001b[0m\n",
            "\u001b[?25hRequirement already satisfied: decorator in /usr/local/lib/python3.10/dist-packages (from ipython->myst-nb>=0.13.1->inferactively-pymdp) (4.4.2)\n",
            "Requirement already satisfied: pickleshare in /usr/local/lib/python3.10/dist-packages (from ipython->myst-nb>=0.13.1->inferactively-pymdp) (0.7.5)\n",
            "Requirement already satisfied: prompt-toolkit!=3.0.0,!=3.0.1,<3.1.0,>=2.0.0 in /usr/local/lib/python3.10/dist-packages (from ipython->myst-nb>=0.13.1->inferactively-pymdp) (3.0.43)\n",
            "Requirement already satisfied: backcall in /usr/local/lib/python3.10/dist-packages (from ipython->myst-nb>=0.13.1->inferactively-pymdp) (0.2.0)\n",
            "Requirement already satisfied: matplotlib-inline in /usr/local/lib/python3.10/dist-packages (from ipython->myst-nb>=0.13.1->inferactively-pymdp) (0.1.6)\n",
            "Requirement already satisfied: pexpect>4.3 in /usr/local/lib/python3.10/dist-packages (from ipython->myst-nb>=0.13.1->inferactively-pymdp) (4.9.0)\n",
            "Requirement already satisfied: parso<0.9.0,>=0.8.3 in /usr/local/lib/python3.10/dist-packages (from jedi>=0.16->ipython->myst-nb>=0.13.1->inferactively-pymdp) (0.8.3)\n",
            "Requirement already satisfied: MarkupSafe>=2.0 in /usr/local/lib/python3.10/dist-packages (from jinja2->myst-parser>=1.0.0->myst-nb>=0.13.1->inferactively-pymdp) (2.1.5)\n",
            "Requirement already satisfied: jsonschema-specifications>=2023.03.6 in /usr/local/lib/python3.10/dist-packages (from jsonschema>=2.6->nbformat>=5.0->myst-nb>=0.13.1->inferactively-pymdp) (2023.12.1)\n",
            "Requirement already satisfied: referencing>=0.28.4 in /usr/local/lib/python3.10/dist-packages (from jsonschema>=2.6->nbformat>=5.0->myst-nb>=0.13.1->inferactively-pymdp) (0.34.0)\n",
            "Requirement already satisfied: rpds-py>=0.7.1 in /usr/local/lib/python3.10/dist-packages (from jsonschema>=2.6->nbformat>=5.0->myst-nb>=0.13.1->inferactively-pymdp) (0.18.0)\n",
            "Requirement already satisfied: pyzmq>=13 in /usr/local/lib/python3.10/dist-packages (from jupyter-client>=6.1.12->nbclient->myst-nb>=0.13.1->inferactively-pymdp) (23.2.1)\n",
            "Requirement already satisfied: platformdirs>=2.5 in /usr/local/lib/python3.10/dist-packages (from jupyter-core!=5.0.*,>=4.12->nbclient->myst-nb>=0.13.1->inferactively-pymdp) (4.2.0)\n",
            "Requirement already satisfied: mdurl~=0.1 in /usr/local/lib/python3.10/dist-packages (from markdown-it-py~=3.0->myst-parser>=1.0.0->myst-nb>=0.13.1->inferactively-pymdp) (0.1.2)\n",
            "Requirement already satisfied: ptyprocess>=0.5 in /usr/local/lib/python3.10/dist-packages (from pexpect>4.3->ipython->myst-nb>=0.13.1->inferactively-pymdp) (0.7.0)\n",
            "Requirement already satisfied: wcwidth in /usr/local/lib/python3.10/dist-packages (from prompt-toolkit!=3.0.0,!=3.0.1,<3.1.0,>=2.0.0->ipython->myst-nb>=0.13.1->inferactively-pymdp) (0.2.13)\n",
            "Requirement already satisfied: charset-normalizer<4,>=2 in /usr/local/lib/python3.10/dist-packages (from requests>=2.25.0->sphinx>=5->myst-nb>=0.13.1->inferactively-pymdp) (3.3.2)\n",
            "Requirement already satisfied: idna<4,>=2.5 in /usr/local/lib/python3.10/dist-packages (from requests>=2.25.0->sphinx>=5->myst-nb>=0.13.1->inferactively-pymdp) (3.6)\n",
            "Requirement already satisfied: urllib3<3,>=1.21.1 in /usr/local/lib/python3.10/dist-packages (from requests>=2.25.0->sphinx>=5->myst-nb>=0.13.1->inferactively-pymdp) (2.0.7)\n",
            "Requirement already satisfied: certifi>=2017.4.17 in /usr/local/lib/python3.10/dist-packages (from requests>=2.25.0->sphinx>=5->myst-nb>=0.13.1->inferactively-pymdp) (2024.2.2)\n",
            "Requirement already satisfied: greenlet!=0.4.17 in /usr/local/lib/python3.10/dist-packages (from sqlalchemy<3,>=1.3.12->jupyter-cache>=0.5->myst-nb>=0.13.1->inferactively-pymdp) (3.0.3)\n",
            "Installing collected packages: nose, xlsxwriter, py, jedi, sphinx, sphinxcontrib-jquery, myst-parser, sphinx-rtd-theme, jupyter-cache, myst-nb, inferactively-pymdp\n",
            "  Attempting uninstall: sphinx\n",
            "    Found existing installation: Sphinx 5.0.2\n",
            "    Uninstalling Sphinx-5.0.2:\n",
            "      Successfully uninstalled Sphinx-5.0.2\n",
            "Successfully installed inferactively-pymdp-0.0.7.1 jedi-0.19.1 jupyter-cache-1.0.0 myst-nb-1.0.0 myst-parser-2.0.0 nose-1.3.7 py-1.11.0 sphinx-7.2.6 sphinx-rtd-theme-2.0.0 sphinxcontrib-jquery-4.1 xlsxwriter-3.2.0\n"
          ]
        }
      ],
      "source": [
        "pip install inferactively-pymdp"
      ]
    },
    {
      "cell_type": "markdown",
      "source": [
        "Agents definition"
      ],
      "metadata": {
        "id": "ootg9Fy1rnzr"
      }
    },
    {
      "cell_type": "code",
      "source": [
        "import pymdp\n",
        "from pymdp import utils\n",
        "from pymdp.agent import Agent\n"
      ],
      "metadata": {
        "id": "Yp19Kv9vrb_E"
      },
      "execution_count": null,
      "outputs": []
    },
    {
      "cell_type": "markdown",
      "source": [
        "In pymdp, both generative model distributions (e.g. A or B) as well as posterior distributions over hidden states (e.g. qs) and observations are represented as what we call “object arrays”."
      ],
      "metadata": {
        "id": "DsBLTLyfuHsU"
      }
    },
    {
      "cell_type": "markdown",
      "source": [
        "Their array elements can be arbitrary Python data structures or objects. The entries of an object array can thus have arbitrary type and dimensionality."
      ],
      "metadata": {
        "id": "-lH21C0PuWTM"
      }
    },
    {
      "cell_type": "code",
      "source": [
        "import numpy as np\n",
        "import matplotlib.pyplot as plt\n",
        "import seaborn as sns"
      ],
      "metadata": {
        "id": "Hu9AFj4rsVk2"
      },
      "execution_count": null,
      "outputs": []
    },
    {
      "cell_type": "markdown",
      "source": [
        "Object arrays can be initialized standard numpy constructors, but by also explicitly declaring dtype = object."
      ],
      "metadata": {
        "id": "If4Qzwkeudy2"
      }
    },
    {
      "cell_type": "code",
      "source": [
        "my_empty_array = np.empty(5, dtype = object)"
      ],
      "metadata": {
        "id": "iufnoK55uBFC"
      },
      "execution_count": null,
      "outputs": []
    },
    {
      "cell_type": "markdown",
      "source": [
        "useful functions"
      ],
      "metadata": {
        "id": "Wr6w8oa2yzOX"
      }
    },
    {
      "cell_type": "code",
      "source": [
        "def plot_likelihood(matrix, title_str = \"Likelihood distribution (A)\"):\n",
        "    \"\"\"\n",
        "    Plots a 2-D likelihood matrix as a heatmap\n",
        "    \"\"\"\n",
        "\n",
        "    if not np.isclose(matrix.sum(axis=0), 1.0).all():\n",
        "      raise ValueError(\"Distribution not column-normalized! Please normalize (ensure matrix.sum(axis=0) == 1.0 for all columns)\")\n",
        "\n",
        "    fig = plt.figure(figsize = (6,6))\n",
        "    ax = sns.heatmap(matrix, cmap = 'gray', cbar = False, vmin = 0.0, vmax = 1.0)\n",
        "    plt.title(title_str)\n",
        "    plt.show()\n",
        "\n",
        "\n",
        "def plot_beliefs(belief_dist, title_str=\"\"):\n",
        "    \"\"\"\n",
        "    Plot a categorical distribution or belief distribution, stored in the 1-D numpy vector `belief_dist`\n",
        "    \"\"\"\n",
        "\n",
        "    if not np.isclose(belief_dist.sum(), 1.0):\n",
        "      raise ValueError(\"Distribution not normalized! Please normalize\")\n",
        "\n",
        "    plt.grid(zorder=0)\n",
        "    plt.bar(range(belief_dist.shape[0]), belief_dist, color='r', zorder=3)\n",
        "    plt.xticks(range(belief_dist.shape[0]))\n",
        "    plt.title(title_str)\n",
        "    plt.show()"
      ],
      "metadata": {
        "id": "MSpgwqo5yyaB"
      },
      "execution_count": null,
      "outputs": []
    },
    {
      "cell_type": "markdown",
      "source": [
        "Specify the dimensionalities of the hidden state factors, the control factors, and the observation modalities for the Student"
      ],
      "metadata": {
        "id": "qHx48XlrqLoA"
      }
    },
    {
      "cell_type": "markdown",
      "source": [
        "The maze in the teaching curriculum! the teacher learns how to design tha right maze to help the student achieve parameter learning (learning gravity rule in this case)\n",
        "\n",
        "Should Inquiry have a cost?"
      ],
      "metadata": {
        "id": "38GMstbxF-uP"
      }
    },
    {
      "cell_type": "code",
      "source": [
        "# Student Agent Hidden State Factors and Observations\n",
        "context_names_S = ['Concept Learnt', 'Concept not learnt']\n",
        "choice_names_S = ['Question', 'Exercise', 'Test']\n",
        "gravity_params_names_S = ['Height', 'Weight', 'Distance', 'Mass', 'G', 'Radius', 'Volume', 'Density']\n",
        "\n",
        "# Update number of states to include the new factor for gravity parameters\n",
        "num_states_S = [len(context_names_S), len(choice_names_S), len(gravity_params_names_S)]\n",
        "num_factors_S = len(num_states_S)\n",
        "\n",
        "# Student Agent Control Factors\n",
        "context_action_names_S = ['Do-nothing']\n",
        "choice_action_names_S = ['Ask for parameter', 'Do exercises', 'Take the test']\n",
        "gravity_params_action_names_S = ['Inquire about Height', 'Inquire about Weight', 'Inquire about Distance',\n",
        "                             'Inquire about Mass', 'Inquire about G', 'Inquire about Radius',\n",
        "                             'Inquire about Volume', 'Inquire about Density']\n",
        "\n",
        "num_controls_S = [len(context_action_names_S), len(choice_action_names_S), len(gravity_params_action_names_S)]\n",
        "\n",
        "# Student Agent Observations\n",
        "ex_obs_names_S = ['Correct', 'Incorrect']\n",
        "test_obs_names_S = ['Passed', 'Not passed']\n",
        "hint_obs_names_S = ['Yes', 'No']  # Regarding the specific gravity parameters asked by the student\n",
        "#question_obs_names_S = ['Simple Gravity Question', 'Gravity Question on New Planet']\n",
        "\n",
        "num_obs_S = [len(ex_obs_names_S), len(test_obs_names_S), len(hint_obs_names_S)]\n",
        "num_modalities_S = len(num_obs_S)"
      ],
      "metadata": {
        "id": "uVwROX-LPJae"
      },
      "execution_count": null,
      "outputs": []
    },
    {
      "cell_type": "markdown",
      "source": [
        "Specify the dimensionalities of the hidden state factors, the control factors, and the observation modalities for the Teacher"
      ],
      "metadata": {
        "id": "XPO0KNC0qT8L"
      }
    },
    {
      "cell_type": "code",
      "source": [
        "# Professor Agent Hidden State Factors and Observations\n",
        "context_names_T = ['Concept Learnt', 'Concept not learnt']\n",
        "choice_names_T = ['Exercise', 'Hint Parameter', 'Evaluation']\n",
        "\n",
        "# Number of states remains unchanged for the Professor\n",
        "num_states_T = [len(context_names_T), len(choice_names_T)]\n",
        "num_factors_T = len(num_states_T)\n",
        "\n",
        "# Professor Agent Control Factors\n",
        "context_action_names_T = ['Do-nothing']\n",
        "choice_action_names_T = ['Provide exercise on Gravity','Respond Yes', 'Respond No','Evaluate Exercise']\n",
        "\n",
        "\n",
        "# Update number of controls to accommodate the new hint actions\n",
        "num_controls_T = [len(context_action_names_T), len(choice_action_names_T)]\n",
        "\n",
        "# Professor Agent Observations\n",
        "inquiry_obs_names_T = ['Height', 'Weight', 'Distance', 'Mass', 'G', 'Radius', 'Volume', 'Density']\n",
        "ex_obs_names_T = ['Correct', 'Incorrect']\n",
        "test_obs_names_T = ['Passed', 'Not passed', 'No Attempt']\n",
        "\n",
        "relevant_parameters = ['Inquire about Mass', 'Inquire about G', 'Inquire about Radius']\n",
        "\n",
        "\n",
        "# Update number of observations to incorporate the student's potential requests and the outcomes of tests\n",
        "num_obs_T = [len(inquiry_obs_names_T), len(ex_obs_names_T), len(test_obs_names_T)]\n",
        "num_modalities_T = len(num_obs_T)"
      ],
      "metadata": {
        "id": "0YnFwheuUtPV"
      },
      "execution_count": null,
      "outputs": []
    },
    {
      "cell_type": "markdown",
      "source": [
        "start from here and go to A matrix definition"
      ],
      "metadata": {
        "id": "N5_mxWD62ETI"
      }
    },
    {
      "cell_type": "code",
      "source": [
        "import pymdp\n",
        "from pymdp import utils\n",
        "from pymdp.maths import softmax"
      ],
      "metadata": {
        "id": "Wco3vMo32mXU"
      },
      "execution_count": null,
      "outputs": []
    },
    {
      "cell_type": "code",
      "source": [
        "\n",
        "\"\"\" Generate the A array \"\"\"\n",
        "A_T= utils.obj_array( num_modalities_T)\n",
        "\n",
        "A_S= utils.obj_array( num_modalities_S)\n"
      ],
      "metadata": {
        "id": "gokWkl2k2WIY"
      },
      "execution_count": null,
      "outputs": []
    },
    {
      "cell_type": "markdown",
      "source": [
        "A_T by hand"
      ],
      "metadata": {
        "id": "tlDsldj0_69E"
      }
    },
    {
      "cell_type": "code",
      "source": [
        "# A_teacher =   [  Modalità 1: [\n",
        "#                       Response: [prob_correct, prob_incorrect],\n",
        "#                       Request: [prob_request_spec, prob_no_request] ],\n",
        "#                  Modalità 2: [\n",
        "#                       Response: [prob_correct, prob_incorrect],\n",
        "#                       Request:[prob_request_spec, prob_no_request] ]\n",
        "#               ]\n",
        "\n",
        "A_teacher = [\n",
        "    [\n",
        "        [0.2, 0.8],  # response\n",
        "        [0.3, 0.7],  # request\n",
        "    ], # first modality\n",
        "    [\n",
        "        [0.2, 0.8],  # response\n",
        "        [0.3, 0.7],  # request\n",
        "    ], # second modality\n",
        "]\n",
        "print(A_teacher)\n",
        "\n",
        "#  alternative fill with cycle\n",
        "prob_correct = 0.2\n",
        "prob_incorrect = 0.8\n",
        "prob_request_spec = 0.8\n",
        "prob_no_request = 0.2\n",
        "for modalities in range(len([1,2])):\n",
        "    for obs in ['response', 'request']:\n",
        "        if obs == 'response':\n",
        "            A_teacher[modalities][0] = [prob_correct, prob_incorrect]\n",
        "        elif obs == 'request':\n",
        "            A_teacher[modalities][1] = [prob_request_spec, prob_no_request]\n",
        "\n",
        "print(A_teacher)\n",
        "\n",
        "# A_teacher = utils.obj_array_from_list(A_teacher)\n",
        "A_teacher\n",
        "\n",
        "# alternative with prob dist\n",
        "#  alternative fill with cycle\n",
        "from random import sample\n",
        "prob_dist_response = sample(range(1000), 2)\n",
        "prob_dist_request = sample(range(1000), 2)\n",
        "for modalities in range(len([1,2])):\n",
        "    for obs in ['response', 'request']:\n",
        "        if obs == 'response':\n",
        "            A_teacher[modalities][0] = prob_dist_response\n",
        "        elif obs == 'request':\n",
        "            A_teacher[modalities][1] = prob_dist_request\n",
        "\n",
        "print(A_teacher)"
      ],
      "metadata": {
        "id": "FhtXeOho_5wn"
      },
      "execution_count": null,
      "outputs": []
    },
    {
      "cell_type": "markdown",
      "source": [
        "Initializing the A matrix for the student A_S"
      ],
      "metadata": {
        "id": "bLsgQZOeBmH-"
      }
    },
    {
      "cell_type": "code",
      "source": [
        "# Initialize A_S with uniform probabilities as a starting point\n",
        "A_S = np.ones((sum(num_obs_S), sum(num_states_S), sum(num_controls_S))) / sum(num_obs_S)\n",
        "\n",
        "# Mapping action names to indices for clarity\n",
        "action_indices_S = {name: i for i, name in enumerate(gravity_params_action_names_S + choice_action_names_S)}\n",
        "\n",
        "# Define a probability reflecting the student's confidence in their understanding and actions\n",
        "p_confident = 0.7  # Adjusted based on student's confidence\n",
        "\n",
        "# Starting indexes for each observation category within A_S matrix\n",
        "start_ex_S = 0  # Exercise observations start at 0\n",
        "start_test_S = start_ex_S + len(ex_obs_names_S)  # Test observations follow exercise observations\n",
        "start_hint_S = start_test_S + len(test_obs_names_S)  # Hint observations follow test observations\n",
        "\n",
        "# Populating A_S matrix with probabilities\n",
        "# The student is more likely to perform correctly if they have learnt the concept\n",
        "for context_idx, _ in enumerate(context_names_S):\n",
        "    for action_idx, action in enumerate(choice_action_names_S + gravity_params_action_names_S):\n",
        "        #'Do exercises' action leads to 'Correct' or 'Incorrect' exercise outcomes\n",
        "        if action == 'Do exercises':\n",
        "            for i, outcome in enumerate(ex_obs_names_S):\n",
        "                index = start_ex_S + i\n",
        "                A_S[index, context_idx, action_indices_S[action]] = p_confident if outcome == 'Correct' and context_idx == 0 else 1 - p_confident\n",
        "\n",
        "        # 'Take the test' action leads to 'Passed' or 'Not passed' test outcomes\n",
        "        elif action == 'Take the test':\n",
        "            for i, result in enumerate(test_obs_names_S):\n",
        "                index = start_test_S + i\n",
        "                A_S[index, context_idx, action_indices_S[action]] = p_confident if result == 'Passed' and context_idx == 0 else 1 - p_confident\n",
        "\n",
        "        # Assuming each parameter inquiry action leads to a 'Yes' or 'No' hint outcome\n",
        "        elif action in gravity_params_action_names_S:\n",
        "            for i, hint in enumerate(hint_obs_names_S):\n",
        "                index = start_hint_S + i\n",
        "                # Assign a high probability to 'Yes' if the concept is learnt\n",
        "                A_S[index, context_idx, action_indices_S[action]] = p_confident if hint == 'Yes' and context_idx == 0 else 1 - p_confident\n",
        "\n",
        "# Normalize the A_S matrix for each action and context\n",
        "for action_idx in range(A_S.shape[2]):\n",
        "    for context_idx in range(A_S.shape[1]):\n",
        "        col_sum = A_S[:, context_idx, action_idx].sum()\n",
        "        if col_sum > 0:  # Avoid division by zero\n",
        "            A_S[:, context_idx, action_idx] /= col_sum\n"
      ],
      "metadata": {
        "id": "TbsZ7XNVBkCE"
      },
      "execution_count": null,
      "outputs": []
    },
    {
      "cell_type": "markdown",
      "source": [
        "Initializing the A matrix for the teacher A_T"
      ],
      "metadata": {
        "id": "jgoJ-VkgDb6k"
      }
    },
    {
      "cell_type": "code",
      "source": [
        "# Initializing the A matrix with dimensions for each modality\n",
        "# A matrix that encompasses all types of observations\n",
        "total_obs_T = len(inquiry_obs_names_T) + len(ex_obs_names_T) + len(test_obs_names_T)\n",
        "A_T = np.zeros((total_obs_T, len(context_names_T), len(choice_action_names_T)))\n",
        "\n",
        "# Update probabilities for observations directly to ensure normalization\n",
        "# Starting indexes for each observation category within the A_T matrix\n",
        "start_ex = len(inquiry_obs_names_T)\n",
        "start_test = start_ex + len(ex_obs_names_T)\n",
        "\n",
        "p_relevant = 0.8  # Probability of making a relevant observation/action\n",
        "\n",
        "# Assigning probabilities\n",
        "for context_idx, _ in enumerate(context_names_T):\n",
        "    for action_idx, action in enumerate(choice_action_names_T):\n",
        "        # Inquiry observations\n",
        "        if action == 'Respond Yes' or action == 'Respond No':\n",
        "            for i, inquiry in enumerate(inquiry_obs_names_T):\n",
        "                is_relevant = inquiry.lower() in [param.lower() for param in relevant_parameters]\n",
        "                if action == 'Respond Yes':\n",
        "                    A_T[i, context_idx, action_idx] = p_relevant if is_relevant else 1 - p_relevant\n",
        "                else:  # 'Respond No'\n",
        "                    A_T[i, context_idx, action_idx] = 1 - p_relevant if is_relevant else p_relevant\n",
        "\n",
        "        # Exercise observations, assuming they fall under 'Evaluate Exercise'\n",
        "        if action == 'Evaluate Exercise':\n",
        "            for i, outcome in enumerate(ex_obs_names_T):\n",
        "                index = start_ex + i\n",
        "                A_T[index, context_idx, action_idx] = p_relevant if outcome == 'Correct' else 1 - p_relevant\n",
        "\n",
        "        # Test observations, also under 'Evaluate Exercise'\n",
        "        for i, result in enumerate(test_obs_names_T):\n",
        "            index = start_test + i\n",
        "            if result != 'No Attempt':\n",
        "                A_T[index, context_idx, action_idx] = p_relevant if result == 'Passed' else 1 - p_relevant\n",
        "            else:\n",
        "                # Handle 'No Attempt' differently if necessary\n",
        "                A_T[index, context_idx, action_idx] = 1 - p_relevant if result == 'Passed' else p_relevant\n",
        "\n",
        "# Normalize the A matrix for each action and context\n",
        "for action_idx in range(A_T.shape[2]):\n",
        "    for context_idx in range(A_T.shape[1]):\n",
        "        col_sum = np.sum(A_T[:, context_idx, action_idx])\n",
        "        if col_sum > 0:  # Avoid division by zero\n",
        "            A_T[:, context_idx, action_idx] /= col_sum"
      ],
      "metadata": {
        "id": "uWDlHXRM5FSJ"
      },
      "execution_count": null,
      "outputs": []
    },
    {
      "cell_type": "code",
      "source": [
        "plot_likelihood(A_T[:, :, 0], title_str=\"Probability of Student Responses to a Test\")"
      ],
      "metadata": {
        "colab": {
          "base_uri": "https://localhost:8080/",
          "height": 545
        },
        "id": "A6Q2gdf16GqE",
        "outputId": "257334e7-2ce9-4685-8d52-795c34c12fbf"
      },
      "execution_count": null,
      "outputs": [
        {
          "output_type": "display_data",
          "data": {
            "text/plain": [
              "<Figure size 600x600 with 1 Axes>"
            ],
            "image/png": "[encoded data removed]"
          },
          "metadata": {}
        }
      ]
    },
    {
      "cell_type": "markdown",
      "source": [
        "test for error"
      ],
      "metadata": {
        "id": "-2SFTdeaNzwj"
      }
    },
    {
      "cell_type": "code",
      "source": [
        "# Here we are plotting the probabilities for the 'Test' action (choice_id 0)\n",
        "sns.heatmap(A_teacher[:, :, 0], annot=True, cmap='Blues', cbar=True)\n",
        "plt.yticks(ticks=[0.5, 1.5], labels=['Concept Learnt', 'Concept Not Learnt'], rotation=0)\n",
        "plt.xticks(ticks=[0.5, 1.5], labels=['Correct', 'Incorrect'])\n",
        "plt.title(\"Probability of Student Responses to a Test\")\n",
        "plt.ylabel(\"Teacher's belief about student's concept understanding\")\n",
        "plt.xlabel(\"Student response to test\")\n",
        "plt.show()"
      ],
      "metadata": {
        "id": "pypgqoM3W8s1"
      },
      "execution_count": null,
      "outputs": []
    },
    {
      "cell_type": "code",
      "source": [
        "# Here we are plotting the probabilities for the 'Ask for Specification' action (choice_id 0)\n",
        "sns.heatmap(A_student[:, :, 0], annot=True, cmap='Blues', cbar=True)\n",
        "plt.yticks(ticks=[0.5, 1.5], labels=['Question Received', 'Hint Received'], rotation=0)\n",
        "plt.xticks(ticks=[0.5, 1.5], labels=['No Hint', 'Hint Given'])\n",
        "plt.title(\"Probability of Receiving Hints from the Teacher\")\n",
        "plt.ylabel(\"Student's perception of teacher's action\")\n",
        "plt.xlabel(\"Type of teacher's hint\")\n",
        "plt.show()"
      ],
      "metadata": {
        "id": "lqzJT3TmXNH_"
      },
      "execution_count": null,
      "outputs": []
    },
    {
      "cell_type": "markdown",
      "source": [
        " choice observation modality for the student, a sub-array of A which we'll call A_choice_S"
      ],
      "metadata": {
        "id": "yZO35nkT7k0G"
      }
    },
    {
      "cell_type": "code",
      "source": [
        "A_choice_S = np.zeros((len(test_obs_names_S), len(context_names_S), len(choice_names_S)))\n",
        "\n",
        "for choice_id in range(len(choice_names_S)):\n",
        "\n",
        "  A_choice_S[choice_id, :, choice_id] = 1.0\n",
        "\n",
        "A[1] = A_choice_S"
      ],
      "metadata": {
        "id": "2aGuvRyL7jxp"
      },
      "execution_count": null,
      "outputs": []
    },
    {
      "cell_type": "code",
      "source": [
        "\"\"\" Condition on context (first hidden state factor) and display the remaining indices (outcome and choice state) \"\"\"\n",
        "\n",
        "plot_likelihood(A[1][:,0,:], \"Mapping between Student's sensed states and true states\")"
      ],
      "metadata": {
        "id": "Vcg39Dle-Iae"
      },
      "execution_count": null,
      "outputs": []
    },
    {
      "cell_type": "markdown",
      "source": [
        " choice observation modality for the teacher, a sub-array of A which we'll call A_choice_T"
      ],
      "metadata": {
        "id": "lQOg-Iw6_BRn"
      }
    },
    {
      "cell_type": "code",
      "source": [
        "A_choice_T = np.zeros((len(response_obs_names_T), len(context_names_T), len(choice_names_T)))\n",
        "\n",
        "for choice_id in range(len(choice_names_T)):\n",
        "\n",
        "  A_choice_T[choice_id, :, choice_id] = 1.0\n",
        "\n",
        "A[1] = A_choice_T"
      ],
      "metadata": {
        "id": "7r-frFNC_AUb"
      },
      "execution_count": null,
      "outputs": []
    },
    {
      "cell_type": "code",
      "source": [
        "plot_likelihood(A[1][:,0,:], \"Mapping between Teacher's sensed states and true states\")"
      ],
      "metadata": {
        "id": "1eS8aiv6_nkq"
      },
      "execution_count": null,
      "outputs": []
    },
    {
      "cell_type": "markdown",
      "source": [
        "B Matrix - transition matrix -  encodes the probabilities of transitioning from one hidden state to another given a particular action.\n",
        "\n",
        "For the teacher agent, the B matrix could represent the probability of the student's learning state transitioning from one level of understanding to another (e.g., from 'partially understands' to 'fully understands') as a result of the teacher's actions (e.g., providing a hint, conducting a test).\n",
        "\n",
        "For the student agent, the B matrix could reflect the change in the student's own internal state of knowledge about gravity as a consequence of their actions (e.g., studying, asking for clarification) or in response to the teacher's actions."
      ],
      "metadata": {
        "id": "6YaYd2GyBQab"
      }
    },
    {
      "cell_type": "code",
      "source": [
        "# Assuming the teacher's model is concerned with the student's learning state\n",
        "num_states_T = 2  # [Concept not learnt, Concept learnt]\n",
        "num_actions_T = 2  # [Test, Provide Hint]\n",
        "B_T = np.zeros((num_states_T, num_states_T, num_actions_T))\n",
        "\n",
        "# Assuming \"Test\" action doesn't change the student's state directly\n",
        "B_T[:, :, 0] = np.eye(num_states_T)\n",
        "\n",
        "# Assuming \"Provide Hint\" can potentially lead to learning\n",
        "# Placeholder probabilities for transition under \"Provide Hint\"\n",
        "prob_hint_success = 0.2  # Chance that hint leads to learning\n",
        "B_T[:, :, 1] = np.array([[0.8, prob_hint_success],\n",
        "                               [0.2, 0.8]])  # Slight chance of unlearning if misconceptions are reinforced"
      ],
      "metadata": {
        "id": "JxhV_njySOIX"
      },
      "execution_count": null,
      "outputs": []
    },
    {
      "cell_type": "code",
      "source": [
        "# Assuming the student's model reflects their own learning progress\n",
        "num_states_S = 2  # Same as teacher, for simplicity\n",
        "num_actions_S = 2  # [Ask for specification, Respond to question]\n",
        "B_S = np.zeros((num_states_S, num_states_S, num_actions_S))\n",
        "\n",
        "# Assuming \"Ask for specification\" doesn't change the state\n",
        "B_S[:, :, 0] = np.eye(num_states_S)\n",
        "\n",
        "# \"Respond to question\" might change the learning state, based on the correctness of response\n",
        "prob_response_success = 0.3  # Chance of improving understanding after responding\n",
        "B_S[:, :, 1] = np.array([[0.7, prob_response_success],\n",
        "                               [0.3, 0.7]])  # Reflecting the learning process\n"
      ],
      "metadata": {
        "id": "O3jRbAGHSniD"
      },
      "execution_count": null,
      "outputs": []
    },
    {
      "cell_type": "code",
      "source": [
        "# Teacher Model\n",
        "num_states_T = [len(context_names_T), len(choice_names_T)]\n",
        "num_factors_T = len(num_states_T)\n",
        "\n",
        "# Transition probability matrix for concept learning\n",
        "B_concept_T = np.zeros((num_states_T[0], num_states_T[0], num_controls_T[1]))\n",
        "\n",
        "# Assuming the 'Test Gravity on a different planet' action does not change the concept learning state\n",
        "B_concept_T[:, :, 0] = np.eye(num_states_T[0])\n",
        "\n",
        "B_concept_T /= B_concept_T.sum(axis=0, keepdims=True)\n",
        "\n",
        "# Assuming the 'Provide Hint on gravity parameters' action can change the concept learning state\n",
        "# Placeholder probabilities\n",
        "B_concept_T[:, :, 1] = np.array([[0.9, 0.1], [0.1, 0.9]])\n",
        "\n",
        "\n",
        "B_T = utils.obj_array(num_factors_T)\n",
        "B_T[0] = B_concept_T  # Assign the transition matrix for concept learning to the first factor\n"
      ],
      "metadata": {
        "id": "hABDObWmOq_b"
      },
      "execution_count": null,
      "outputs": []
    },
    {
      "cell_type": "code",
      "source": [
        "# Student Model\n",
        "num_states_S = [len(context_names_S), len(choice_names_S)]\n",
        "num_factors_S = len(num_states_S)\n",
        "\n",
        "# Transition probability matrix for concept learning\n",
        "B_concept_S = np.zeros((num_states_S[0], num_states_S[0], num_controls_S[1]))\n",
        "\n",
        "# Assuming the 'Ask for specification' action does not directly change the learning state\n",
        "B_concept_S[:, :, 0] = np.eye(num_states_S[0])\n",
        "\n",
        "# Assuming the 'Respond to question' action reflects understanding and could change the learning state\n",
        "# Placeholder probabilities\n",
        "B_concept_S[:, :, 1] = np.array([[0.8, 0.2], [0.2, 0.8]])\n",
        "\n",
        "B_S = utils.obj_array(num_factors_S)\n",
        "B_S[0] = B_concept_S  # Assign the transition matrix for concept learning to the first factor"
      ],
      "metadata": {
        "id": "MddxB4ZLO-5Q"
      },
      "execution_count": null,
      "outputs": []
    },
    {
      "cell_type": "code",
      "source": [
        "assert all(elem is not None for elem in B_S), \"Some elements of B_S are undefined\"\n",
        "assert all(elem is not None for elem in B_T), \"Some elements of B_T are undefined\"\n"
      ],
      "metadata": {
        "id": "yYWBtcXjP7kK"
      },
      "execution_count": null,
      "outputs": []
    },
    {
      "cell_type": "markdown",
      "source": [
        "C vector - It encodes the desirability of different observations or outcomes from the agent's perspective."
      ],
      "metadata": {
        "id": "dRnoFiARCSWH"
      }
    },
    {
      "cell_type": "code",
      "source": [
        "\n",
        "\n",
        "# Initialize the C vectors for the teacher and the student with the correct number of observation modalities\n",
        "C_T = utils.obj_array(2)\n",
        "C_S = utils.obj_array(2)\n",
        "\n",
        "# Define and assign preferences for the teacher's C vector\n",
        "C_T[0] = softmax(np.array([1.0, -1.0]))  # the first modality (response) prefers correct answers over incorrect\n",
        "C_T[1] = softmax(np.array([-0.5, 0.0]))  # the second modality (request) slightly disincentivizes requests\n",
        "\n",
        "C_S[0] = softmax(np.array([1.0, -1.0]))  # Preferences for 'test' modality (Correct, Incorrect)\n",
        "C_S[1] = softmax(np.zeros(2))  # Neutral preferences for 'hint' modality (Hint on G, Hint on Mass and Distance, General Hint)\n",
        "#C_S[2] = softmax(np.zeros(2))  # Neutral preferences for the third modality (question)\n"
      ],
      "metadata": {
        "id": "N6M0GJ7t7pYv"
      },
      "execution_count": null,
      "outputs": []
    },
    {
      "cell_type": "code",
      "source": [
        "response_obs_names_T = ['Correct', 'Incorrect']  # Example, adjust as needed\n",
        "\n",
        "# Initialize the rewards for the response observations\n",
        "C_T_response = np.zeros(len(response_obs_names_T))\n",
        "C_T_response[0] = -4.0  # Disliking incorrect answers\n",
        "C_T_response[1] = 2.0   # Preferring correct answers\n",
        "\n",
        "# Apply softmax to convert the rewards into preferences (probabilities)\n",
        "C_T[0] = softmax(C_T_response)  # Assuming the first modality relates to response observations\n",
        "\n",
        "# Plot the beliefs (preferences) for the teacher's prior preferences on student responses\n",
        "plot_beliefs(softmax(C_T_response), title_str=\"Teacher Prior Preferences on Student Responses\")"
      ],
      "metadata": {
        "id": "NhHDTcrlEnP3"
      },
      "execution_count": null,
      "outputs": []
    },
    {
      "cell_type": "markdown",
      "source": [
        "D Vector - the agent's belief about the state of the world before any observations are made."
      ],
      "metadata": {
        "id": "87Fs8EgQFuDQ"
      }
    },
    {
      "cell_type": "code",
      "source": [
        "D_S = utils.obj_array(num_factors_S)\n",
        "\n",
        "D_S_context = np.array([0.5,0.5])\n",
        "\n",
        "D_S[0] = D_S_context\n",
        "\n",
        "D_S_choice = np.zeros(len(choice_names_S))\n",
        "\n",
        "D_S_choice[choice_names_S.index(\"Respond to Question\")] = 1.0\n",
        "\n",
        "D_S[1] = D_S_choice\n",
        "\n",
        "print(f'Student beliefs about learning state: {D_S[0]}')\n",
        "print(f'Student beliefs about starting location: {D_S[1]}')"
      ],
      "metadata": {
        "id": "pOh2tWKSGGDL"
      },
      "execution_count": null,
      "outputs": []
    },
    {
      "cell_type": "code",
      "source": [
        "D_T = utils.obj_array(num_factors_S)\n",
        "\n",
        "D_T_context = np.array([0.5,0.5])\n",
        "\n",
        "D_T[0] = D_T_context\n",
        "\n",
        "D_T_choice = np.zeros(len(choice_names_T))\n",
        "\n",
        "D_T_choice[choice_names_T.index(\"Test\")] = 1.0\n",
        "\n",
        "D_T[1] = D_T_choice\n",
        "\n",
        "print(f'Teacher beliefs about learning state: {D_S[0]}')\n",
        "print(f'Teacher beliefs about starting location: {D_S[1]}')"
      ],
      "metadata": {
        "id": "_cgg5QIoIIdB"
      },
      "execution_count": null,
      "outputs": []
    },
    {
      "cell_type": "markdown",
      "source": [
        "Agents Construction"
      ],
      "metadata": {
        "id": "8EvmT-oKIiEj"
      }
    },
    {
      "cell_type": "markdown",
      "source": [
        "Normalization of the matrix"
      ],
      "metadata": {
        "id": "K3SSvzH2LXh9"
      }
    },
    {
      "cell_type": "code",
      "source": [
        "def normalize_matrix(matrix):\n",
        "    \"\"\"\n",
        "    Normalizes a given matrix so that each column sums to 1.\n",
        "    Assumes the first axis represents different observations.\n",
        "    \"\"\"\n",
        "    column_sums = matrix.sum(axis=0, keepdims=True)\n",
        "    normalized_matrix = matrix / column_sums\n",
        "    return normalized_matrix\n",
        "\n",
        "# Assuming A_student is an object array of observation matrices\n",
        "A_student_normalized = np.empty_like(A_student, dtype=object)\n",
        "\n",
        "for mod_idx, matrix in enumerate(A_student):\n",
        "    A_student_normalized[mod_idx] = normalize_matrix(matrix)\n",
        "\n",
        "\n",
        "A_teacher_normalized = A_teacher / A_teacher.sum(axis=0, keepdims=True)"
      ],
      "metadata": {
        "id": "ubDAYJkELYhp"
      },
      "execution_count": null,
      "outputs": []
    },
    {
      "cell_type": "code",
      "source": [
        "from pymdp.agent import Agent\n",
        "\n",
        "my_agent_S = Agent(A = A_student_normalized, B = B_S, C = C_S, D = D_S)"
      ],
      "metadata": {
        "id": "aCn4886XIkfU"
      },
      "execution_count": null,
      "outputs": []
    },
    {
      "cell_type": "code",
      "source": [
        "my_agent_T = Agent(A = A_teacher_normalized, B = B_T, C = C_T, D = D_T)"
      ],
      "metadata": {
        "id": "2yVW4cqiTfse"
      },
      "execution_count": null,
      "outputs": []
    },
    {
      "cell_type": "markdown",
      "source": [],
      "metadata": {
        "id": "Ff5Q7RF2GJGI"
      }
    }
  ]
}