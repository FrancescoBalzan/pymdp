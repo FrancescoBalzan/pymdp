{
  "nbformat": 4,
  "nbformat_minor": 0,
  "metadata": {
    "colab": {
      "provenance": [],
      "authorship_tag": "ABX9TyMnl5CNXrjSdieCCMWBX3ub",
      "include_colab_link": true
    },
    "kernelspec": {
      "name": "python3",
      "display_name": "Python 3"
    },
    "language_info": {
      "name": "python"
    }
  },
  "cells": [
    {
      "cell_type": "markdown",
      "metadata": {
        "id": "view-in-github",
        "colab_type": "text"
      },
      "source": [
        "<a href=\"https://colab.research.google.com/github/FrancescoBalzan/pymdp/blob/master/Teaching_to_Teach.ipynb\" target=\"_parent\"><img src=\"https://colab.research.google.com/assets/colab-badge.svg\" alt=\"Open In Colab\"/></a>"
      ]
    },
    {
      "cell_type": "code",
      "execution_count": 11,
      "metadata": {
        "colab": {
          "base_uri": "https://localhost:8080/"
        },
        "id": "xW84SNFslMto",
        "outputId": "53d8e7f0-2508-43f4-8156-d47e917066c0"
      },
      "outputs": [
        {
          "output_type": "stream",
          "name": "stdout",
          "text": [
            "Collecting inferactively-pymdp\n",
            "  Downloading inferactively_pymdp-0.0.7.1-py3-none-any.whl (58 kB)\n",
            "\u001b[?25l     \u001b[90m━━━━━━━━━━━━━━━━━━━━━━━━━━━━━━━━━━━━━━━━\u001b[0m \u001b[32m0.0/58.9 kB\u001b[0m \u001b[31m?\u001b[0m eta \u001b[36m-:--:--\u001b[0m\r\u001b[2K     \u001b[90m━━━━━━━━━━━━━━━━━━━━━━━━━━━━━━━━━━━━━━━━\u001b[0m \u001b[32m58.9/58.9 kB\u001b[0m \u001b[31m1.8 MB/s\u001b[0m eta \u001b[36m0:00:00\u001b[0m\n",
            "\u001b[?25hRequirement already satisfied: attrs>=20.3.0 in /usr/local/lib/python3.10/dist-packages (from inferactively-pymdp) (23.2.0)\n",
            "Requirement already satisfied: cycler>=0.10.0 in /usr/local/lib/python3.10/dist-packages (from inferactively-pymdp) (0.12.1)\n",
            "Requirement already satisfied: iniconfig>=1.1.1 in /usr/local/lib/python3.10/dist-packages (from inferactively-pymdp) (2.0.0)\n",
            "Requirement already satisfied: kiwisolver>=1.3.1 in /usr/local/lib/python3.10/dist-packages (from inferactively-pymdp) (1.4.5)\n",
            "Requirement already satisfied: matplotlib>=3.1.3 in /usr/local/lib/python3.10/dist-packages (from inferactively-pymdp) (3.7.1)\n",
            "Collecting nose>=1.3.7 (from inferactively-pymdp)\n",
            "  Downloading nose-1.3.7-py3-none-any.whl (154 kB)\n",
            "\u001b[2K     \u001b[90m━━━━━━━━━━━━━━━━━━━━━━━━━━━━━━━━━━━━━━━━\u001b[0m \u001b[32m154.7/154.7 kB\u001b[0m \u001b[31m7.0 MB/s\u001b[0m eta \u001b[36m0:00:00\u001b[0m\n",
            "\u001b[?25hRequirement already satisfied: numpy>=1.19.5 in /usr/local/lib/python3.10/dist-packages (from inferactively-pymdp) (1.25.2)\n",
            "Requirement already satisfied: openpyxl>=3.0.7 in /usr/local/lib/python3.10/dist-packages (from inferactively-pymdp) (3.1.2)\n",
            "Requirement already satisfied: packaging>=20.8 in /usr/local/lib/python3.10/dist-packages (from inferactively-pymdp) (24.0)\n",
            "Requirement already satisfied: pandas>=1.2.4 in /usr/local/lib/python3.10/dist-packages (from inferactively-pymdp) (2.0.3)\n",
            "Requirement already satisfied: Pillow>=8.2.0 in /usr/local/lib/python3.10/dist-packages (from inferactively-pymdp) (9.4.0)\n",
            "Requirement already satisfied: pluggy>=0.13.1 in /usr/local/lib/python3.10/dist-packages (from inferactively-pymdp) (1.4.0)\n",
            "Collecting py>=1.10.0 (from inferactively-pymdp)\n",
            "  Downloading py-1.11.0-py2.py3-none-any.whl (98 kB)\n",
            "\u001b[2K     \u001b[90m━━━━━━━━━━━━━━━━━━━━━━━━━━━━━━━━━━━━━━━━\u001b[0m \u001b[32m98.7/98.7 kB\u001b[0m \u001b[31m10.3 MB/s\u001b[0m eta \u001b[36m0:00:00\u001b[0m\n",
            "\u001b[?25hRequirement already satisfied: pyparsing>=2.4.7 in /usr/local/lib/python3.10/dist-packages (from inferactively-pymdp) (3.1.2)\n",
            "Requirement already satisfied: pytest>=6.2.1 in /usr/local/lib/python3.10/dist-packages (from inferactively-pymdp) (7.4.4)\n",
            "Requirement already satisfied: python-dateutil>=2.8.1 in /usr/local/lib/python3.10/dist-packages (from inferactively-pymdp) (2.8.2)\n",
            "Requirement already satisfied: pytz>=2020.5 in /usr/local/lib/python3.10/dist-packages (from inferactively-pymdp) (2023.4)\n",
            "Requirement already satisfied: scipy>=1.6.0 in /usr/local/lib/python3.10/dist-packages (from inferactively-pymdp) (1.11.4)\n",
            "Requirement already satisfied: seaborn>=0.11.1 in /usr/local/lib/python3.10/dist-packages (from inferactively-pymdp) (0.13.1)\n",
            "Requirement already satisfied: six>=1.15.0 in /usr/local/lib/python3.10/dist-packages (from inferactively-pymdp) (1.16.0)\n",
            "Requirement already satisfied: toml>=0.10.2 in /usr/local/lib/python3.10/dist-packages (from inferactively-pymdp) (0.10.2)\n",
            "Requirement already satisfied: typing-extensions>=3.7.4.3 in /usr/local/lib/python3.10/dist-packages (from inferactively-pymdp) (4.10.0)\n",
            "Collecting xlsxwriter>=1.4.3 (from inferactively-pymdp)\n",
            "  Downloading XlsxWriter-3.2.0-py3-none-any.whl (159 kB)\n",
            "\u001b[2K     \u001b[90m━━━━━━━━━━━━━━━━━━━━━━━━━━━━━━━━━━━━━━━━\u001b[0m \u001b[32m159.9/159.9 kB\u001b[0m \u001b[31m15.5 MB/s\u001b[0m eta \u001b[36m0:00:00\u001b[0m\n",
            "\u001b[?25hCollecting sphinx-rtd-theme>=0.4 (from inferactively-pymdp)\n",
            "  Downloading sphinx_rtd_theme-2.0.0-py2.py3-none-any.whl (2.8 MB)\n",
            "\u001b[2K     \u001b[90m━━━━━━━━━━━━━━━━━━━━━━━━━━━━━━━━━━━━━━━━\u001b[0m \u001b[32m2.8/2.8 MB\u001b[0m \u001b[31m47.9 MB/s\u001b[0m eta \u001b[36m0:00:00\u001b[0m\n",
            "\u001b[?25hCollecting myst-nb>=0.13.1 (from inferactively-pymdp)\n",
            "  Downloading myst_nb-1.0.0-py3-none-any.whl (79 kB)\n",
            "\u001b[2K     \u001b[90m━━━━━━━━━━━━━━━━━━━━━━━━━━━━━━━━━━━━━━━━\u001b[0m \u001b[32m79.9/79.9 kB\u001b[0m \u001b[31m10.6 MB/s\u001b[0m eta \u001b[36m0:00:00\u001b[0m\n",
            "\u001b[?25hRequirement already satisfied: autograd>=1.3 in /usr/local/lib/python3.10/dist-packages (from inferactively-pymdp) (1.6.2)\n",
            "Requirement already satisfied: future>=0.15.2 in /usr/local/lib/python3.10/dist-packages (from autograd>=1.3->inferactively-pymdp) (0.18.3)\n",
            "Requirement already satisfied: contourpy>=1.0.1 in /usr/local/lib/python3.10/dist-packages (from matplotlib>=3.1.3->inferactively-pymdp) (1.2.0)\n",
            "Requirement already satisfied: fonttools>=4.22.0 in /usr/local/lib/python3.10/dist-packages (from matplotlib>=3.1.3->inferactively-pymdp) (4.50.0)\n",
            "Requirement already satisfied: importlib_metadata in /usr/local/lib/python3.10/dist-packages (from myst-nb>=0.13.1->inferactively-pymdp) (7.1.0)\n",
            "Requirement already satisfied: ipython in /usr/local/lib/python3.10/dist-packages (from myst-nb>=0.13.1->inferactively-pymdp) (7.34.0)\n",
            "Collecting jupyter-cache>=0.5 (from myst-nb>=0.13.1->inferactively-pymdp)\n",
            "  Downloading jupyter_cache-1.0.0-py3-none-any.whl (33 kB)\n",
            "Requirement already satisfied: nbclient in /usr/local/lib/python3.10/dist-packages (from myst-nb>=0.13.1->inferactively-pymdp) (0.10.0)\n",
            "Collecting myst-parser>=1.0.0 (from myst-nb>=0.13.1->inferactively-pymdp)\n",
            "  Downloading myst_parser-2.0.0-py3-none-any.whl (77 kB)\n",
            "\u001b[2K     \u001b[90m━━━━━━━━━━━━━━━━━━━━━━━━━━━━━━━━━━━━━━━━\u001b[0m \u001b[32m77.2/77.2 kB\u001b[0m \u001b[31m9.1 MB/s\u001b[0m eta \u001b[36m0:00:00\u001b[0m\n",
            "\u001b[?25hRequirement already satisfied: nbformat>=5.0 in /usr/local/lib/python3.10/dist-packages (from myst-nb>=0.13.1->inferactively-pymdp) (5.10.3)\n",
            "Requirement already satisfied: pyyaml in /usr/local/lib/python3.10/dist-packages (from myst-nb>=0.13.1->inferactively-pymdp) (6.0.1)\n",
            "Requirement already satisfied: sphinx>=5 in /usr/local/lib/python3.10/dist-packages (from myst-nb>=0.13.1->inferactively-pymdp) (5.0.2)\n",
            "Requirement already satisfied: ipykernel in /usr/local/lib/python3.10/dist-packages (from myst-nb>=0.13.1->inferactively-pymdp) (5.5.6)\n",
            "Requirement already satisfied: et-xmlfile in /usr/local/lib/python3.10/dist-packages (from openpyxl>=3.0.7->inferactively-pymdp) (1.1.0)\n",
            "Requirement already satisfied: tzdata>=2022.1 in /usr/local/lib/python3.10/dist-packages (from pandas>=1.2.4->inferactively-pymdp) (2024.1)\n",
            "Requirement already satisfied: exceptiongroup>=1.0.0rc8 in /usr/local/lib/python3.10/dist-packages (from pytest>=6.2.1->inferactively-pymdp) (1.2.0)\n",
            "Requirement already satisfied: tomli>=1.0.0 in /usr/local/lib/python3.10/dist-packages (from pytest>=6.2.1->inferactively-pymdp) (2.0.1)\n",
            "Requirement already satisfied: docutils<0.21 in /usr/local/lib/python3.10/dist-packages (from sphinx-rtd-theme>=0.4->inferactively-pymdp) (0.18.1)\n",
            "Collecting sphinxcontrib-jquery<5,>=4 (from sphinx-rtd-theme>=0.4->inferactively-pymdp)\n",
            "  Downloading sphinxcontrib_jquery-4.1-py2.py3-none-any.whl (121 kB)\n",
            "\u001b[2K     \u001b[90m━━━━━━━━━━━━━━━━━━━━━━━━━━━━━━━━━━━━━━━━\u001b[0m \u001b[32m121.1/121.1 kB\u001b[0m \u001b[31m12.3 MB/s\u001b[0m eta \u001b[36m0:00:00\u001b[0m\n",
            "\u001b[?25hRequirement already satisfied: click in /usr/local/lib/python3.10/dist-packages (from jupyter-cache>=0.5->myst-nb>=0.13.1->inferactively-pymdp) (8.1.7)\n",
            "Requirement already satisfied: sqlalchemy<3,>=1.3.12 in /usr/local/lib/python3.10/dist-packages (from jupyter-cache>=0.5->myst-nb>=0.13.1->inferactively-pymdp) (2.0.29)\n",
            "Requirement already satisfied: tabulate in /usr/local/lib/python3.10/dist-packages (from jupyter-cache>=0.5->myst-nb>=0.13.1->inferactively-pymdp) (0.9.0)\n",
            "Requirement already satisfied: jinja2 in /usr/local/lib/python3.10/dist-packages (from myst-parser>=1.0.0->myst-nb>=0.13.1->inferactively-pymdp) (3.1.3)\n",
            "Requirement already satisfied: markdown-it-py~=3.0 in /usr/local/lib/python3.10/dist-packages (from myst-parser>=1.0.0->myst-nb>=0.13.1->inferactively-pymdp) (3.0.0)\n",
            "Requirement already satisfied: mdit-py-plugins~=0.4 in /usr/local/lib/python3.10/dist-packages (from myst-parser>=1.0.0->myst-nb>=0.13.1->inferactively-pymdp) (0.4.0)\n",
            "Collecting sphinx>=5 (from myst-nb>=0.13.1->inferactively-pymdp)\n",
            "  Downloading sphinx-7.2.6-py3-none-any.whl (3.2 MB)\n",
            "\u001b[2K     \u001b[90m━━━━━━━━━━━━━━━━━━━━━━━━━━━━━━━━━━━━━━━━\u001b[0m \u001b[32m3.2/3.2 MB\u001b[0m \u001b[31m78.0 MB/s\u001b[0m eta \u001b[36m0:00:00\u001b[0m\n",
            "\u001b[?25hRequirement already satisfied: jupyter-client>=6.1.12 in /usr/local/lib/python3.10/dist-packages (from nbclient->myst-nb>=0.13.1->inferactively-pymdp) (6.1.12)\n",
            "Requirement already satisfied: jupyter-core!=5.0.*,>=4.12 in /usr/local/lib/python3.10/dist-packages (from nbclient->myst-nb>=0.13.1->inferactively-pymdp) (5.7.2)\n",
            "Requirement already satisfied: traitlets>=5.4 in /usr/local/lib/python3.10/dist-packages (from nbclient->myst-nb>=0.13.1->inferactively-pymdp) (5.7.1)\n",
            "Requirement already satisfied: fastjsonschema in /usr/local/lib/python3.10/dist-packages (from nbformat>=5.0->myst-nb>=0.13.1->inferactively-pymdp) (2.19.1)\n",
            "Requirement already satisfied: jsonschema>=2.6 in /usr/local/lib/python3.10/dist-packages (from nbformat>=5.0->myst-nb>=0.13.1->inferactively-pymdp) (4.19.2)\n",
            "Requirement already satisfied: sphinxcontrib-applehelp in /usr/local/lib/python3.10/dist-packages (from sphinx>=5->myst-nb>=0.13.1->inferactively-pymdp) (1.0.8)\n",
            "Requirement already satisfied: sphinxcontrib-devhelp in /usr/local/lib/python3.10/dist-packages (from sphinx>=5->myst-nb>=0.13.1->inferactively-pymdp) (1.0.6)\n",
            "Requirement already satisfied: sphinxcontrib-jsmath in /usr/local/lib/python3.10/dist-packages (from sphinx>=5->myst-nb>=0.13.1->inferactively-pymdp) (1.0.1)\n",
            "Requirement already satisfied: sphinxcontrib-htmlhelp>=2.0.0 in /usr/local/lib/python3.10/dist-packages (from sphinx>=5->myst-nb>=0.13.1->inferactively-pymdp) (2.0.5)\n",
            "Requirement already satisfied: sphinxcontrib-serializinghtml>=1.1.9 in /usr/local/lib/python3.10/dist-packages (from sphinx>=5->myst-nb>=0.13.1->inferactively-pymdp) (1.1.10)\n",
            "Requirement already satisfied: sphinxcontrib-qthelp in /usr/local/lib/python3.10/dist-packages (from sphinx>=5->myst-nb>=0.13.1->inferactively-pymdp) (1.0.7)\n",
            "Requirement already satisfied: Pygments>=2.14 in /usr/local/lib/python3.10/dist-packages (from sphinx>=5->myst-nb>=0.13.1->inferactively-pymdp) (2.16.1)\n",
            "Requirement already satisfied: snowballstemmer>=2.0 in /usr/local/lib/python3.10/dist-packages (from sphinx>=5->myst-nb>=0.13.1->inferactively-pymdp) (2.2.0)\n",
            "Requirement already satisfied: babel>=2.9 in /usr/local/lib/python3.10/dist-packages (from sphinx>=5->myst-nb>=0.13.1->inferactively-pymdp) (2.14.0)\n",
            "Requirement already satisfied: alabaster<0.8,>=0.7 in /usr/local/lib/python3.10/dist-packages (from sphinx>=5->myst-nb>=0.13.1->inferactively-pymdp) (0.7.16)\n",
            "Requirement already satisfied: imagesize>=1.3 in /usr/local/lib/python3.10/dist-packages (from sphinx>=5->myst-nb>=0.13.1->inferactively-pymdp) (1.4.1)\n",
            "Requirement already satisfied: requests>=2.25.0 in /usr/local/lib/python3.10/dist-packages (from sphinx>=5->myst-nb>=0.13.1->inferactively-pymdp) (2.31.0)\n",
            "Requirement already satisfied: zipp>=0.5 in /usr/local/lib/python3.10/dist-packages (from importlib_metadata->myst-nb>=0.13.1->inferactively-pymdp) (3.18.1)\n",
            "Requirement already satisfied: ipython-genutils in /usr/local/lib/python3.10/dist-packages (from ipykernel->myst-nb>=0.13.1->inferactively-pymdp) (0.2.0)\n",
            "Requirement already satisfied: tornado>=4.2 in /usr/local/lib/python3.10/dist-packages (from ipykernel->myst-nb>=0.13.1->inferactively-pymdp) (6.3.3)\n",
            "Requirement already satisfied: setuptools>=18.5 in /usr/local/lib/python3.10/dist-packages (from ipython->myst-nb>=0.13.1->inferactively-pymdp) (67.7.2)\n",
            "Collecting jedi>=0.16 (from ipython->myst-nb>=0.13.1->inferactively-pymdp)\n",
            "  Downloading jedi-0.19.1-py2.py3-none-any.whl (1.6 MB)\n",
            "\u001b[2K     \u001b[90m━━━━━━━━━━━━━━━━━━━━━━━━━━━━━━━━━━━━━━━━\u001b[0m \u001b[32m1.6/1.6 MB\u001b[0m \u001b[31m55.8 MB/s\u001b[0m eta \u001b[36m0:00:00\u001b[0m\n",
            "\u001b[?25hRequirement already satisfied: decorator in /usr/local/lib/python3.10/dist-packages (from ipython->myst-nb>=0.13.1->inferactively-pymdp) (4.4.2)\n",
            "Requirement already satisfied: pickleshare in /usr/local/lib/python3.10/dist-packages (from ipython->myst-nb>=0.13.1->inferactively-pymdp) (0.7.5)\n",
            "Requirement already satisfied: prompt-toolkit!=3.0.0,!=3.0.1,<3.1.0,>=2.0.0 in /usr/local/lib/python3.10/dist-packages (from ipython->myst-nb>=0.13.1->inferactively-pymdp) (3.0.43)\n",
            "Requirement already satisfied: backcall in /usr/local/lib/python3.10/dist-packages (from ipython->myst-nb>=0.13.1->inferactively-pymdp) (0.2.0)\n",
            "Requirement already satisfied: matplotlib-inline in /usr/local/lib/python3.10/dist-packages (from ipython->myst-nb>=0.13.1->inferactively-pymdp) (0.1.6)\n",
            "Requirement already satisfied: pexpect>4.3 in /usr/local/lib/python3.10/dist-packages (from ipython->myst-nb>=0.13.1->inferactively-pymdp) (4.9.0)\n",
            "Requirement already satisfied: parso<0.9.0,>=0.8.3 in /usr/local/lib/python3.10/dist-packages (from jedi>=0.16->ipython->myst-nb>=0.13.1->inferactively-pymdp) (0.8.3)\n",
            "Requirement already satisfied: MarkupSafe>=2.0 in /usr/local/lib/python3.10/dist-packages (from jinja2->myst-parser>=1.0.0->myst-nb>=0.13.1->inferactively-pymdp) (2.1.5)\n",
            "Requirement already satisfied: jsonschema-specifications>=2023.03.6 in /usr/local/lib/python3.10/dist-packages (from jsonschema>=2.6->nbformat>=5.0->myst-nb>=0.13.1->inferactively-pymdp) (2023.12.1)\n",
            "Requirement already satisfied: referencing>=0.28.4 in /usr/local/lib/python3.10/dist-packages (from jsonschema>=2.6->nbformat>=5.0->myst-nb>=0.13.1->inferactively-pymdp) (0.34.0)\n",
            "Requirement already satisfied: rpds-py>=0.7.1 in /usr/local/lib/python3.10/dist-packages (from jsonschema>=2.6->nbformat>=5.0->myst-nb>=0.13.1->inferactively-pymdp) (0.18.0)\n",
            "Requirement already satisfied: pyzmq>=13 in /usr/local/lib/python3.10/dist-packages (from jupyter-client>=6.1.12->nbclient->myst-nb>=0.13.1->inferactively-pymdp) (23.2.1)\n",
            "Requirement already satisfied: platformdirs>=2.5 in /usr/local/lib/python3.10/dist-packages (from jupyter-core!=5.0.*,>=4.12->nbclient->myst-nb>=0.13.1->inferactively-pymdp) (4.2.0)\n",
            "Requirement already satisfied: mdurl~=0.1 in /usr/local/lib/python3.10/dist-packages (from markdown-it-py~=3.0->myst-parser>=1.0.0->myst-nb>=0.13.1->inferactively-pymdp) (0.1.2)\n",
            "Requirement already satisfied: ptyprocess>=0.5 in /usr/local/lib/python3.10/dist-packages (from pexpect>4.3->ipython->myst-nb>=0.13.1->inferactively-pymdp) (0.7.0)\n",
            "Requirement already satisfied: wcwidth in /usr/local/lib/python3.10/dist-packages (from prompt-toolkit!=3.0.0,!=3.0.1,<3.1.0,>=2.0.0->ipython->myst-nb>=0.13.1->inferactively-pymdp) (0.2.13)\n",
            "Requirement already satisfied: charset-normalizer<4,>=2 in /usr/local/lib/python3.10/dist-packages (from requests>=2.25.0->sphinx>=5->myst-nb>=0.13.1->inferactively-pymdp) (3.3.2)\n",
            "Requirement already satisfied: idna<4,>=2.5 in /usr/local/lib/python3.10/dist-packages (from requests>=2.25.0->sphinx>=5->myst-nb>=0.13.1->inferactively-pymdp) (3.6)\n",
            "Requirement already satisfied: urllib3<3,>=1.21.1 in /usr/local/lib/python3.10/dist-packages (from requests>=2.25.0->sphinx>=5->myst-nb>=0.13.1->inferactively-pymdp) (2.0.7)\n",
            "Requirement already satisfied: certifi>=2017.4.17 in /usr/local/lib/python3.10/dist-packages (from requests>=2.25.0->sphinx>=5->myst-nb>=0.13.1->inferactively-pymdp) (2024.2.2)\n",
            "Requirement already satisfied: greenlet!=0.4.17 in /usr/local/lib/python3.10/dist-packages (from sqlalchemy<3,>=1.3.12->jupyter-cache>=0.5->myst-nb>=0.13.1->inferactively-pymdp) (3.0.3)\n",
            "Installing collected packages: nose, xlsxwriter, py, jedi, sphinx, sphinxcontrib-jquery, myst-parser, sphinx-rtd-theme, jupyter-cache, myst-nb, inferactively-pymdp\n",
            "  Attempting uninstall: sphinx\n",
            "    Found existing installation: Sphinx 5.0.2\n",
            "    Uninstalling Sphinx-5.0.2:\n",
            "      Successfully uninstalled Sphinx-5.0.2\n",
            "Successfully installed inferactively-pymdp-0.0.7.1 jedi-0.19.1 jupyter-cache-1.0.0 myst-nb-1.0.0 myst-parser-2.0.0 nose-1.3.7 py-1.11.0 sphinx-7.2.6 sphinx-rtd-theme-2.0.0 sphinxcontrib-jquery-4.1 xlsxwriter-3.2.0\n"
          ]
        }
      ],
      "source": [
        "pip install inferactively-pymdp"
      ]
    },
    {
      "cell_type": "markdown",
      "source": [
        "Agents definition"
      ],
      "metadata": {
        "id": "ootg9Fy1rnzr"
      }
    },
    {
      "cell_type": "code",
      "source": [
        "import pymdp\n",
        "from pymdp import utils\n",
        "from pymdp.agent import Agent\n",
        "\n",
        "#Teacher Agent\n",
        "\n",
        "#num_obs = [3, 5] # observation modality dimensions\n",
        "#num_states = [4, 2, 3] # hidden state factor dimensions\n",
        "#num_controls = [4, 1, 1] # control state factor dimensions\n",
        "#A_array = utils.random_A_matrix(num_obs, num_states) # create sensory likelihood (A matrix)\n",
        "#B_array = utils.random_B_matrix(num_states, num_controls) # create transition likelihood (B matrix)\n",
        "\n",
        "#C_vector = utils.obj_array_uniform(num_obs) # uniform preferences\n",
        "\n",
        "# instantiate a quick agent using your A, B and C arrays\n",
        "#my_agent = Agent( A = A_array, B = B_array, C = C_vector)\n",
        "\n",
        "# give the agent a random observation and get the optimized posterior beliefs\n",
        "\n",
        "#observation = [1, 4] # a list specifying the indices of the observation, for each observation modality\n",
        "\n",
        "#qs = my_agent.infer_states(observation) # get posterior over hidden states (a multi-factor belief)\n",
        "\n",
        "# Do active inference\n",
        "\n",
        "#q_pi, neg_efe = my_agent.infer_policies() # return the policy posterior and return (negative) expected free energies of each policy as well\n",
        "\n",
        "#action = my_agent.sample_action() # sample an action from the posterior over policies\n"
      ],
      "metadata": {
        "id": "Yp19Kv9vrb_E"
      },
      "execution_count": 12,
      "outputs": []
    },
    {
      "cell_type": "markdown",
      "source": [
        "In pymdp, both generative model distributions (e.g. A or B) as well as posterior distributions over hidden states (e.g. qs) and observations are represented as what we call “object arrays”."
      ],
      "metadata": {
        "id": "DsBLTLyfuHsU"
      }
    },
    {
      "cell_type": "markdown",
      "source": [
        "Their array elements can be arbitrary Python data structures or objects. The entries of an object array can thus have arbitrary type and dimensionality."
      ],
      "metadata": {
        "id": "-lH21C0PuWTM"
      }
    },
    {
      "cell_type": "code",
      "source": [
        "import numpy as np\n",
        "import matplotlib.pyplot as plt\n",
        "import seaborn as sns"
      ],
      "metadata": {
        "id": "Hu9AFj4rsVk2"
      },
      "execution_count": 13,
      "outputs": []
    },
    {
      "cell_type": "markdown",
      "source": [
        "Object arrays can be initialized standard numpy constructors, but by also explicitly declaring dtype = object."
      ],
      "metadata": {
        "id": "If4Qzwkeudy2"
      }
    },
    {
      "cell_type": "code",
      "source": [
        "my_empty_array = np.empty(5, dtype = object)"
      ],
      "metadata": {
        "id": "iufnoK55uBFC"
      },
      "execution_count": 14,
      "outputs": []
    },
    {
      "cell_type": "markdown",
      "source": [
        "useful functions"
      ],
      "metadata": {
        "id": "Wr6w8oa2yzOX"
      }
    },
    {
      "cell_type": "code",
      "source": [
        "def plot_likelihood(matrix, title_str = \"Likelihood distribution (A)\"):\n",
        "    \"\"\"\n",
        "    Plots a 2-D likelihood matrix as a heatmap\n",
        "    \"\"\"\n",
        "\n",
        "    if not np.isclose(matrix.sum(axis=0), 1.0).all():\n",
        "      raise ValueError(\"Distribution not column-normalized! Please normalize (ensure matrix.sum(axis=0) == 1.0 for all columns)\")\n",
        "\n",
        "    fig = plt.figure(figsize = (6,6))\n",
        "    ax = sns.heatmap(matrix, cmap = 'gray', cbar = False, vmin = 0.0, vmax = 1.0)\n",
        "    plt.title(title_str)\n",
        "    plt.show()\n",
        "\n",
        "\n",
        "def plot_beliefs(belief_dist, title_str=\"\"):\n",
        "    \"\"\"\n",
        "    Plot a categorical distribution or belief distribution, stored in the 1-D numpy vector `belief_dist`\n",
        "    \"\"\"\n",
        "\n",
        "    if not np.isclose(belief_dist.sum(), 1.0):\n",
        "      raise ValueError(\"Distribution not normalized! Please normalize\")\n",
        "\n",
        "    plt.grid(zorder=0)\n",
        "    plt.bar(range(belief_dist.shape[0]), belief_dist, color='r', zorder=3)\n",
        "    plt.xticks(range(belief_dist.shape[0]))\n",
        "    plt.title(title_str)\n",
        "    plt.show()"
      ],
      "metadata": {
        "id": "MSpgwqo5yyaB"
      },
      "execution_count": 15,
      "outputs": []
    },
    {
      "cell_type": "markdown",
      "source": [
        "Specify the dimensionalities of the hidden state factors, the control factors, and the observation modalities for the teacher Agent.\n",
        "Here we have: - Teacher belief of student learning state: the prob that the student has learnt the Gravity formula.\n",
        "- Teacher observations come from student actions and can result in [Correct, Not Correct; Hint request];\n",
        "- Teacher actions are [Test Gravity on different Planet; Provide Hint on Gravity parameters].\n",
        "- Teacher hidden state is the Student learning state\n",
        "The actions of the teacher depend on the observation: if the observation is Correct, the action is Test Gravity on different Planet; if the observation is Not Correct or Hint request, the action should be Provide Hint on Gravity parameters. The belief should be updated based on actions and observations to achieve a better posterior belief probability than the starting probability belief on student's learning state.\n",
        "\n",
        "- Student Belief on planets' gravity\n",
        "--use discrete parameters regarding the belief of the student about the parameters involved in the g thoery.\n",
        "- Student Observation: [Correct; Not Correct; Hint on Gravity parameters]\n",
        "- Student actions: [Respond to test on different planet; Ask for Hint]\n",
        "- Student hidden state: The gravity theory used for identifying the right G for every planet\n",
        "\n",
        "The actions of the student depend on the observation:  if the observation is Correct, the action is Respond to test on different Planet and vice versa;  if the observation is Not Correct the action should be Ask Hint on Gravity parameters. The belief should be updated based on actions and observations to achieve a better posterior belief probability than the starting probability belief on Planets' gravity."
      ],
      "metadata": {
        "id": "oQFWJ8Nwy9Ku"
      }
    },
    {
      "cell_type": "markdown",
      "source": [
        "Definire la belief probability dello studente per quanto riguarda la teoria della gravità, in maniera discreta. Operare come il gioco indovina chi: lo studente haun set di parametri che può chiedere all'insegnante il quale gli risponde Si/No"
      ],
      "metadata": {
        "id": "ql-KyQF_PlFZ"
      }
    },
    {
      "cell_type": "code",
      "source": [
        "context_names_T = ['Concept Learnt', 'Concept not learnt']\n",
        "choice_names_T = ['Test', 'Hint Parameter']\n",
        "\n",
        "\"\"\" Define `num_states` and `num_factors` below \"\"\"\n",
        "num_states_T = [len(context_names_T), len(choice_names_T)]\n",
        "num_factors_T = len(num_states_T)\n",
        "\n",
        "context_action_names_T = ['Do-nothing']\n",
        "choice_action_names_T = ['Test Gravity on a different planet', 'Provide Hint on gravity parameters']\n",
        "hint_action_names_T = ['Hint on G', 'Hint on Mass and Distance', 'General Hint']\n",
        "\n",
        "\"\"\" Define `num_controls` below \"\"\"\n",
        "num_controls_T = [len(context_action_names_T), len(choice_action_names_T), len(hint_action_names_T)]\n",
        "\n",
        "response_obs_names_T = ['Correct', 'Incorrect',]\n",
        "request_obs_names_T = ['Request Specification', 'No Request']\n",
        "\n",
        "\"\"\" Update `num_obs_P` and `num_modalities_P` below to include all observation categories from the student \"\"\"\n",
        "num_obs_T = [len(response_obs_names_T), len(request_obs_names_T)]\n",
        "num_modalities_T = len(num_obs_T)"
      ],
      "metadata": {
        "id": "osRYrWdyy-HK"
      },
      "execution_count": 16,
      "outputs": []
    },
    {
      "cell_type": "markdown",
      "source": [
        "Specify the dimensionalities of the hidden state factors, the control factors, and the observation modalities for the Student Agent\n"
      ],
      "metadata": {
        "id": "-nOgneM_SskV"
      }
    },
    {
      "cell_type": "code",
      "source": [
        "context_names_S = ['Concept Learnt', 'Concept not learnt']\n",
        "choice_names_S = ['Question', 'Answer']\n",
        "\n",
        "\"\"\" Define `num_states` and `num_factors` below \"\"\"\n",
        "num_states_S = [len(context_names_S), len(choice_names_S)]\n",
        "num_factors_S = len(num_states_S)\n",
        "\n",
        "context_action_names_S = ['Do-nothing']\n",
        "choice_action_names_S = ['Ask fot specification', 'Respond to question']\n",
        "\n",
        "\"\"\" Define `num_controls` below \"\"\"\n",
        "num_controls_S = [len(context_action_names_S), len(choice_action_names_S)]\n",
        "\n",
        "test_obs_names_S = ['Correct', 'Incorrect']\n",
        "hint_obs_names_S = ['Hint on G', 'Hint on Mass', 'Hint on R']\n",
        "question_obs_names_S = ['Simple Gravity Question', 'Gravity Question on New Planet']\n",
        "\n",
        "\"\"\" Update `num_obs_S` and `num_modalities_S` below to include all observation categories \"\"\"\n",
        "num_obs_S = [len(test_obs_names_S), len(hint_obs_names_S), len(question_obs_names_S)]\n",
        "num_modalities_S = len(num_obs_S)"
      ],
      "metadata": {
        "id": "f3ihaehLSwan"
      },
      "execution_count": 2,
      "outputs": []
    },
    {
      "cell_type": "code",
      "source": [],
      "metadata": {
        "id": "y8Rv0498UAiC"
      },
      "execution_count": null,
      "outputs": []
    },
    {
      "cell_type": "markdown",
      "source": [
        "start from here and go to A matrix definition"
      ],
      "metadata": {
        "id": "N5_mxWD62ETI"
      }
    },
    {
      "cell_type": "code",
      "source": [
        "import pymdp\n",
        "from pymdp import utils\n",
        "from pymdp.maths import softmax"
      ],
      "metadata": {
        "id": "Wco3vMo32mXU"
      },
      "execution_count": 113,
      "outputs": []
    },
    {
      "cell_type": "code",
      "source": [
        "\n",
        "\n",
        "# For the teacher\n",
        "num_modalities_T = len(response_obs_names_T)  # Adjust this based on your actual model\n",
        "A_teacher = utils.obj_array(num_modalities_T)\n",
        "\n",
        "# For the student\n",
        "num_modalities_S = len(hint_obs_names_S)  # Adjust this based on your actual model\n",
        "A_student = utils.obj_array(num_modalities_S)\n",
        "\n",
        "\n"
      ],
      "metadata": {
        "id": "gokWkl2k2WIY"
      },
      "execution_count": 19,
      "outputs": []
    },
    {
      "cell_type": "code",
      "source": [
        "\n",
        "# Teacher's perspective: Effect of actions on observing student responses\n",
        "p_correct = 0.7  # Probability that the student responds correctly to a question after a hint\n",
        "p_incorrect = 0.3  # Probability of incorrect response\n",
        "\n",
        "\n",
        "for choice_id, choice_name in enumerate(choice_names_T):\n",
        "    if choice_names_T == 'Test':\n",
        "        # For each context (concept learnt or not), we need to provide probabilities for all response types\n",
        "        # Since `A_teacher[:, context, choice]` expects an array matching the number of response types,\n",
        "        # and given we have 2 contexts, we should iterate over contexts instead of directly assigning to them\n",
        "        for context_id in range(len(context_names_T)):\n",
        "            if context_id == 0: # Concept Learnt\n",
        "                A_teacher[:, context_id, choice_id] = [p_correct, p_incorrect]\n",
        "            else: # Concept Not Learnt\n",
        "                A_teacher[:, context_id, choice_id] = [p_incorrect, p_correct]\n",
        "    elif choice_names_T == 'Hint Parameter':\n",
        "        # Repeat the logic for 'Hint Parameter', adjusting probabilities as needed\n",
        "        for context_id in range(len(context_names_T)):\n",
        "            if context_id == 0: # Concept Learnt, hint improves chances\n",
        "                A_teacher[:, context_id, choice_id] = [p_correct + 0.1, p_incorrect - 0.05]\n",
        "            else: # Concept Not Learnt, hint slightly improves understanding\n",
        "                A_teacher[:, context_id, choice_id] = [p_incorrect - 0.05, p_correct + 0.1]\n",
        "\n",
        "\n",
        "\n",
        "# Student's perspective: Effect of teacher's actions on receiving hints\n",
        "p_hint_received = 0.9  # Probability of effectively receiving and understanding a hint\n",
        "p_no_hint = 0.1  # Probability of not receiving or misunderstanding the hint\n",
        "\n",
        "for choice_id, choice_name in enumerate(choice_names_S):\n",
        "    if choice_names_S == 'Ask for Specification':\n",
        "        A_student[:, :, choice_id] = np.array([[p_no_hint, p_hint_received],  # No Hint, Hint received\n",
        "                                               [p_hint_received, p_no_hint]])  # High chance of getting a useful hint\n",
        "    elif choice_names_S == 'Respond to Question':\n",
        "        A_student[:, :, choice_id] = np.array([[1.0, 0.0],  # Default response, no new hint provided\n",
        "                                               [0.0, 1.0]])  # No operation for this action, placeholder\n",
        "\n",
        "# Assuming A is your observation model array for the entire system\n",
        "A = [None, None]  # Placeholder for the system's observation models\n",
        "A[0] = A_teacher  # Update the teacher's observation model with the newly defined matrix\n",
        "A[1] = A_student  # Update the student's observation model\n"
      ],
      "metadata": {
        "id": "vrK1SXXJz7u1"
      },
      "execution_count": 49,
      "outputs": []
    },
    {
      "cell_type": "markdown",
      "source": [
        "test for error"
      ],
      "metadata": {
        "id": "-2SFTdeaNzwj"
      }
    },
    {
      "cell_type": "code",
      "source": [
        "# Example debug print statement before an assignment\n",
        "print(\"Target slice shape:\", A_teacher[:, :, choice_id].shape)\n",
        "print(\"Data shape:\", np.array([[p_correct, p_incorrect], [p_incorrect, p_correct]]).shape)\n"
      ],
      "metadata": {
        "colab": {
          "base_uri": "https://localhost:8080/"
        },
        "id": "OnFubLZJMryR",
        "outputId": "fd72975c-d3e6-4797-f766-08debb6ec34f"
      },
      "execution_count": 84,
      "outputs": [
        {
          "output_type": "stream",
          "name": "stdout",
          "text": [
            "Target slice shape: (2, 2)\n",
            "Data shape: (2, 2)\n"
          ]
        }
      ]
    },
    {
      "cell_type": "code",
      "source": [
        "plot_likelihood(A_teacher[:, :, 0], title_str=\"Probability of Student Responses to a Test\")"
      ],
      "metadata": {
        "colab": {
          "base_uri": "https://localhost:8080/",
          "height": 545
        },
        "id": "6mzJ-p3DO-Ef",
        "outputId": "1cf4f27e-de10-4fa0-d275-d4b2261f0dab"
      },
      "execution_count": 85,
      "outputs": [
        {
          "output_type": "display_data",
          "data": {
            "text/plain": [
              "<Figure size 600x600 with 1 Axes>"
            ],
            "image/png": "[encoded data removed]"
          },
          "metadata": {}
        }
      ]
    },
    {
      "cell_type": "code",
      "source": [
        "# Here we are plotting the probabilities for the 'Test' action (choice_id 0)\n",
        "sns.heatmap(A_teacher[:, :, 0], annot=True, cmap='Blues', cbar=True)\n",
        "plt.yticks(ticks=[0.5, 1.5], labels=['Concept Learnt', 'Concept Not Learnt'], rotation=0)\n",
        "plt.xticks(ticks=[0.5, 1.5], labels=['Correct', 'Incorrect'])\n",
        "plt.title(\"Probability of Student Responses to a Test\")\n",
        "plt.ylabel(\"Teacher's belief about student's concept understanding\")\n",
        "plt.xlabel(\"Student response to test\")\n",
        "plt.show()"
      ],
      "metadata": {
        "colab": {
          "base_uri": "https://localhost:8080/",
          "height": 472
        },
        "id": "pypgqoM3W8s1",
        "outputId": "241ce17a-69e9-4da6-a20f-4a1029e2e2a8"
      },
      "execution_count": 53,
      "outputs": [
        {
          "output_type": "display_data",
          "data": {
            "text/plain": [
              "<Figure size 640x480 with 2 Axes>"
            ],
            "image/png": "[encoded data removed]"
          },
          "metadata": {}
        }
      ]
    },
    {
      "cell_type": "code",
      "source": [
        "# Here we are plotting the probabilities for the 'Ask for Specification' action (choice_id 0)\n",
        "sns.heatmap(A_student[:, :, 0], annot=True, cmap='Blues', cbar=True)\n",
        "plt.yticks(ticks=[0.5, 1.5], labels=['Question Received', 'Hint Received'], rotation=0)\n",
        "plt.xticks(ticks=[0.5, 1.5], labels=['No Hint', 'Hint Given'])\n",
        "plt.title(\"Probability of Receiving Hints from the Teacher\")\n",
        "plt.ylabel(\"Student's perception of teacher's action\")\n",
        "plt.xlabel(\"Type of teacher's hint\")\n",
        "plt.show()"
      ],
      "metadata": {
        "colab": {
          "base_uri": "https://localhost:8080/",
          "height": 472
        },
        "id": "lqzJT3TmXNH_",
        "outputId": "08186792-65ec-4811-c89d-fbec33322537"
      },
      "execution_count": 52,
      "outputs": [
        {
          "output_type": "display_data",
          "data": {
            "text/plain": [
              "<Figure size 640x480 with 2 Axes>"
            ],
            "image/png": "[encoded data removed]"
          },
          "metadata": {}
        }
      ]
    },
    {
      "cell_type": "markdown",
      "source": [
        " choice observation modality for the student, a sub-array of A which we'll call A_choice_S"
      ],
      "metadata": {
        "id": "yZO35nkT7k0G"
      }
    },
    {
      "cell_type": "code",
      "source": [
        "A_choice_S = np.zeros((len(test_obs_names_S), len(context_names_S), len(choice_names_S)))\n",
        "\n",
        "for choice_id in range(len(choice_names_S)):\n",
        "\n",
        "  A_choice_S[choice_id, :, choice_id] = 1.0\n",
        "\n",
        "A[1] = A_choice_S"
      ],
      "metadata": {
        "id": "2aGuvRyL7jxp"
      },
      "execution_count": 29,
      "outputs": []
    },
    {
      "cell_type": "code",
      "source": [
        "\"\"\" Condition on context (first hidden state factor) and display the remaining indices (outcome and choice state) \"\"\"\n",
        "\n",
        "plot_likelihood(A[1][:,0,:], \"Mapping between Student's sensed states and true states\")"
      ],
      "metadata": {
        "colab": {
          "base_uri": "https://localhost:8080/",
          "height": 545
        },
        "id": "Vcg39Dle-Iae",
        "outputId": "cd755dac-dd9e-40b3-ef6d-95072ec1c3aa"
      },
      "execution_count": 32,
      "outputs": [
        {
          "output_type": "display_data",
          "data": {
            "text/plain": [
              "<Figure size 600x600 with 1 Axes>"
            ],
            "image/png": "[encoded data removed]"
          },
          "metadata": {}
        }
      ]
    },
    {
      "cell_type": "markdown",
      "source": [
        " choice observation modality for the teacher, a sub-array of A which we'll call A_choice_T"
      ],
      "metadata": {
        "id": "lQOg-Iw6_BRn"
      }
    },
    {
      "cell_type": "code",
      "source": [
        "A_choice_T = np.zeros((len(response_obs_names_T), len(context_names_T), len(choice_names_T)))\n",
        "\n",
        "for choice_id in range(len(choice_names_T)):\n",
        "\n",
        "  A_choice_T[choice_id, :, choice_id] = 1.0\n",
        "\n",
        "A[1] = A_choice_T"
      ],
      "metadata": {
        "id": "7r-frFNC_AUb"
      },
      "execution_count": 135,
      "outputs": []
    },
    {
      "cell_type": "code",
      "source": [
        "plot_likelihood(A[1][:,0,:], \"Mapping between Teacher's sensed states and true states\")"
      ],
      "metadata": {
        "colab": {
          "base_uri": "https://localhost:8080/",
          "height": 545
        },
        "id": "1eS8aiv6_nkq",
        "outputId": "a2e1f627-b2b5-4f08-b002-2abb4b13fd4b"
      },
      "execution_count": 36,
      "outputs": [
        {
          "output_type": "display_data",
          "data": {
            "text/plain": [
              "<Figure size 600x600 with 1 Axes>"
            ],
            "image/png": "[encoded data removed]"
          },
          "metadata": {}
        }
      ]
    },
    {
      "cell_type": "markdown",
      "source": [
        "B Matrix - transition matrix -  encodes the probabilities of transitioning from one hidden state to another given a particular action.\n",
        "\n",
        "For the teacher agent, the B matrix could represent the probability of the student's learning state transitioning from one level of understanding to another (e.g., from 'partially understands' to 'fully understands') as a result of the teacher's actions (e.g., providing a hint, conducting a test).\n",
        "\n",
        "For the student agent, the B matrix could reflect the change in the student's own internal state of knowledge about gravity as a consequence of their actions (e.g., studying, asking for clarification) or in response to the teacher's actions."
      ],
      "metadata": {
        "id": "6YaYd2GyBQab"
      }
    },
    {
      "cell_type": "code",
      "source": [
        "# Assuming the teacher's model is concerned with the student's learning state\n",
        "num_states_T = 2  # [Concept not learnt, Concept learnt]\n",
        "num_actions_T = 2  # [Test, Provide Hint]\n",
        "B_T = np.zeros((num_states_T, num_states_T, num_actions_T))\n",
        "\n",
        "# Assuming \"Test\" action doesn't change the student's state directly\n",
        "B_T[:, :, 0] = np.eye(num_states_T)\n",
        "\n",
        "# Assuming \"Provide Hint\" can potentially lead to learning\n",
        "# Placeholder probabilities for transition under \"Provide Hint\"\n",
        "prob_hint_success = 0.2  # Chance that hint leads to learning\n",
        "B_T[:, :, 1] = np.array([[0.8, prob_hint_success],\n",
        "                               [0.2, 0.8]])  # Slight chance of unlearning if misconceptions are reinforced"
      ],
      "metadata": {
        "id": "JxhV_njySOIX"
      },
      "execution_count": 93,
      "outputs": []
    },
    {
      "cell_type": "code",
      "source": [
        "# Assuming the student's model reflects their own learning progress\n",
        "num_states_S = 2  # Same as teacher, for simplicity\n",
        "num_actions_S = 2  # [Ask for specification, Respond to question]\n",
        "B_S = np.zeros((num_states_S, num_states_S, num_actions_S))\n",
        "\n",
        "# Assuming \"Ask for specification\" doesn't change the state\n",
        "B_S[:, :, 0] = np.eye(num_states_S)\n",
        "\n",
        "# \"Respond to question\" might change the learning state, based on the correctness of response\n",
        "prob_response_success = 0.3  # Chance of improving understanding after responding\n",
        "B_S[:, :, 1] = np.array([[0.7, prob_response_success],\n",
        "                               [0.3, 0.7]])  # Reflecting the learning process\n"
      ],
      "metadata": {
        "id": "O3jRbAGHSniD"
      },
      "execution_count": 94,
      "outputs": []
    },
    {
      "cell_type": "code",
      "source": [
        "# Teacher Model\n",
        "num_states_T = [len(context_names_T), len(choice_names_T)]\n",
        "num_factors_T = len(num_states_T)\n",
        "\n",
        "# Transition probability matrix for concept learning\n",
        "B_concept_T = np.zeros((num_states_T[0], num_states_T[0], num_controls_T[1]))\n",
        "\n",
        "# Assuming the 'Test Gravity on a different planet' action does not change the concept learning state\n",
        "B_concept_T[:, :, 0] = np.eye(num_states_T[0])\n",
        "\n",
        "B_concept_T /= B_concept_T.sum(axis=0, keepdims=True)\n",
        "\n",
        "# Assuming the 'Provide Hint on gravity parameters' action can change the concept learning state\n",
        "# Placeholder probabilities\n",
        "B_concept_T[:, :, 1] = np.array([[0.9, 0.1], [0.1, 0.9]])\n",
        "\n",
        "\n",
        "B_T = utils.obj_array(num_factors_T)\n",
        "B_T[0] = B_concept_T  # Assign the transition matrix for concept learning to the first factor\n"
      ],
      "metadata": {
        "colab": {
          "base_uri": "https://localhost:8080/"
        },
        "id": "hABDObWmOq_b",
        "outputId": "78810c4d-0060-4240-a945-c15e1c57db92"
      },
      "execution_count": 92,
      "outputs": [
        {
          "output_type": "stream",
          "name": "stderr",
          "text": [
            "<ipython-input-92-96a8e5a07e2d>:11: RuntimeWarning: invalid value encountered in divide\n",
            "  B_concept_T /= B_concept_T.sum(axis=0, keepdims=True)\n"
          ]
        }
      ]
    },
    {
      "cell_type": "code",
      "source": [
        "# Student Model\n",
        "num_states_S = [len(context_names_S), len(choice_names_S)]\n",
        "num_factors_S = len(num_states_S)\n",
        "\n",
        "# Transition probability matrix for concept learning\n",
        "B_concept_S = np.zeros((num_states_S[0], num_states_S[0], num_controls_S[1]))\n",
        "\n",
        "# Assuming the 'Ask for specification' action does not directly change the learning state\n",
        "B_concept_S[:, :, 0] = np.eye(num_states_S[0])\n",
        "\n",
        "# Assuming the 'Respond to question' action reflects understanding and could change the learning state\n",
        "# Placeholder probabilities\n",
        "B_concept_S[:, :, 1] = np.array([[0.8, 0.2], [0.2, 0.8]])\n",
        "\n",
        "B_S = utils.obj_array(num_factors_S)\n",
        "B_S[0] = B_concept_S  # Assign the transition matrix for concept learning to the first factor"
      ],
      "metadata": {
        "id": "MddxB4ZLO-5Q"
      },
      "execution_count": 89,
      "outputs": []
    },
    {
      "cell_type": "code",
      "source": [
        "assert all(elem is not None for elem in B_S), \"Some elements of B_S are undefined\"\n",
        "assert all(elem is not None for elem in B_T), \"Some elements of B_T are undefined\"\n"
      ],
      "metadata": {
        "id": "yYWBtcXjP7kK"
      },
      "execution_count": 95,
      "outputs": []
    },
    {
      "cell_type": "markdown",
      "source": [
        "C vector - It encodes the desirability of different observations or outcomes from the agent's perspective."
      ],
      "metadata": {
        "id": "dRnoFiARCSWH"
      }
    },
    {
      "cell_type": "code",
      "source": [
        "\n",
        "\n",
        "# Initialize the C vectors for the teacher and the student with the correct number of observation modalities\n",
        "C_T = utils.obj_array(2)\n",
        "C_S = utils.obj_array(2)\n",
        "\n",
        "# Define and assign preferences for the teacher's C vector\n",
        "C_T[0] = softmax(np.array([1.0, -1.0]))  # the first modality (response) prefers correct answers over incorrect\n",
        "C_T[1] = softmax(np.array([-0.5, 0.0]))  # the second modality (request) slightly disincentivizes requests\n",
        "\n",
        "C_S[0] = softmax(np.array([1.0, -1.0]))  # Preferences for 'test' modality (Correct, Incorrect)\n",
        "C_S[1] = softmax(np.zeros(2))  # Neutral preferences for 'hint' modality (Hint on G, Hint on Mass and Distance, General Hint)\n",
        "#C_S[2] = softmax(np.zeros(2))  # Neutral preferences for the third modality (question)\n"
      ],
      "metadata": {
        "id": "N6M0GJ7t7pYv"
      },
      "execution_count": 174,
      "outputs": []
    },
    {
      "cell_type": "code",
      "source": [
        "response_obs_names_T = ['Correct', 'Incorrect']  # Example, adjust as needed\n",
        "\n",
        "# Initialize the rewards for the response observations\n",
        "C_T_response = np.zeros(len(response_obs_names_T))\n",
        "C_T_response[0] = -4.0  # Disliking incorrect answers\n",
        "C_T_response[1] = 2.0   # Preferring correct answers\n",
        "\n",
        "# Apply softmax to convert the rewards into preferences (probabilities)\n",
        "C_T[0] = softmax(C_T_response)  # Assuming the first modality relates to response observations\n",
        "\n",
        "# Plot the beliefs (preferences) for the teacher's prior preferences on student responses\n",
        "plot_beliefs(softmax(C_T_response), title_str=\"Teacher Prior Preferences on Student Responses\")"
      ],
      "metadata": {
        "colab": {
          "base_uri": "https://localhost:8080/",
          "height": 452
        },
        "id": "NhHDTcrlEnP3",
        "outputId": "666ff945-9653-4fa4-8dcb-632636dfab24"
      },
      "execution_count": 151,
      "outputs": [
        {
          "output_type": "display_data",
          "data": {
            "text/plain": [
              "<Figure size 640x480 with 1 Axes>"
            ],
            "image/png": "[encoded data removed]"
          },
          "metadata": {}
        }
      ]
    },
    {
      "cell_type": "markdown",
      "source": [
        "D Vector - the agent's belief about the state of the world before any observations are made."
      ],
      "metadata": {
        "id": "87Fs8EgQFuDQ"
      }
    },
    {
      "cell_type": "code",
      "source": [
        "D_S = utils.obj_array(num_factors_S)\n",
        "\n",
        "D_S_context = np.array([0.5,0.5])\n",
        "\n",
        "D_S[0] = D_S_context\n",
        "\n",
        "D_S_choice = np.zeros(len(choice_names_S))\n",
        "\n",
        "D_S_choice[choice_names_S.index(\"Respond to Question\")] = 1.0\n",
        "\n",
        "D_S[1] = D_S_choice\n",
        "\n",
        "print(f'Student beliefs about learning state: {D_S[0]}')\n",
        "print(f'Student beliefs about starting location: {D_S[1]}')"
      ],
      "metadata": {
        "colab": {
          "base_uri": "https://localhost:8080/"
        },
        "id": "pOh2tWKSGGDL",
        "outputId": "60f06003-31fd-4280-dbd2-2e7062984ed6"
      },
      "execution_count": 68,
      "outputs": [
        {
          "output_type": "stream",
          "name": "stdout",
          "text": [
            "Beliefs about learning state: [0.5 0.5]\n",
            "Beliefs about starting location: [0. 1.]\n"
          ]
        }
      ]
    },
    {
      "cell_type": "code",
      "source": [
        "D_T = utils.obj_array(num_factors_S)\n",
        "\n",
        "D_T_context = np.array([0.5,0.5])\n",
        "\n",
        "D_T[0] = D_T_context\n",
        "\n",
        "D_T_choice = np.zeros(len(choice_names_T))\n",
        "\n",
        "D_T_choice[choice_names_T.index(\"Test\")] = 1.0\n",
        "\n",
        "D_T[1] = D_T_choice\n",
        "\n",
        "print(f'Teacher beliefs about learning state: {D_S[0]}')\n",
        "print(f'Teacher beliefs about starting location: {D_S[1]}')"
      ],
      "metadata": {
        "colab": {
          "base_uri": "https://localhost:8080/"
        },
        "id": "_cgg5QIoIIdB",
        "outputId": "4201963f-077d-4bff-bebf-90b5ac704228"
      },
      "execution_count": 69,
      "outputs": [
        {
          "output_type": "stream",
          "name": "stdout",
          "text": [
            "Teacher beliefs about learning state: [0.5 0.5]\n",
            "Teacher beliefs about starting location: [0. 1.]\n"
          ]
        }
      ]
    },
    {
      "cell_type": "markdown",
      "source": [
        "Agents Construction"
      ],
      "metadata": {
        "id": "8EvmT-oKIiEj"
      }
    },
    {
      "cell_type": "markdown",
      "source": [
        "Normalization of the matrix"
      ],
      "metadata": {
        "id": "K3SSvzH2LXh9"
      }
    },
    {
      "cell_type": "code",
      "source": [
        "def normalize_matrix(matrix):\n",
        "    \"\"\"\n",
        "    Normalizes a given matrix so that each column sums to 1.\n",
        "    Assumes the first axis represents different observations.\n",
        "    \"\"\"\n",
        "    column_sums = matrix.sum(axis=0, keepdims=True)\n",
        "    normalized_matrix = matrix / column_sums\n",
        "    return normalized_matrix\n",
        "\n",
        "# Assuming A_student is an object array of observation matrices\n",
        "A_student_normalized = np.empty_like(A_student, dtype=object)\n",
        "\n",
        "for mod_idx, matrix in enumerate(A_student):\n",
        "    A_student_normalized[mod_idx] = normalize_matrix(matrix)\n",
        "\n",
        "\n",
        "A_teacher_normalized = A_teacher / A_teacher.sum(axis=0, keepdims=True)"
      ],
      "metadata": {
        "id": "ubDAYJkELYhp"
      },
      "execution_count": 170,
      "outputs": []
    },
    {
      "cell_type": "code",
      "source": [
        "from pymdp.agent import Agent\n",
        "\n",
        "my_agent_S = Agent(A = A_student_normalized, B = B_S, C = C_S, D = D_S)"
      ],
      "metadata": {
        "id": "aCn4886XIkfU"
      },
      "execution_count": 164,
      "outputs": []
    },
    {
      "cell_type": "code",
      "source": [
        "my_agent_T = Agent(A = A_teacher_normalized, B = B_T, C = C_T, D = D_T)"
      ],
      "metadata": {
        "colab": {
          "base_uri": "https://localhost:8080/",
          "height": 332
        },
        "id": "2yVW4cqiTfse",
        "outputId": "bbcc4878-69c3-4e82-fdc1-e5b509f2e415"
      },
      "execution_count": 175,
      "outputs": [
        {
          "output_type": "error",
          "ename": "AssertionError",
          "evalue": "Check C vector: number of sub-arrays must be equal to number of observation modalities: 1",
          "traceback": [
            "\u001b[0;31m---------------------------------------------------------------------------\u001b[0m",
            "\u001b[0;31mAssertionError\u001b[0m                            Traceback (most recent call last)",
            "\u001b[0;32m<ipython-input-175-0f362406df11>\u001b[0m in \u001b[0;36m<cell line: 1>\u001b[0;34m()\u001b[0m\n\u001b[0;32m----> 1\u001b[0;31m \u001b[0mmy_agent_T\u001b[0m \u001b[0;34m=\u001b[0m \u001b[0mAgent\u001b[0m\u001b[0;34m(\u001b[0m\u001b[0mA\u001b[0m \u001b[0;34m=\u001b[0m \u001b[0mA_teacher_normalized\u001b[0m\u001b[0;34m,\u001b[0m \u001b[0mB\u001b[0m \u001b[0;34m=\u001b[0m \u001b[0mB_T\u001b[0m\u001b[0;34m,\u001b[0m \u001b[0mC\u001b[0m \u001b[0;34m=\u001b[0m \u001b[0mC_T\u001b[0m\u001b[0;34m,\u001b[0m \u001b[0mD\u001b[0m \u001b[0;34m=\u001b[0m \u001b[0mD_T\u001b[0m\u001b[0;34m)\u001b[0m\u001b[0;34m\u001b[0m\u001b[0;34m\u001b[0m\u001b[0m\n\u001b[0m",
            "\u001b[0;32m/usr/local/lib/python3.10/dist-packages/pymdp/agent.py\u001b[0m in \u001b[0;36m__init__\u001b[0;34m(self, A, B, C, D, E, pA, pB, pD, num_controls, policy_len, inference_horizon, control_fac_idx, policies, gamma, alpha, use_utility, use_states_info_gain, use_param_info_gain, action_selection, sampling_mode, inference_algo, inference_params, modalities_to_learn, lr_pA, factors_to_learn, lr_pB, lr_pD, use_BMA, policy_sep_prior, save_belief_hist)\u001b[0m\n\u001b[1;32m    158\u001b[0m             \u001b[0mself\u001b[0m\u001b[0;34m.\u001b[0m\u001b[0mC\u001b[0m \u001b[0;34m=\u001b[0m \u001b[0mutils\u001b[0m\u001b[0;34m.\u001b[0m\u001b[0mto_obj_array\u001b[0m\u001b[0;34m(\u001b[0m\u001b[0mC\u001b[0m\u001b[0;34m)\u001b[0m\u001b[0;34m\u001b[0m\u001b[0;34m\u001b[0m\u001b[0m\n\u001b[1;32m    159\u001b[0m \u001b[0;34m\u001b[0m\u001b[0m\n\u001b[0;32m--> 160\u001b[0;31m             \u001b[0;32massert\u001b[0m \u001b[0mlen\u001b[0m\u001b[0;34m(\u001b[0m\u001b[0mself\u001b[0m\u001b[0;34m.\u001b[0m\u001b[0mC\u001b[0m\u001b[0;34m)\u001b[0m \u001b[0;34m==\u001b[0m \u001b[0mself\u001b[0m\u001b[0;34m.\u001b[0m\u001b[0mnum_modalities\u001b[0m\u001b[0;34m,\u001b[0m \u001b[0;34mf\"Check C vector: number of sub-arrays must be equal to number of observation modalities: {self.num_modalities}\"\u001b[0m\u001b[0;34m\u001b[0m\u001b[0;34m\u001b[0m\u001b[0m\n\u001b[0m\u001b[1;32m    161\u001b[0m \u001b[0;34m\u001b[0m\u001b[0m\n\u001b[1;32m    162\u001b[0m             \u001b[0;32mfor\u001b[0m \u001b[0mmodality\u001b[0m\u001b[0;34m,\u001b[0m \u001b[0mc_m\u001b[0m \u001b[0;32min\u001b[0m \u001b[0menumerate\u001b[0m\u001b[0;34m(\u001b[0m\u001b[0mself\u001b[0m\u001b[0;34m.\u001b[0m\u001b[0mC\u001b[0m\u001b[0;34m)\u001b[0m\u001b[0;34m:\u001b[0m\u001b[0;34m\u001b[0m\u001b[0;34m\u001b[0m\u001b[0m\n",
            "\u001b[0;31mAssertionError\u001b[0m: Check C vector: number of sub-arrays must be equal to number of observation modalities: 1"
          ]
        }
      ]
    },
    {
      "cell_type": "markdown",
      "source": [],
      "metadata": {
        "id": "Ff5Q7RF2GJGI"
      }
    }
  ]
}