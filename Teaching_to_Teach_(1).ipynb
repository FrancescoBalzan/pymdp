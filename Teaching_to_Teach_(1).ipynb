{
  "cells": [
    {
      "cell_type": "markdown",
      "metadata": {
        "id": "view-in-github",
        "colab_type": "text"
      },
      "source": [
        "<a href=\"https://colab.research.google.com/github/FrancescoBalzan/pymdp/blob/master/Teaching_to_Teach_(1).ipynb\" target=\"_parent\"><img src=\"https://colab.research.google.com/assets/colab-badge.svg\" alt=\"Open In Colab\"/></a>"
      ]
    },
    {
      "cell_type": "code",
      "execution_count": null,
      "metadata": {
        "colab": {
          "base_uri": "https://localhost:8080/"
        },
        "id": "xW84SNFslMto",
        "outputId": "53d8e7f0-2508-43f4-8156-d47e917066c0"
      },
      "outputs": [
        {
          "name": "stdout",
          "output_type": "stream",
          "text": [
            "Collecting inferactively-pymdp\n",
            "  Using cached inferactively_pymdp-0.0.7.1-py3-none-any.whl.metadata (10 kB)\n",
            "Requirement already satisfied: attrs>=20.3.0 in /opt/homebrew/Caskroom/miniforge/base/envs/keras3/lib/python3.10/site-packages (from inferactively-pymdp) (23.2.0)\n",
            "Requirement already satisfied: cycler>=0.10.0 in /opt/homebrew/Caskroom/miniforge/base/envs/keras3/lib/python3.10/site-packages (from inferactively-pymdp) (0.12.1)\n",
            "Collecting iniconfig>=1.1.1 (from inferactively-pymdp)\n",
            "  Using cached iniconfig-2.0.0-py3-none-any.whl.metadata (2.6 kB)\n",
            "Requirement already satisfied: kiwisolver>=1.3.1 in /opt/homebrew/Caskroom/miniforge/base/envs/keras3/lib/python3.10/site-packages (from inferactively-pymdp) (1.4.5)\n",
            "Requirement already satisfied: matplotlib>=3.1.3 in /opt/homebrew/Caskroom/miniforge/base/envs/keras3/lib/python3.10/site-packages (from inferactively-pymdp) (3.8.3)\n",
            "Collecting nose>=1.3.7 (from inferactively-pymdp)\n",
            "  Using cached nose-1.3.7-py3-none-any.whl.metadata (1.7 kB)\n",
            "Requirement already satisfied: numpy>=1.19.5 in /opt/homebrew/Caskroom/miniforge/base/envs/keras3/lib/python3.10/site-packages (from inferactively-pymdp) (1.26.4)\n",
            "Requirement already satisfied: openpyxl>=3.0.7 in /opt/homebrew/Caskroom/miniforge/base/envs/keras3/lib/python3.10/site-packages (from inferactively-pymdp) (3.1.2)\n",
            "Requirement already satisfied: packaging>=20.8 in /opt/homebrew/Caskroom/miniforge/base/envs/keras3/lib/python3.10/site-packages (from inferactively-pymdp) (24.0)\n",
            "Requirement already satisfied: pandas>=1.2.4 in /opt/homebrew/Caskroom/miniforge/base/envs/keras3/lib/python3.10/site-packages (from inferactively-pymdp) (2.2.1)\n",
            "Requirement already satisfied: Pillow>=8.2.0 in /opt/homebrew/Caskroom/miniforge/base/envs/keras3/lib/python3.10/site-packages (from inferactively-pymdp) (10.2.0)\n",
            "Requirement already satisfied: pluggy>=0.13.1 in /opt/homebrew/Caskroom/miniforge/base/envs/keras3/lib/python3.10/site-packages (from inferactively-pymdp) (1.4.0)\n",
            "Collecting py>=1.10.0 (from inferactively-pymdp)\n",
            "  Using cached py-1.11.0-py2.py3-none-any.whl.metadata (2.8 kB)\n",
            "Requirement already satisfied: pyparsing>=2.4.7 in /opt/homebrew/Caskroom/miniforge/base/envs/keras3/lib/python3.10/site-packages (from inferactively-pymdp) (3.1.2)\n",
            "Collecting pytest>=6.2.1 (from inferactively-pymdp)\n",
            "  Using cached pytest-8.1.1-py3-none-any.whl.metadata (7.6 kB)\n",
            "Requirement already satisfied: python-dateutil>=2.8.1 in /opt/homebrew/Caskroom/miniforge/base/envs/keras3/lib/python3.10/site-packages (from inferactively-pymdp) (2.9.0)\n",
            "Requirement already satisfied: pytz>=2020.5 in /opt/homebrew/Caskroom/miniforge/base/envs/keras3/lib/python3.10/site-packages (from inferactively-pymdp) (2024.1)\n",
            "Requirement already satisfied: scipy>=1.6.0 in /opt/homebrew/Caskroom/miniforge/base/envs/keras3/lib/python3.10/site-packages (from inferactively-pymdp) (1.12.0)\n",
            "Collecting seaborn>=0.11.1 (from inferactively-pymdp)\n",
            "  Using cached seaborn-0.13.2-py3-none-any.whl.metadata (5.4 kB)\n",
            "Requirement already satisfied: six>=1.15.0 in /opt/homebrew/Caskroom/miniforge/base/envs/keras3/lib/python3.10/site-packages (from inferactively-pymdp) (1.16.0)\n",
            "Requirement already satisfied: toml>=0.10.2 in /opt/homebrew/Caskroom/miniforge/base/envs/keras3/lib/python3.10/site-packages (from inferactively-pymdp) (0.10.2)\n",
            "Requirement already satisfied: typing-extensions>=3.7.4.3 in /opt/homebrew/Caskroom/miniforge/base/envs/keras3/lib/python3.10/site-packages (from inferactively-pymdp) (4.10.0)\n",
            "Collecting xlsxwriter>=1.4.3 (from inferactively-pymdp)\n",
            "  Using cached XlsxWriter-3.2.0-py3-none-any.whl.metadata (2.6 kB)\n",
            "Collecting sphinx-rtd-theme>=0.4 (from inferactively-pymdp)\n",
            "  Using cached sphinx_rtd_theme-2.0.0-py2.py3-none-any.whl.metadata (4.4 kB)\n",
            "Collecting myst-nb>=0.13.1 (from inferactively-pymdp)\n",
            "  Using cached myst_nb-1.0.0-py3-none-any.whl.metadata (4.7 kB)\n",
            "Collecting autograd>=1.3 (from inferactively-pymdp)\n",
            "  Using cached autograd-1.6.2-py3-none-any.whl.metadata (706 bytes)\n",
            "Requirement already satisfied: future>=0.15.2 in /opt/homebrew/Caskroom/miniforge/base/envs/keras3/lib/python3.10/site-packages (from autograd>=1.3->inferactively-pymdp) (1.0.0)\n",
            "Requirement already satisfied: contourpy>=1.0.1 in /opt/homebrew/Caskroom/miniforge/base/envs/keras3/lib/python3.10/site-packages (from matplotlib>=3.1.3->inferactively-pymdp) (1.2.0)\n",
            "Requirement already satisfied: fonttools>=4.22.0 in /opt/homebrew/Caskroom/miniforge/base/envs/keras3/lib/python3.10/site-packages (from matplotlib>=3.1.3->inferactively-pymdp) (4.49.0)\n",
            "Requirement already satisfied: importlib_metadata in /opt/homebrew/Caskroom/miniforge/base/envs/keras3/lib/python3.10/site-packages (from myst-nb>=0.13.1->inferactively-pymdp) (7.0.2)\n",
            "Requirement already satisfied: ipython in /opt/homebrew/Caskroom/miniforge/base/envs/keras3/lib/python3.10/site-packages (from myst-nb>=0.13.1->inferactively-pymdp) (8.22.2)\n",
            "Collecting jupyter-cache>=0.5 (from myst-nb>=0.13.1->inferactively-pymdp)\n",
            "  Using cached jupyter_cache-1.0.0-py3-none-any.whl.metadata (5.8 kB)\n",
            "Requirement already satisfied: nbclient in /opt/homebrew/Caskroom/miniforge/base/envs/keras3/lib/python3.10/site-packages (from myst-nb>=0.13.1->inferactively-pymdp) (0.10.0)\n",
            "Collecting myst-parser>=1.0.0 (from myst-nb>=0.13.1->inferactively-pymdp)\n",
            "  Using cached myst_parser-2.0.0-py3-none-any.whl.metadata (5.4 kB)\n",
            "Requirement already satisfied: nbformat>=5.0 in /opt/homebrew/Caskroom/miniforge/base/envs/keras3/lib/python3.10/site-packages (from myst-nb>=0.13.1->inferactively-pymdp) (5.10.3)\n",
            "Requirement already satisfied: pyyaml in /opt/homebrew/Caskroom/miniforge/base/envs/keras3/lib/python3.10/site-packages (from myst-nb>=0.13.1->inferactively-pymdp) (6.0.1)\n",
            "Collecting sphinx>=5 (from myst-nb>=0.13.1->inferactively-pymdp)\n",
            "  Using cached sphinx-7.2.6-py3-none-any.whl.metadata (5.9 kB)\n",
            "Requirement already satisfied: ipykernel in /opt/homebrew/Caskroom/miniforge/base/envs/keras3/lib/python3.10/site-packages (from myst-nb>=0.13.1->inferactively-pymdp) (6.29.3)\n",
            "Requirement already satisfied: et-xmlfile in /opt/homebrew/Caskroom/miniforge/base/envs/keras3/lib/python3.10/site-packages (from openpyxl>=3.0.7->inferactively-pymdp) (1.1.0)\n",
            "Requirement already satisfied: tzdata>=2022.7 in /opt/homebrew/Caskroom/miniforge/base/envs/keras3/lib/python3.10/site-packages (from pandas>=1.2.4->inferactively-pymdp) (2024.1)\n",
            "Requirement already satisfied: exceptiongroup>=1.0.0rc8 in /opt/homebrew/Caskroom/miniforge/base/envs/keras3/lib/python3.10/site-packages (from pytest>=6.2.1->inferactively-pymdp) (1.2.0)\n",
            "Requirement already satisfied: tomli>=1 in /opt/homebrew/Caskroom/miniforge/base/envs/keras3/lib/python3.10/site-packages (from pytest>=6.2.1->inferactively-pymdp) (2.0.1)\n",
            "Collecting docutils<0.21 (from sphinx-rtd-theme>=0.4->inferactively-pymdp)\n",
            "  Using cached docutils-0.20.1-py3-none-any.whl.metadata (2.8 kB)\n",
            "Collecting sphinxcontrib-jquery<5,>=4 (from sphinx-rtd-theme>=0.4->inferactively-pymdp)\n",
            "  Using cached sphinxcontrib_jquery-4.1-py2.py3-none-any.whl.metadata (2.6 kB)\n",
            "Requirement already satisfied: click in /opt/homebrew/Caskroom/miniforge/base/envs/keras3/lib/python3.10/site-packages (from jupyter-cache>=0.5->myst-nb>=0.13.1->inferactively-pymdp) (8.1.7)\n",
            "Collecting sqlalchemy<3,>=1.3.12 (from jupyter-cache>=0.5->myst-nb>=0.13.1->inferactively-pymdp)\n",
            "  Using cached SQLAlchemy-2.0.29-cp310-cp310-macosx_11_0_arm64.whl.metadata (9.6 kB)\n",
            "Collecting tabulate (from jupyter-cache>=0.5->myst-nb>=0.13.1->inferactively-pymdp)\n",
            "  Using cached tabulate-0.9.0-py3-none-any.whl.metadata (34 kB)\n",
            "Requirement already satisfied: jinja2 in /opt/homebrew/Caskroom/miniforge/base/envs/keras3/lib/python3.10/site-packages (from myst-parser>=1.0.0->myst-nb>=0.13.1->inferactively-pymdp) (3.1.3)\n",
            "Collecting markdown-it-py~=3.0 (from myst-parser>=1.0.0->myst-nb>=0.13.1->inferactively-pymdp)\n",
            "  Using cached markdown_it_py-3.0.0-py3-none-any.whl.metadata (6.9 kB)\n",
            "Collecting mdit-py-plugins~=0.4 (from myst-parser>=1.0.0->myst-nb>=0.13.1->inferactively-pymdp)\n",
            "  Using cached mdit_py_plugins-0.4.0-py3-none-any.whl.metadata (2.7 kB)\n",
            "Requirement already satisfied: jupyter-client>=6.1.12 in /opt/homebrew/Caskroom/miniforge/base/envs/keras3/lib/python3.10/site-packages (from nbclient->myst-nb>=0.13.1->inferactively-pymdp) (8.6.1)\n",
            "Requirement already satisfied: jupyter-core!=5.0.*,>=4.12 in /opt/homebrew/Caskroom/miniforge/base/envs/keras3/lib/python3.10/site-packages (from nbclient->myst-nb>=0.13.1->inferactively-pymdp) (5.7.2)\n",
            "Requirement already satisfied: traitlets>=5.4 in /opt/homebrew/Caskroom/miniforge/base/envs/keras3/lib/python3.10/site-packages (from nbclient->myst-nb>=0.13.1->inferactively-pymdp) (5.14.2)\n",
            "Requirement already satisfied: fastjsonschema in /opt/homebrew/Caskroom/miniforge/base/envs/keras3/lib/python3.10/site-packages (from nbformat>=5.0->myst-nb>=0.13.1->inferactively-pymdp) (2.19.1)\n",
            "Requirement already satisfied: jsonschema>=2.6 in /opt/homebrew/Caskroom/miniforge/base/envs/keras3/lib/python3.10/site-packages (from nbformat>=5.0->myst-nb>=0.13.1->inferactively-pymdp) (4.21.1)\n",
            "Collecting sphinxcontrib-applehelp (from sphinx>=5->myst-nb>=0.13.1->inferactively-pymdp)\n",
            "  Using cached sphinxcontrib_applehelp-1.0.8-py3-none-any.whl.metadata (2.3 kB)\n",
            "Collecting sphinxcontrib-devhelp (from sphinx>=5->myst-nb>=0.13.1->inferactively-pymdp)\n",
            "  Using cached sphinxcontrib_devhelp-1.0.6-py3-none-any.whl.metadata (2.3 kB)\n",
            "Collecting sphinxcontrib-jsmath (from sphinx>=5->myst-nb>=0.13.1->inferactively-pymdp)\n",
            "  Using cached sphinxcontrib_jsmath-1.0.1-py2.py3-none-any.whl.metadata (1.4 kB)\n",
            "Collecting sphinxcontrib-htmlhelp>=2.0.0 (from sphinx>=5->myst-nb>=0.13.1->inferactively-pymdp)\n",
            "  Using cached sphinxcontrib_htmlhelp-2.0.5-py3-none-any.whl.metadata (2.3 kB)\n",
            "Collecting sphinxcontrib-serializinghtml>=1.1.9 (from sphinx>=5->myst-nb>=0.13.1->inferactively-pymdp)\n",
            "  Using cached sphinxcontrib_serializinghtml-1.1.10-py3-none-any.whl.metadata (2.4 kB)\n",
            "Collecting sphinxcontrib-qthelp (from sphinx>=5->myst-nb>=0.13.1->inferactively-pymdp)\n",
            "  Using cached sphinxcontrib_qthelp-1.0.7-py3-none-any.whl.metadata (2.2 kB)\n",
            "Requirement already satisfied: Pygments>=2.14 in /opt/homebrew/Caskroom/miniforge/base/envs/keras3/lib/python3.10/site-packages (from sphinx>=5->myst-nb>=0.13.1->inferactively-pymdp) (2.17.2)\n",
            "Requirement already satisfied: snowballstemmer>=2.0 in /opt/homebrew/Caskroom/miniforge/base/envs/keras3/lib/python3.10/site-packages (from sphinx>=5->myst-nb>=0.13.1->inferactively-pymdp) (2.2.0)\n",
            "Requirement already satisfied: babel>=2.9 in /opt/homebrew/Caskroom/miniforge/base/envs/keras3/lib/python3.10/site-packages (from sphinx>=5->myst-nb>=0.13.1->inferactively-pymdp) (2.14.0)\n",
            "Collecting alabaster<0.8,>=0.7 (from sphinx>=5->myst-nb>=0.13.1->inferactively-pymdp)\n",
            "  Using cached alabaster-0.7.16-py3-none-any.whl.metadata (2.9 kB)\n",
            "Collecting imagesize>=1.3 (from sphinx>=5->myst-nb>=0.13.1->inferactively-pymdp)\n",
            "  Using cached imagesize-1.4.1-py2.py3-none-any.whl.metadata (1.5 kB)\n",
            "Requirement already satisfied: requests>=2.25.0 in /opt/homebrew/Caskroom/miniforge/base/envs/keras3/lib/python3.10/site-packages (from sphinx>=5->myst-nb>=0.13.1->inferactively-pymdp) (2.31.0)\n",
            "Requirement already satisfied: zipp>=0.5 in /opt/homebrew/Caskroom/miniforge/base/envs/keras3/lib/python3.10/site-packages (from importlib_metadata->myst-nb>=0.13.1->inferactively-pymdp) (3.17.0)\n",
            "Requirement already satisfied: appnope in /opt/homebrew/Caskroom/miniforge/base/envs/keras3/lib/python3.10/site-packages (from ipykernel->myst-nb>=0.13.1->inferactively-pymdp) (0.1.4)\n",
            "Requirement already satisfied: comm>=0.1.1 in /opt/homebrew/Caskroom/miniforge/base/envs/keras3/lib/python3.10/site-packages (from ipykernel->myst-nb>=0.13.1->inferactively-pymdp) (0.2.2)\n",
            "Requirement already satisfied: debugpy>=1.6.5 in /opt/homebrew/Caskroom/miniforge/base/envs/keras3/lib/python3.10/site-packages (from ipykernel->myst-nb>=0.13.1->inferactively-pymdp) (1.8.1)\n",
            "Requirement already satisfied: matplotlib-inline>=0.1 in /opt/homebrew/Caskroom/miniforge/base/envs/keras3/lib/python3.10/site-packages (from ipykernel->myst-nb>=0.13.1->inferactively-pymdp) (0.1.6)\n",
            "Requirement already satisfied: nest-asyncio in /opt/homebrew/Caskroom/miniforge/base/envs/keras3/lib/python3.10/site-packages (from ipykernel->myst-nb>=0.13.1->inferactively-pymdp) (1.6.0)\n",
            "Requirement already satisfied: psutil in /opt/homebrew/Caskroom/miniforge/base/envs/keras3/lib/python3.10/site-packages (from ipykernel->myst-nb>=0.13.1->inferactively-pymdp) (5.9.8)\n",
            "Requirement already satisfied: pyzmq>=24 in /opt/homebrew/Caskroom/miniforge/base/envs/keras3/lib/python3.10/site-packages (from ipykernel->myst-nb>=0.13.1->inferactively-pymdp) (25.1.2)\n",
            "Requirement already satisfied: tornado>=6.1 in /opt/homebrew/Caskroom/miniforge/base/envs/keras3/lib/python3.10/site-packages (from ipykernel->myst-nb>=0.13.1->inferactively-pymdp) (6.4)\n",
            "Requirement already satisfied: decorator in /opt/homebrew/Caskroom/miniforge/base/envs/keras3/lib/python3.10/site-packages (from ipython->myst-nb>=0.13.1->inferactively-pymdp) (5.1.1)\n",
            "Requirement already satisfied: jedi>=0.16 in /opt/homebrew/Caskroom/miniforge/base/envs/keras3/lib/python3.10/site-packages (from ipython->myst-nb>=0.13.1->inferactively-pymdp) (0.17.2)\n",
            "Requirement already satisfied: prompt-toolkit<3.1.0,>=3.0.41 in /opt/homebrew/Caskroom/miniforge/base/envs/keras3/lib/python3.10/site-packages (from ipython->myst-nb>=0.13.1->inferactively-pymdp) (3.0.42)\n",
            "Requirement already satisfied: stack-data in /opt/homebrew/Caskroom/miniforge/base/envs/keras3/lib/python3.10/site-packages (from ipython->myst-nb>=0.13.1->inferactively-pymdp) (0.6.2)\n",
            "Requirement already satisfied: pexpect>4.3 in /opt/homebrew/Caskroom/miniforge/base/envs/keras3/lib/python3.10/site-packages (from ipython->myst-nb>=0.13.1->inferactively-pymdp) (4.9.0)\n",
            "Requirement already satisfied: parso<0.8.0,>=0.7.0 in /opt/homebrew/Caskroom/miniforge/base/envs/keras3/lib/python3.10/site-packages (from jedi>=0.16->ipython->myst-nb>=0.13.1->inferactively-pymdp) (0.7.1)\n",
            "Requirement already satisfied: MarkupSafe>=2.0 in /opt/homebrew/Caskroom/miniforge/base/envs/keras3/lib/python3.10/site-packages (from jinja2->myst-parser>=1.0.0->myst-nb>=0.13.1->inferactively-pymdp) (2.1.5)\n",
            "Requirement already satisfied: jsonschema-specifications>=2023.03.6 in /opt/homebrew/Caskroom/miniforge/base/envs/keras3/lib/python3.10/site-packages (from jsonschema>=2.6->nbformat>=5.0->myst-nb>=0.13.1->inferactively-pymdp) (2023.12.1)\n",
            "Requirement already satisfied: referencing>=0.28.4 in /opt/homebrew/Caskroom/miniforge/base/envs/keras3/lib/python3.10/site-packages (from jsonschema>=2.6->nbformat>=5.0->myst-nb>=0.13.1->inferactively-pymdp) (0.34.0)\n",
            "Requirement already satisfied: rpds-py>=0.7.1 in /opt/homebrew/Caskroom/miniforge/base/envs/keras3/lib/python3.10/site-packages (from jsonschema>=2.6->nbformat>=5.0->myst-nb>=0.13.1->inferactively-pymdp) (0.18.0)\n",
            "Requirement already satisfied: platformdirs>=2.5 in /opt/homebrew/Caskroom/miniforge/base/envs/keras3/lib/python3.10/site-packages (from jupyter-core!=5.0.*,>=4.12->nbclient->myst-nb>=0.13.1->inferactively-pymdp) (4.2.0)\n",
            "Collecting mdurl~=0.1 (from markdown-it-py~=3.0->myst-parser>=1.0.0->myst-nb>=0.13.1->inferactively-pymdp)\n",
            "  Using cached mdurl-0.1.2-py3-none-any.whl.metadata (1.6 kB)\n",
            "Requirement already satisfied: ptyprocess>=0.5 in /opt/homebrew/Caskroom/miniforge/base/envs/keras3/lib/python3.10/site-packages (from pexpect>4.3->ipython->myst-nb>=0.13.1->inferactively-pymdp) (0.7.0)\n",
            "Requirement already satisfied: wcwidth in /opt/homebrew/Caskroom/miniforge/base/envs/keras3/lib/python3.10/site-packages (from prompt-toolkit<3.1.0,>=3.0.41->ipython->myst-nb>=0.13.1->inferactively-pymdp) (0.2.13)\n",
            "Requirement already satisfied: charset-normalizer<4,>=2 in /opt/homebrew/Caskroom/miniforge/base/envs/keras3/lib/python3.10/site-packages (from requests>=2.25.0->sphinx>=5->myst-nb>=0.13.1->inferactively-pymdp) (3.3.2)\n",
            "Requirement already satisfied: idna<4,>=2.5 in /opt/homebrew/Caskroom/miniforge/base/envs/keras3/lib/python3.10/site-packages (from requests>=2.25.0->sphinx>=5->myst-nb>=0.13.1->inferactively-pymdp) (3.6)\n",
            "Requirement already satisfied: urllib3<3,>=1.21.1 in /opt/homebrew/Caskroom/miniforge/base/envs/keras3/lib/python3.10/site-packages (from requests>=2.25.0->sphinx>=5->myst-nb>=0.13.1->inferactively-pymdp) (2.2.1)\n",
            "Requirement already satisfied: certifi>=2017.4.17 in /opt/homebrew/Caskroom/miniforge/base/envs/keras3/lib/python3.10/site-packages (from requests>=2.25.0->sphinx>=5->myst-nb>=0.13.1->inferactively-pymdp) (2024.2.2)\n",
            "Requirement already satisfied: executing>=1.2.0 in /opt/homebrew/Caskroom/miniforge/base/envs/keras3/lib/python3.10/site-packages (from stack-data->ipython->myst-nb>=0.13.1->inferactively-pymdp) (2.0.1)\n",
            "Requirement already satisfied: asttokens>=2.1.0 in /opt/homebrew/Caskroom/miniforge/base/envs/keras3/lib/python3.10/site-packages (from stack-data->ipython->myst-nb>=0.13.1->inferactively-pymdp) (2.4.1)\n",
            "Requirement already satisfied: pure-eval in /opt/homebrew/Caskroom/miniforge/base/envs/keras3/lib/python3.10/site-packages (from stack-data->ipython->myst-nb>=0.13.1->inferactively-pymdp) (0.2.2)\n",
            "Using cached inferactively_pymdp-0.0.7.1-py3-none-any.whl (58 kB)\n",
            "Using cached autograd-1.6.2-py3-none-any.whl (49 kB)\n",
            "Using cached iniconfig-2.0.0-py3-none-any.whl (5.9 kB)\n",
            "Using cached myst_nb-1.0.0-py3-none-any.whl (79 kB)\n",
            "Using cached nose-1.3.7-py3-none-any.whl (154 kB)\n",
            "Using cached py-1.11.0-py2.py3-none-any.whl (98 kB)\n",
            "Using cached pytest-8.1.1-py3-none-any.whl (337 kB)\n",
            "Using cached seaborn-0.13.2-py3-none-any.whl (294 kB)\n",
            "Using cached sphinx_rtd_theme-2.0.0-py2.py3-none-any.whl (2.8 MB)\n",
            "Using cached XlsxWriter-3.2.0-py3-none-any.whl (159 kB)\n",
            "Using cached docutils-0.20.1-py3-none-any.whl (572 kB)\n",
            "Using cached jupyter_cache-1.0.0-py3-none-any.whl (33 kB)\n",
            "Using cached myst_parser-2.0.0-py3-none-any.whl (77 kB)\n",
            "Using cached sphinx-7.2.6-py3-none-any.whl (3.2 MB)\n",
            "Using cached sphinxcontrib_jquery-4.1-py2.py3-none-any.whl (121 kB)\n",
            "Using cached alabaster-0.7.16-py3-none-any.whl (13 kB)\n",
            "Using cached imagesize-1.4.1-py2.py3-none-any.whl (8.8 kB)\n",
            "Using cached markdown_it_py-3.0.0-py3-none-any.whl (87 kB)\n",
            "Using cached mdit_py_plugins-0.4.0-py3-none-any.whl (54 kB)\n",
            "Using cached sphinxcontrib_htmlhelp-2.0.5-py3-none-any.whl (99 kB)\n",
            "Using cached sphinxcontrib_serializinghtml-1.1.10-py3-none-any.whl (92 kB)\n",
            "Using cached SQLAlchemy-2.0.29-cp310-cp310-macosx_11_0_arm64.whl (2.1 MB)\n",
            "Using cached sphinxcontrib_applehelp-1.0.8-py3-none-any.whl (120 kB)\n",
            "Using cached sphinxcontrib_devhelp-1.0.6-py3-none-any.whl (83 kB)\n",
            "Using cached sphinxcontrib_jsmath-1.0.1-py2.py3-none-any.whl (5.1 kB)\n",
            "Using cached sphinxcontrib_qthelp-1.0.7-py3-none-any.whl (89 kB)\n",
            "Using cached tabulate-0.9.0-py3-none-any.whl (35 kB)\n",
            "Using cached mdurl-0.1.2-py3-none-any.whl (10.0 kB)\n",
            "Installing collected packages: nose, xlsxwriter, tabulate, sqlalchemy, sphinxcontrib-serializinghtml, sphinxcontrib-qthelp, sphinxcontrib-jsmath, sphinxcontrib-htmlhelp, sphinxcontrib-devhelp, sphinxcontrib-applehelp, py, mdurl, iniconfig, imagesize, docutils, autograd, alabaster, sphinx, pytest, markdown-it-py, sphinxcontrib-jquery, seaborn, mdit-py-plugins, sphinx-rtd-theme, myst-parser, jupyter-cache, myst-nb, inferactively-pymdp\n",
            "Successfully installed alabaster-0.7.16 autograd-1.6.2 docutils-0.20.1 imagesize-1.4.1 inferactively-pymdp-0.0.7.1 iniconfig-2.0.0 jupyter-cache-1.0.0 markdown-it-py-3.0.0 mdit-py-plugins-0.4.0 mdurl-0.1.2 myst-nb-1.0.0 myst-parser-2.0.0 nose-1.3.7 py-1.11.0 pytest-8.1.1 seaborn-0.13.2 sphinx-7.2.6 sphinx-rtd-theme-2.0.0 sphinxcontrib-applehelp-1.0.8 sphinxcontrib-devhelp-1.0.6 sphinxcontrib-htmlhelp-2.0.5 sphinxcontrib-jquery-4.1 sphinxcontrib-jsmath-1.0.1 sphinxcontrib-qthelp-1.0.7 sphinxcontrib-serializinghtml-1.1.10 sqlalchemy-2.0.29 tabulate-0.9.0 xlsxwriter-3.2.0\n",
            "Note: you may need to restart the kernel to use updated packages.\n"
          ]
        }
      ],
      "source": [
        "pip install inferactively-pymdp"
      ]
    },
    {
      "cell_type": "markdown",
      "metadata": {
        "id": "ootg9Fy1rnzr"
      },
      "source": [
        "Agents definition"
      ]
    },
    {
      "cell_type": "code",
      "execution_count": null,
      "metadata": {
        "id": "Yp19Kv9vrb_E"
      },
      "outputs": [],
      "source": [
        "import pymdp\n",
        "from pymdp import utils\n",
        "from pymdp.agent import Agent\n",
        "\n",
        "#Teacher Agent\n",
        "\n",
        "#num_obs = [3, 5] # observation modality dimensions\n",
        "#num_states = [4, 2, 3] # hidden state factor dimensions\n",
        "#num_controls = [4, 1, 1] # control state factor dimensions\n",
        "#A_array = utils.random_A_matrix(num_obs, num_states) # create sensory likelihood (A matrix)\n",
        "#B_array = utils.random_B_matrix(num_states, num_controls) # create transition likelihood (B matrix)\n",
        "\n",
        "#C_vector = utils.obj_array_uniform(num_obs) # uniform preferences\n",
        "\n",
        "# instantiate a quick agent using your A, B and C arrays\n",
        "#my_agent = Agent( A = A_array, B = B_array, C = C_vector)\n",
        "\n",
        "# give the agent a random observation and get the optimized posterior beliefs\n",
        "\n",
        "#observation = [1, 4] # a list specifying the indices of the observation, for each observation modality\n",
        "\n",
        "#qs = my_agent.infer_states(observation) # get posterior over hidden states (a multi-factor belief)\n",
        "\n",
        "# Do active inference\n",
        "\n",
        "#q_pi, neg_efe = my_agent.infer_policies() # return the policy posterior and return (negative) expected free energies of each policy as well\n",
        "\n",
        "#action = my_agent.sample_action() # sample an action from the posterior over policies\n"
      ]
    },
    {
      "cell_type": "markdown",
      "metadata": {
        "id": "DsBLTLyfuHsU"
      },
      "source": [
        "In pymdp, both generative model distributions (e.g. A or B) as well as posterior distributions over hidden states (e.g. qs) and observations are represented as what we call “object arrays”."
      ]
    },
    {
      "cell_type": "markdown",
      "metadata": {
        "id": "-lH21C0PuWTM"
      },
      "source": [
        "Their array elements can be arbitrary Python data structures or objects. The entries of an object array can thus have arbitrary type and dimensionality."
      ]
    },
    {
      "cell_type": "code",
      "execution_count": null,
      "metadata": {
        "id": "Hu9AFj4rsVk2"
      },
      "outputs": [],
      "source": [
        "import numpy as np\n",
        "import matplotlib.pyplot as plt\n",
        "import seaborn as sns"
      ]
    },
    {
      "cell_type": "markdown",
      "metadata": {
        "id": "If4Qzwkeudy2"
      },
      "source": [
        "Object arrays can be initialized standard numpy constructors, but by also explicitly declaring dtype = object."
      ]
    },
    {
      "cell_type": "code",
      "execution_count": null,
      "metadata": {
        "id": "iufnoK55uBFC"
      },
      "outputs": [],
      "source": [
        "my_empty_array = np.empty(5, dtype = object)"
      ]
    },
    {
      "cell_type": "markdown",
      "metadata": {
        "id": "Wr6w8oa2yzOX"
      },
      "source": [
        "useful functions"
      ]
    },
    {
      "cell_type": "code",
      "execution_count": null,
      "metadata": {
        "id": "MSpgwqo5yyaB"
      },
      "outputs": [],
      "source": [
        "def plot_likelihood(matrix, title_str = \"Likelihood distribution (A)\"):\n",
        "    \"\"\"\n",
        "    Plots a 2-D likelihood matrix as a heatmap\n",
        "    \"\"\"\n",
        "\n",
        "    if not np.isclose(matrix.sum(axis=0), 1.0).all():\n",
        "      raise ValueError(\"Distribution not column-normalized! Please normalize (ensure matrix.sum(axis=0) == 1.0 for all columns)\")\n",
        "\n",
        "    fig = plt.figure(figsize = (6,6))\n",
        "    ax = sns.heatmap(matrix, cmap = 'gray', cbar = False, vmin = 0.0, vmax = 1.0)\n",
        "    plt.title(title_str)\n",
        "    plt.show()\n",
        "\n",
        "\n",
        "def plot_beliefs(belief_dist, title_str=\"\"):\n",
        "    \"\"\"\n",
        "    Plot a categorical distribution or belief distribution, stored in the 1-D numpy vector `belief_dist`\n",
        "    \"\"\"\n",
        "\n",
        "    if not np.isclose(belief_dist.sum(), 1.0):\n",
        "      raise ValueError(\"Distribution not normalized! Please normalize\")\n",
        "\n",
        "    plt.grid(zorder=0)\n",
        "    plt.bar(range(belief_dist.shape[0]), belief_dist, color='r', zorder=3)\n",
        "    plt.xticks(range(belief_dist.shape[0]))\n",
        "    plt.title(title_str)\n",
        "    plt.show()"
      ]
    },
    {
      "cell_type": "markdown",
      "metadata": {
        "id": "oQFWJ8Nwy9Ku"
      },
      "source": [
        "Specify the dimensionalities of the hidden state factors, the control factors, and the observation modalities for the teacher Agent.\n",
        "Here we have: - Teacher belief of student learning state: the prob that the student has learnt the Gravity formula.\n",
        "- Teacher observations come from student actions and can result in [Correct, Not Correct; Hint request];\n",
        "- Teacher actions are [Test Gravity on different Planet; Provide Hint on Gravity parameters].\n",
        "- Teacher hidden state is the Student learning state\n",
        "The actions of the teacher depend on the observation: if the observation is Correct, the action is Test Gravity on different Planet; if the observation is Not Correct or Hint request, the action should be Provide Hint on Gravity parameters. The belief should be updated based on actions and observations to achieve a better posterior belief probability than the starting probability belief on student's learning state.\n",
        "\n",
        "- Student Belief on planets' gravity\n",
        "--use discrete parameters regarding the belief of the student about the parameters involved in the g thoery.\n",
        "- Student Observation: [Correct; Not Correct; Hint on Gravity parameters]\n",
        "- Student actions: [Respond to test on different planet; Ask for Hint]\n",
        "- Student hidden state: The gravity theory used for identifying the right G for every planet\n",
        "\n",
        "The actions of the student depend on the observation:  if the observation is Correct, the action is Respond to test on different Planet and vice versa;  if the observation is Not Correct the action should be Ask Hint on Gravity parameters. The belief should be updated based on actions and observations to achieve a better posterior belief probability than the starting probability belief on Planets' gravity."
      ]
    },
    {
      "cell_type": "markdown",
      "metadata": {
        "id": "ql-KyQF_PlFZ"
      },
      "source": [
        "Definire la belief probability dello studente per quanto riguarda la teoria della gravità, in maniera discreta. Operare come il gioco indovina chi: lo studente haun set di parametri che può chiedere all'insegnante il quale gli risponde Si/No"
      ]
    },
    {
      "cell_type": "code",
      "execution_count": null,
      "metadata": {
        "id": "osRYrWdyy-HK",
        "outputId": "0057d634-24e3-4dd0-f179-de521c30edb1"
      },
      "outputs": [
        {
          "data": {
            "text/plain": [
              "([2, 2], 2)"
            ]
          },
          "execution_count": 27,
          "metadata": {},
          "output_type": "execute_result"
        }
      ],
      "source": [
        "context_names_T = ['Concept Learnt', 'Concept not learnt']\n",
        "choice_names_T = ['Test', 'Hint Parameter']\n",
        "\n",
        "\"\"\" Define `num_states` and `num_factors` below \"\"\"\n",
        "num_states_T = [len(context_names_T), len(choice_names_T)]\n",
        "num_factors_T = len(num_states_T)\n",
        "\n",
        "context_action_names_T = ['Do-nothing']\n",
        "choice_action_names_T = ['Test Gravity on a different planet', 'Provide Hint on gravity parameters']\n",
        "hint_action_names_T = ['Hint on G', 'Hint on Mass and Distance', 'General Hint']\n",
        "\n",
        "\"\"\" Define `num_controls` below \"\"\"\n",
        "num_controls_T = [len(context_action_names_T), len(choice_action_names_T), len(hint_action_names_T)]\n",
        "\n",
        "response_obs_names_T = ['Correct', 'Incorrect',]\n",
        "request_obs_names_T = ['Request Specification', 'No Request']\n",
        "\n",
        "\"\"\" Update `num_obs_P` and `num_modalities_P` below to include all observation categories from the student \"\"\"\n",
        "num_obs_T = [len(response_obs_names_T), len(request_obs_names_T)]\n",
        "num_modalities_T = len(num_obs_T)\n",
        "num_obs_T, num_modalities_T"
      ]
    },
    {
      "cell_type": "markdown",
      "metadata": {
        "id": "-nOgneM_SskV"
      },
      "source": [
        "Specify the dimensionalities of the hidden state factors, the control factors, and the observation modalities for the Student Agent\n"
      ]
    },
    {
      "cell_type": "code",
      "execution_count": null,
      "metadata": {
        "id": "f3ihaehLSwan"
      },
      "outputs": [],
      "source": [
        "context_names_S = ['Concept Learnt', 'Concept not learnt']\n",
        "choice_names_S = ['Question', 'Answer']\n",
        "\n",
        "\"\"\" Define `num_states` and `num_factors` below \"\"\"\n",
        "num_states_S = [len(context_names_S), len(choice_names_S)]\n",
        "num_factors_S = len(num_states_S)\n",
        "\n",
        "context_action_names_S = ['Do-nothing']\n",
        "choice_action_names_S = ['Ask fot specification', 'Respond to question']\n",
        "\n",
        "\"\"\" Define `num_controls` below \"\"\"\n",
        "num_controls_S = [len(context_action_names_S), len(choice_action_names_S)]\n",
        "\n",
        "test_obs_names_S = ['Correct', 'Incorrect']\n",
        "hint_obs_names_S = ['Hint on G', 'Hint on Mass', 'Hint on R']\n",
        "question_obs_names_S = ['Simple Gravity Question', 'Gravity Question on New Planet']\n",
        "\n",
        "\"\"\" Update `num_obs_S` and `num_modalities_S` below to include all observation categories \"\"\"\n",
        "num_obs_S = [len(test_obs_names_S), len(hint_obs_names_S), len(question_obs_names_S)]\n",
        "num_modalities_S = len(num_obs_S)"
      ]
    },
    {
      "cell_type": "markdown",
      "metadata": {
        "id": "N5_mxWD62ETI"
      },
      "source": [
        "start from here and go to A matrix definition"
      ]
    },
    {
      "cell_type": "code",
      "execution_count": null,
      "metadata": {
        "id": "Wco3vMo32mXU"
      },
      "outputs": [],
      "source": [
        "import pymdp\n",
        "from pymdp import utils\n",
        "from pymdp.maths import softmax"
      ]
    },
    {
      "cell_type": "code",
      "execution_count": null,
      "metadata": {
        "id": "gokWkl2k2WIY",
        "outputId": "098f3a01-a8ed-4ef4-c1ed-4c659a9f23c4"
      },
      "outputs": [
        {
          "name": "stdout",
          "output_type": "stream",
          "text": [
            "[None None] [None None None]\n"
          ]
        }
      ],
      "source": [
        "# For the teacher\n",
        "num_modalities_T = len(response_obs_names_T)  # Adjust this based on your actual model\n",
        "A_teacher = utils.obj_array(num_modalities_T)\n",
        "\n",
        "# For the student\n",
        "num_modalities_S = len(hint_obs_names_S)  # Adjust this based on your actual model\n",
        "A_student = utils.obj_array(num_modalities_S)\n",
        "print(A_teacher, A_student)"
      ]
    },
    {
      "cell_type": "code",
      "execution_count": null,
      "metadata": {
        "id": "WtZmU8f39m0v",
        "outputId": "513eb553-2917-4908-a30a-b5aeaf40e80d"
      },
      "outputs": [
        {
          "data": {
            "text/plain": [
              "(['Test', 'Hint Parameter'], ['Concept Learnt', 'Concept not learnt'])"
            ]
          },
          "execution_count": 22,
          "metadata": {},
          "output_type": "execute_result"
        }
      ],
      "source": [
        "choice_names_T, context_names_T"
      ]
    },
    {
      "cell_type": "code",
      "execution_count": null,
      "metadata": {
        "id": "vrK1SXXJz7u1",
        "outputId": "ae53ed89-b050-484c-bef3-4e640966341d"
      },
      "outputs": [
        {
          "name": "stdout",
          "output_type": "stream",
          "text": [
            "[[[0.2, 0.8], [0.3, 0.7]], [[0.2, 0.8], [0.3, 0.7]]]\n",
            "[[[0.2, 0.8], [0.8, 0.2]], [[0.2, 0.8], [0.8, 0.2]]]\n",
            "[[[793, 479], [89, 567]], [[793, 479], [89, 567]]]\n"
          ]
        }
      ],
      "source": [
        "# A_teacher =   [  Modalità 1: [\n",
        "#                       Response: [prob_correct, prob_incorrect],\n",
        "#                       Request: [prob_request_spec, prob_no_request] ],\n",
        "#                  Modalità 2: [\n",
        "#                       Response: [prob_correct, prob_incorrect],\n",
        "#                       Request:[prob_request_spec, prob_no_request] ]\n",
        "#               ]\n",
        "\n",
        "A_teacher = [\n",
        "    [\n",
        "        [0.2, 0.8],  # response\n",
        "        [0.3, 0.7],  # request\n",
        "    ], # first modality\n",
        "    [\n",
        "        [0.2, 0.8],  # response\n",
        "        [0.3, 0.7],  # request\n",
        "    ], # second modality\n",
        "]\n",
        "print(A_teacher)\n",
        "\n",
        "#  alternative fill with cycle\n",
        "prob_correct = 0.2\n",
        "prob_incorrect = 0.8\n",
        "prob_request_spec = 0.8\n",
        "prob_no_request = 0.2\n",
        "for modalities in range(len([1,2])):\n",
        "    for obs in ['response', 'request']:\n",
        "        if obs == 'response':\n",
        "            A_teacher[modalities][0] = [prob_correct, prob_incorrect]\n",
        "        elif obs == 'request':\n",
        "            A_teacher[modalities][1] = [prob_request_spec, prob_no_request]\n",
        "\n",
        "print(A_teacher)\n",
        "\n",
        "# A_teacher = utils.obj_array_from_list(A_teacher)\n",
        "A_teacher\n",
        "\n",
        "# alternative with prob dist\n",
        "#  alternative fill with cycle\n",
        "from random import sample\n",
        "prob_dist_response = sample(range(1000), 2)\n",
        "prob_dist_request = sample(range(1000), 2)\n",
        "for modalities in range(len([1,2])):\n",
        "    for obs in ['response', 'request']:\n",
        "        if obs == 'response':\n",
        "            A_teacher[modalities][0] = prob_dist_response\n",
        "        elif obs == 'request':\n",
        "            A_teacher[modalities][1] = prob_dist_request\n",
        "\n",
        "print(A_teacher)"
      ]
    },
    {
      "cell_type": "code",
      "execution_count": null,
      "metadata": {
        "id": "hEgWqGMu9m0w",
        "outputId": "3ef8ce4a-990f-4727-d283-8fbe52156002"
      },
      "outputs": [
        {
          "ename": "TypeError",
          "evalue": "list indices must be integers or slices, not tuple",
          "output_type": "error",
          "traceback": [
            "\u001b[0;31m---------------------------------------------------------------------------\u001b[0m",
            "\u001b[0;31mTypeError\u001b[0m                                 Traceback (most recent call last)",
            "Cell \u001b[0;32mIn[45], line 14\u001b[0m\n\u001b[1;32m     12\u001b[0m \u001b[38;5;28;01mfor\u001b[39;00m context_id \u001b[38;5;129;01min\u001b[39;00m \u001b[38;5;28mrange\u001b[39m(\u001b[38;5;28mlen\u001b[39m(context_names_T)):\n\u001b[1;32m     13\u001b[0m     \u001b[38;5;28;01mif\u001b[39;00m context_id \u001b[38;5;241m==\u001b[39m \u001b[38;5;241m0\u001b[39m: \u001b[38;5;66;03m# Concept Learnt\u001b[39;00m\n\u001b[0;32m---> 14\u001b[0m         \u001b[43mA_teacher\u001b[49m\u001b[43m[\u001b[49m\u001b[43m:\u001b[49m\u001b[43m,\u001b[49m\u001b[43m \u001b[49m\u001b[43mcontext_id\u001b[49m\u001b[43m,\u001b[49m\u001b[43m \u001b[49m\u001b[43mchoice_id\u001b[49m\u001b[43m]\u001b[49m \u001b[38;5;241m=\u001b[39m [p_correct, p_incorrect]\n\u001b[1;32m     15\u001b[0m     \u001b[38;5;28;01melse\u001b[39;00m: \u001b[38;5;66;03m# Concept Not Learnt\u001b[39;00m\n\u001b[1;32m     16\u001b[0m         A_teacher[:, context_id, choice_id] \u001b[38;5;241m=\u001b[39m [p_incorrect, p_correct]\n",
            "\u001b[0;31mTypeError\u001b[0m: list indices must be integers or slices, not tuple"
          ]
        }
      ],
      "source": [
        "# Teacher's perspective: Effect of actions on observing student responses\n",
        "p_correct = 0.7  # Probability that the student responds correctly to a question after a hint\n",
        "p_incorrect = 0.3  # Probability of incorrect response\n",
        "\n",
        "\n",
        "for choice_id, choice_name in enumerate(choice_names_T):\n",
        "    if choice_name == 'Test':\n",
        "\n",
        "        # For each context (concept learnt or not), we need to provide probabilities for all response types\n",
        "        # Since `A_teacher[:, context, choice]` expects an array matching the number of response types,\n",
        "        # and given we have 2 contexts, we should iterate over contexts instead of directly assigning to them\n",
        "        for context_id in range(len(context_names_T)):\n",
        "            if context_id == 0: # Concept Learnt\n",
        "                A_teacher[:, context_id, choice_id] = [p_correct, p_incorrect]\n",
        "            else: # Concept Not Learnt\n",
        "                A_teacher[:, context_id, choice_id] = [p_incorrect, p_correct]\n",
        "            print(A_teacher)\n",
        "    elif choice_names_T == 'Hint Parameter':\n",
        "        # Repeat the logic for 'Hint Parameter', adjusting probabilities as needed\n",
        "        for context_id in range(len(context_names_T)):\n",
        "            if context_id == 0: # Concept Learnt, hint improves chances\n",
        "                A_teacher[:, context_id, choice_id] = [p_correct + 0.1, p_incorrect - 0.05]\n",
        "            else: # Concept Not Learnt, hint slightly improves understanding\n",
        "                A_teacher[:, context_id, choice_id] = [p_incorrect - 0.05, p_correct + 0.1]\n",
        "\n",
        "\n",
        "\n",
        "# Student's perspective: Effect of teacher's actions on receiving hints\n",
        "p_hint_received = 0.9  # Probability of effectively receiving and understanding a hint\n",
        "p_no_hint = 0.1  # Probability of not receiving or misunderstanding the hint\n",
        "\n",
        "for choice_id, choice_name in enumerate(choice_names_S):\n",
        "    if choice_names_S == 'Ask for Specification':\n",
        "        A_student[:, :, choice_id] = np.array([[p_no_hint, p_hint_received],  # No Hint, Hint received\n",
        "                                               [p_hint_received, p_no_hint]])  # High chance of getting a useful hint\n",
        "    elif choice_names_S == 'Respond to Question':\n",
        "        A_student[:, :, choice_id] = np.array([[1.0, 0.0],  # Default response, no new hint provided\n",
        "                                               [0.0, 1.0]])  # No operation for this action, placeholder\n",
        "\n",
        "# Assuming A is your observation model array for the entire system\n",
        "A = [None, None]  # Placeholder for the system's observation models\n",
        "A[0] = A_teacher  # Update the teacher's observation model with the newly defined matrix\n",
        "A[1] = A_student  # Update the student's observation model\n"
      ]
    },
    {
      "cell_type": "code",
      "execution_count": null,
      "metadata": {
        "id": "LAckkj-q9m0x",
        "outputId": "722377bf-406e-4b4a-c090-9198a5e0c66e"
      },
      "outputs": [
        {
          "data": {
            "text/plain": [
              "[array([None, None], dtype=object), array([None, None, None], dtype=object)]"
            ]
          },
          "execution_count": 13,
          "metadata": {},
          "output_type": "execute_result"
        }
      ],
      "source": [
        "A"
      ]
    },
    {
      "cell_type": "markdown",
      "metadata": {
        "id": "-2SFTdeaNzwj"
      },
      "source": [
        "test for error"
      ]
    },
    {
      "cell_type": "code",
      "execution_count": null,
      "metadata": {
        "colab": {
          "base_uri": "https://localhost:8080/"
        },
        "id": "OnFubLZJMryR",
        "outputId": "fd72975c-d3e6-4797-f766-08debb6ec34f"
      },
      "outputs": [
        {
          "ename": "TypeError",
          "evalue": "list indices must be integers or slices, not tuple",
          "output_type": "error",
          "traceback": [
            "\u001b[0;31m---------------------------------------------------------------------------\u001b[0m",
            "\u001b[0;31mTypeError\u001b[0m                                 Traceback (most recent call last)",
            "Cell \u001b[0;32mIn[46], line 2\u001b[0m\n\u001b[1;32m      1\u001b[0m \u001b[38;5;66;03m# Example debug print statement before an assignment\u001b[39;00m\n\u001b[0;32m----> 2\u001b[0m \u001b[38;5;28mprint\u001b[39m(\u001b[38;5;124m\"\u001b[39m\u001b[38;5;124mTarget slice shape:\u001b[39m\u001b[38;5;124m\"\u001b[39m, \u001b[43mA_teacher\u001b[49m\u001b[43m[\u001b[49m\u001b[43m:\u001b[49m\u001b[43m,\u001b[49m\u001b[43m \u001b[49m\u001b[43m:\u001b[49m\u001b[43m,\u001b[49m\u001b[43m \u001b[49m\u001b[43mchoice_id\u001b[49m\u001b[43m]\u001b[49m\u001b[38;5;241m.\u001b[39mshape)\n\u001b[1;32m      3\u001b[0m \u001b[38;5;28mprint\u001b[39m(\u001b[38;5;124m\"\u001b[39m\u001b[38;5;124mData shape:\u001b[39m\u001b[38;5;124m\"\u001b[39m, np\u001b[38;5;241m.\u001b[39marray([[p_correct, p_incorrect], [p_incorrect, p_correct]])\u001b[38;5;241m.\u001b[39mshape)\n",
            "\u001b[0;31mTypeError\u001b[0m: list indices must be integers or slices, not tuple"
          ]
        }
      ],
      "source": [
        "# Example debug print statement before an assignment\n",
        "print(\"Target slice shape:\", A_teacher[:, :, choice_id].shape)\n",
        "print(\"Data shape:\", np.array([[p_correct, p_incorrect], [p_incorrect, p_correct]]).shape)\n"
      ]
    },
    {
      "cell_type": "code",
      "execution_count": null,
      "metadata": {
        "id": "6mzJ-p3DO-Ef"
      },
      "outputs": [],
      "source": [
        "plot_likelihood(A_teacher[:, :, 0], title_str=\"Probability of Student Responses to a Test\")"
      ]
    },
    {
      "cell_type": "code",
      "execution_count": null,
      "metadata": {
        "id": "pypgqoM3W8s1"
      },
      "outputs": [],
      "source": [
        "# Here we are plotting the probabilities for the 'Test' action (choice_id 0)\n",
        "sns.heatmap(A_teacher[:, :, 0], annot=True, cmap='Blues', cbar=True)\n",
        "plt.yticks(ticks=[0.5, 1.5], labels=['Concept Learnt', 'Concept Not Learnt'], rotation=0)\n",
        "plt.xticks(ticks=[0.5, 1.5], labels=['Correct', 'Incorrect'])\n",
        "plt.title(\"Probability of Student Responses to a Test\")\n",
        "plt.ylabel(\"Teacher's belief about student's concept understanding\")\n",
        "plt.xlabel(\"Student response to test\")\n",
        "plt.show()"
      ]
    },
    {
      "cell_type": "code",
      "execution_count": null,
      "metadata": {
        "id": "lqzJT3TmXNH_"
      },
      "outputs": [],
      "source": [
        "# Here we are plotting the probabilities for the 'Ask for Specification' action (choice_id 0)\n",
        "sns.heatmap(A_student[:, :, 0], annot=True, cmap='Blues', cbar=True)\n",
        "plt.yticks(ticks=[0.5, 1.5], labels=['Question Received', 'Hint Received'], rotation=0)\n",
        "plt.xticks(ticks=[0.5, 1.5], labels=['No Hint', 'Hint Given'])\n",
        "plt.title(\"Probability of Receiving Hints from the Teacher\")\n",
        "plt.ylabel(\"Student's perception of teacher's action\")\n",
        "plt.xlabel(\"Type of teacher's hint\")\n",
        "plt.show()"
      ]
    },
    {
      "cell_type": "markdown",
      "metadata": {
        "id": "yZO35nkT7k0G"
      },
      "source": [
        " choice observation modality for the student, a sub-array of A which we'll call A_choice_S"
      ]
    },
    {
      "cell_type": "code",
      "execution_count": null,
      "metadata": {
        "id": "2aGuvRyL7jxp"
      },
      "outputs": [],
      "source": [
        "A_choice_S = np.zeros((len(test_obs_names_S), len(context_names_S), len(choice_names_S)))\n",
        "\n",
        "for choice_id in range(len(choice_names_S)):\n",
        "\n",
        "  A_choice_S[choice_id, :, choice_id] = 1.0\n",
        "\n",
        "A[1] = A_choice_S"
      ]
    },
    {
      "cell_type": "code",
      "execution_count": null,
      "metadata": {
        "id": "Vcg39Dle-Iae"
      },
      "outputs": [],
      "source": [
        "\"\"\" Condition on context (first hidden state factor) and display the remaining indices (outcome and choice state) \"\"\"\n",
        "\n",
        "plot_likelihood(A[1][:,0,:], \"Mapping between Student's sensed states and true states\")"
      ]
    },
    {
      "cell_type": "markdown",
      "metadata": {
        "id": "lQOg-Iw6_BRn"
      },
      "source": [
        " choice observation modality for the teacher, a sub-array of A which we'll call A_choice_T"
      ]
    },
    {
      "cell_type": "code",
      "execution_count": null,
      "metadata": {
        "id": "7r-frFNC_AUb"
      },
      "outputs": [],
      "source": [
        "A_choice_T = np.zeros((len(response_obs_names_T), len(context_names_T), len(choice_names_T)))\n",
        "\n",
        "for choice_id in range(len(choice_names_T)):\n",
        "\n",
        "  A_choice_T[choice_id, :, choice_id] = 1.0\n",
        "\n",
        "A[1] = A_choice_T"
      ]
    },
    {
      "cell_type": "code",
      "execution_count": null,
      "metadata": {
        "id": "1eS8aiv6_nkq"
      },
      "outputs": [],
      "source": [
        "plot_likelihood(A[1][:,0,:], \"Mapping between Teacher's sensed states and true states\")"
      ]
    },
    {
      "cell_type": "markdown",
      "metadata": {
        "id": "6YaYd2GyBQab"
      },
      "source": [
        "B Matrix - transition matrix -  encodes the probabilities of transitioning from one hidden state to another given a particular action.\n",
        "\n",
        "For the teacher agent, the B matrix could represent the probability of the student's learning state transitioning from one level of understanding to another (e.g., from 'partially understands' to 'fully understands') as a result of the teacher's actions (e.g., providing a hint, conducting a test).\n",
        "\n",
        "For the student agent, the B matrix could reflect the change in the student's own internal state of knowledge about gravity as a consequence of their actions (e.g., studying, asking for clarification) or in response to the teacher's actions."
      ]
    },
    {
      "cell_type": "code",
      "execution_count": null,
      "metadata": {
        "id": "JxhV_njySOIX"
      },
      "outputs": [],
      "source": [
        "# Assuming the teacher's model is concerned with the student's learning state\n",
        "num_states_T = 2  # [Concept not learnt, Concept learnt]\n",
        "num_actions_T = 2  # [Test, Provide Hint]\n",
        "B_T = np.zeros((num_states_T, num_states_T, num_actions_T))\n",
        "\n",
        "# Assuming \"Test\" action doesn't change the student's state directly\n",
        "B_T[:, :, 0] = np.eye(num_states_T)\n",
        "\n",
        "# Assuming \"Provide Hint\" can potentially lead to learning\n",
        "# Placeholder probabilities for transition under \"Provide Hint\"\n",
        "prob_hint_success = 0.2  # Chance that hint leads to learning\n",
        "B_T[:, :, 1] = np.array([[0.8, prob_hint_success],\n",
        "                               [0.2, 0.8]])  # Slight chance of unlearning if misconceptions are reinforced"
      ]
    },
    {
      "cell_type": "code",
      "execution_count": null,
      "metadata": {
        "id": "O3jRbAGHSniD"
      },
      "outputs": [],
      "source": [
        "# Assuming the student's model reflects their own learning progress\n",
        "num_states_S = 2  # Same as teacher, for simplicity\n",
        "num_actions_S = 2  # [Ask for specification, Respond to question]\n",
        "B_S = np.zeros((num_states_S, num_states_S, num_actions_S))\n",
        "\n",
        "# Assuming \"Ask for specification\" doesn't change the state\n",
        "B_S[:, :, 0] = np.eye(num_states_S)\n",
        "\n",
        "# \"Respond to question\" might change the learning state, based on the correctness of response\n",
        "prob_response_success = 0.3  # Chance of improving understanding after responding\n",
        "B_S[:, :, 1] = np.array([[0.7, prob_response_success],\n",
        "                               [0.3, 0.7]])  # Reflecting the learning process\n"
      ]
    },
    {
      "cell_type": "code",
      "execution_count": null,
      "metadata": {
        "id": "hABDObWmOq_b"
      },
      "outputs": [],
      "source": [
        "# Teacher Model\n",
        "num_states_T = [len(context_names_T), len(choice_names_T)]\n",
        "num_factors_T = len(num_states_T)\n",
        "\n",
        "# Transition probability matrix for concept learning\n",
        "B_concept_T = np.zeros((num_states_T[0], num_states_T[0], num_controls_T[1]))\n",
        "\n",
        "# Assuming the 'Test Gravity on a different planet' action does not change the concept learning state\n",
        "B_concept_T[:, :, 0] = np.eye(num_states_T[0])\n",
        "\n",
        "B_concept_T /= B_concept_T.sum(axis=0, keepdims=True)\n",
        "\n",
        "# Assuming the 'Provide Hint on gravity parameters' action can change the concept learning state\n",
        "# Placeholder probabilities\n",
        "B_concept_T[:, :, 1] = np.array([[0.9, 0.1], [0.1, 0.9]])\n",
        "\n",
        "\n",
        "B_T = utils.obj_array(num_factors_T)\n",
        "B_T[0] = B_concept_T  # Assign the transition matrix for concept learning to the first factor\n"
      ]
    },
    {
      "cell_type": "code",
      "execution_count": null,
      "metadata": {
        "id": "MddxB4ZLO-5Q"
      },
      "outputs": [],
      "source": [
        "# Student Model\n",
        "num_states_S = [len(context_names_S), len(choice_names_S)]\n",
        "num_factors_S = len(num_states_S)\n",
        "\n",
        "# Transition probability matrix for concept learning\n",
        "B_concept_S = np.zeros((num_states_S[0], num_states_S[0], num_controls_S[1]))\n",
        "\n",
        "# Assuming the 'Ask for specification' action does not directly change the learning state\n",
        "B_concept_S[:, :, 0] = np.eye(num_states_S[0])\n",
        "\n",
        "# Assuming the 'Respond to question' action reflects understanding and could change the learning state\n",
        "# Placeholder probabilities\n",
        "B_concept_S[:, :, 1] = np.array([[0.8, 0.2], [0.2, 0.8]])\n",
        "\n",
        "B_S = utils.obj_array(num_factors_S)\n",
        "B_S[0] = B_concept_S  # Assign the transition matrix for concept learning to the first factor"
      ]
    },
    {
      "cell_type": "code",
      "execution_count": null,
      "metadata": {
        "id": "yYWBtcXjP7kK"
      },
      "outputs": [],
      "source": [
        "assert all(elem is not None for elem in B_S), \"Some elements of B_S are undefined\"\n",
        "assert all(elem is not None for elem in B_T), \"Some elements of B_T are undefined\"\n"
      ]
    },
    {
      "cell_type": "markdown",
      "metadata": {
        "id": "dRnoFiARCSWH"
      },
      "source": [
        "C vector - It encodes the desirability of different observations or outcomes from the agent's perspective."
      ]
    },
    {
      "cell_type": "code",
      "execution_count": null,
      "metadata": {
        "id": "N6M0GJ7t7pYv"
      },
      "outputs": [],
      "source": [
        "\n",
        "\n",
        "# Initialize the C vectors for the teacher and the student with the correct number of observation modalities\n",
        "C_T = utils.obj_array(2)\n",
        "C_S = utils.obj_array(2)\n",
        "\n",
        "# Define and assign preferences for the teacher's C vector\n",
        "C_T[0] = softmax(np.array([1.0, -1.0]))  # the first modality (response) prefers correct answers over incorrect\n",
        "C_T[1] = softmax(np.array([-0.5, 0.0]))  # the second modality (request) slightly disincentivizes requests\n",
        "\n",
        "C_S[0] = softmax(np.array([1.0, -1.0]))  # Preferences for 'test' modality (Correct, Incorrect)\n",
        "C_S[1] = softmax(np.zeros(2))  # Neutral preferences for 'hint' modality (Hint on G, Hint on Mass and Distance, General Hint)\n",
        "#C_S[2] = softmax(np.zeros(2))  # Neutral preferences for the third modality (question)\n"
      ]
    },
    {
      "cell_type": "code",
      "execution_count": null,
      "metadata": {
        "id": "NhHDTcrlEnP3"
      },
      "outputs": [],
      "source": [
        "response_obs_names_T = ['Correct', 'Incorrect']  # Example, adjust as needed\n",
        "\n",
        "# Initialize the rewards for the response observations\n",
        "C_T_response = np.zeros(len(response_obs_names_T))\n",
        "C_T_response[0] = -4.0  # Disliking incorrect answers\n",
        "C_T_response[1] = 2.0   # Preferring correct answers\n",
        "\n",
        "# Apply softmax to convert the rewards into preferences (probabilities)\n",
        "C_T[0] = softmax(C_T_response)  # Assuming the first modality relates to response observations\n",
        "\n",
        "# Plot the beliefs (preferences) for the teacher's prior preferences on student responses\n",
        "plot_beliefs(softmax(C_T_response), title_str=\"Teacher Prior Preferences on Student Responses\")"
      ]
    },
    {
      "cell_type": "markdown",
      "metadata": {
        "id": "87Fs8EgQFuDQ"
      },
      "source": [
        "D Vector - the agent's belief about the state of the world before any observations are made."
      ]
    },
    {
      "cell_type": "code",
      "execution_count": null,
      "metadata": {
        "id": "pOh2tWKSGGDL"
      },
      "outputs": [],
      "source": [
        "D_S = utils.obj_array(num_factors_S)\n",
        "\n",
        "D_S_context = np.array([0.5,0.5])\n",
        "\n",
        "D_S[0] = D_S_context\n",
        "\n",
        "D_S_choice = np.zeros(len(choice_names_S))\n",
        "\n",
        "D_S_choice[choice_names_S.index(\"Respond to Question\")] = 1.0\n",
        "\n",
        "D_S[1] = D_S_choice\n",
        "\n",
        "print(f'Student beliefs about learning state: {D_S[0]}')\n",
        "print(f'Student beliefs about starting location: {D_S[1]}')"
      ]
    },
    {
      "cell_type": "code",
      "execution_count": null,
      "metadata": {
        "id": "_cgg5QIoIIdB"
      },
      "outputs": [],
      "source": [
        "D_T = utils.obj_array(num_factors_S)\n",
        "\n",
        "D_T_context = np.array([0.5,0.5])\n",
        "\n",
        "D_T[0] = D_T_context\n",
        "\n",
        "D_T_choice = np.zeros(len(choice_names_T))\n",
        "\n",
        "D_T_choice[choice_names_T.index(\"Test\")] = 1.0\n",
        "\n",
        "D_T[1] = D_T_choice\n",
        "\n",
        "print(f'Teacher beliefs about learning state: {D_S[0]}')\n",
        "print(f'Teacher beliefs about starting location: {D_S[1]}')"
      ]
    },
    {
      "cell_type": "markdown",
      "metadata": {
        "id": "8EvmT-oKIiEj"
      },
      "source": [
        "Agents Construction"
      ]
    },
    {
      "cell_type": "markdown",
      "metadata": {
        "id": "K3SSvzH2LXh9"
      },
      "source": [
        "Normalization of the matrix"
      ]
    },
    {
      "cell_type": "code",
      "execution_count": null,
      "metadata": {
        "id": "ubDAYJkELYhp"
      },
      "outputs": [],
      "source": [
        "def normalize_matrix(matrix):\n",
        "    \"\"\"\n",
        "    Normalizes a given matrix so that each column sums to 1.\n",
        "    Assumes the first axis represents different observations.\n",
        "    \"\"\"\n",
        "    column_sums = matrix.sum(axis=0, keepdims=True)\n",
        "    normalized_matrix = matrix / column_sums\n",
        "    return normalized_matrix\n",
        "\n",
        "# Assuming A_student is an object array of observation matrices\n",
        "A_student_normalized = np.empty_like(A_student, dtype=object)\n",
        "\n",
        "for mod_idx, matrix in enumerate(A_student):\n",
        "    A_student_normalized[mod_idx] = normalize_matrix(matrix)\n",
        "\n",
        "\n",
        "A_teacher_normalized = A_teacher / A_teacher.sum(axis=0, keepdims=True)"
      ]
    },
    {
      "cell_type": "code",
      "execution_count": null,
      "metadata": {
        "id": "aCn4886XIkfU"
      },
      "outputs": [],
      "source": [
        "from pymdp.agent import Agent\n",
        "\n",
        "my_agent_S = Agent(A = A_student_normalized, B = B_S, C = C_S, D = D_S)"
      ]
    },
    {
      "cell_type": "code",
      "execution_count": null,
      "metadata": {
        "id": "2yVW4cqiTfse"
      },
      "outputs": [],
      "source": [
        "my_agent_T = Agent(A = A_teacher_normalized, B = B_T, C = C_T, D = D_T)"
      ]
    },
    {
      "cell_type": "markdown",
      "metadata": {
        "id": "Ff5Q7RF2GJGI"
      },
      "source": []
    }
  ],
  "metadata": {
    "colab": {
      "provenance": [],
      "include_colab_link": true
    },
    "kernelspec": {
      "display_name": "Python 3",
      "name": "python3"
    },
    "language_info": {
      "codemirror_mode": {
        "name": "ipython",
        "version": 3
      },
      "file_extension": ".py",
      "mimetype": "text/x-python",
      "name": "python",
      "nbconvert_exporter": "python",
      "pygments_lexer": "ipython3",
      "version": "3.1.undefined"
    }
  },
  "nbformat": 4,
  "nbformat_minor": 0
}